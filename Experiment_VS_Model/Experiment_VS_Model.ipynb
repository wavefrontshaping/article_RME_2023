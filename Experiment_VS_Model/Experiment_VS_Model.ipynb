{
 "cells": [
  {
   "cell_type": "code",
   "execution_count": null,
   "metadata": {
    "ExecuteTime": {
     "end_time": "2023-02-24T09:12:49.955984Z",
     "start_time": "2023-02-24T09:12:48.239657Z"
    }
   },
   "outputs": [],
   "source": [
    "import numpy as np\n",
    "import matplotlib.pyplot as plt\n",
    "import glob\n",
    "from pathlib import Path\n",
    "from itertools import product as prod\n",
    "from scipy.optimize import curve_fit\n",
    "from scipy.linalg import expm\n",
    "from scipy.integrate import quad\n",
    "from colorsys import hls_to_rgb\n",
    "import pickle, os, sys\n",
    "import scipy.optimize\n",
    "from scipy.interpolate import interp1d\n",
    "from scipy.linalg import expm\n",
    "\n",
    "sys.path.append(\"../common\")\n",
    "sys.path.insert(0, \"../pyMMF\")\n",
    "\n",
    "from functions import (\n",
    "    stack_correlation,\n",
    "    fidelity,\n",
    "    get_disk_mask,\n",
    "    colorize,\n",
    "    logplotTM,\n",
    "    get_color_map,\n",
    "    generate_color_shades,\n",
    "    load_complex32,\n",
    ")\n",
    "\n",
    "import pyMMF"
   ]
  },
  {
   "cell_type": "code",
   "execution_count": null,
   "metadata": {},
   "outputs": [],
   "source": [
    "# check that we are using the local version of pyMMF\n",
    "print(f\"pyMMF file: {pyMMF.__file__}\")"
   ]
  },
  {
   "attachments": {},
   "cell_type": "markdown",
   "metadata": {},
   "source": [
    "## Prerequesites"
   ]
  },
  {
   "attachments": {},
   "cell_type": "markdown",
   "metadata": {},
   "source": [
    "Set `FIBER` to:\n",
    "- `Draka_GRIN` for the [Prysmina BendBright™ OM4 fiber](https://www.prysmiangroup.com/en/bendbright-tm-om4),\n",
    "- `TL_GRIN_1`, for a segment of the [Tholabs OM2 GIF50C fiber](https://www.thorlabs.de/thorProduct.cfm?partNumber=GIF50C)\n",
    "- `TL_GRIN_2` or `TL_GRIN_3` for two segment of the same [Tholabs OM2 GIF50C fiber](https://www.thorlabs.de/thorProduct.cfm?partNumber=GIF50C)"
   ]
  },
  {
   "cell_type": "code",
   "execution_count": null,
   "metadata": {},
   "outputs": [],
   "source": [
    "FIBER = 'Draka_GRIN'\n",
    "# FIBER = \"TL_GRIN\"\n",
    "DATA_PATH = Path(\"../Data\") / FIBER\n",
    "\n",
    "# path to save images\n",
    "IMAGE_FOLDER = Path(\"../images\") / FIBER\n",
    "os.makedirs(IMAGE_FOLDER, exist_ok=True)\n",
    "\n",
    "\n",
    "def file_path(file_name):\n",
    "    return DATA_PATH / file_name\n",
    "\n",
    "\n",
    "def image_path(file_name):\n",
    "    return IMAGE_FOLDER / file_name"
   ]
  },
  {
   "attachments": {},
   "cell_type": "markdown",
   "metadata": {},
   "source": [
    "**Parameters for plots**"
   ]
  },
  {
   "cell_type": "code",
   "execution_count": null,
   "metadata": {},
   "outputs": [],
   "source": [
    "REF_SIZE = 24\n",
    "TICK_SIZE = REF_SIZE\n",
    "LEGEND_SIZE = REF_SIZE - 4\n",
    "LABEL_SIZE = REF_SIZE + 2\n",
    "TITLE_SIZE = REF_SIZE + 2\n",
    "SMALL_TITLE_SIZE = REF_SIZE\n",
    "TINY_TITLE_SIZE = REF_SIZE - 4\n",
    "SUP_TITLE_SIZE = REF_SIZE + 6\n",
    "FIGSIZE = (8, 5)\n",
    "SAVE_FIG = True"
   ]
  },
  {
   "cell_type": "code",
   "execution_count": null,
   "metadata": {
    "ExecuteTime": {
     "end_time": "2023-02-24T09:13:10.969486Z",
     "start_time": "2023-02-24T09:13:10.962470Z"
    }
   },
   "outputs": [],
   "source": [
    "def get_rotation_matrix(m, l, alpha):\n",
    "    return np.diag(np.exp(1j * np.array(m) * alpha))\n",
    "\n",
    "\n",
    "def sort(A):\n",
    "    return A[ml_sorted_idx, :][:, ml_sorted_idx]\n",
    "\n",
    "\n",
    "def leq(A, l_val):\n",
    "    ind = select_l(l_val)\n",
    "    return A[ind, :][:, ind]\n",
    "\n",
    "\n",
    "def leq1(A):\n",
    "    return leq(A, 1)\n",
    "\n",
    "\n",
    "def meq0(A):\n",
    "    return A[meq0_sorted_idx, :][:, meq0_sorted_idx]\n",
    "\n",
    "\n",
    "def ipr_m(A):\n",
    "    # I = np.abs(A)**2\n",
    "    # return np.sum(I*deltaM)**2/np.sum(I**2)\n",
    "    dm_max = int(np.max(deltaM))\n",
    "    I_dm = []\n",
    "    for dm in range(dm_max + 1):\n",
    "        mask = deltaM == dm\n",
    "        I_dm.append(np.sum(mask * np.abs(A) ** 2) / np.sum(mask))\n",
    "    I_dm = np.array(I_dm)\n",
    "    return np.sum(I_dm**2) / np.sum(I_dm) ** 2\n",
    "\n",
    "\n",
    "def corr(A, B):\n",
    "    A = A - np.mean(A)\n",
    "    B = B - np.mean(B)\n",
    "    return np.sum(A * B.conjugate()) / np.sqrt(\n",
    "        np.sum(A * A.conjugate()) * np.sum(B * B.conjugate())\n",
    "    )"
   ]
  },
  {
   "cell_type": "code",
   "execution_count": null,
   "metadata": {},
   "outputs": [],
   "source": [
    "data2save = {}\n",
    "print('==> Saving to ', str(DATA_PATH))\n",
    "\n",
    "def save_data():\n",
    "    pickle.dump(data2save, open(DATA_PATH / \"processed_data_001_c.pkl\", \"wb\"))"
   ]
  },
  {
   "attachments": {},
   "cell_type": "markdown",
   "metadata": {},
   "source": [
    "# I. Simulation of the fiber modes"
   ]
  },
  {
   "attachments": {},
   "cell_type": "markdown",
   "metadata": {},
   "source": [
    "## A. Simulation parameters \n",
    "(to match the experimental fiber)"
   ]
  },
  {
   "cell_type": "code",
   "execution_count": null,
   "metadata": {
    "ExecuteTime": {
     "end_time": "2023-02-24T09:13:56.900504Z",
     "start_time": "2023-02-24T09:13:56.894994Z"
    }
   },
   "outputs": [],
   "source": [
    "NA = 0.2\n",
    "radius = 25  # in microns\n",
    "areaSize = (\n",
    "    2.4 * radius\n",
    ")  # calculate the field on an area larger than the diameter of the fiber\n",
    "npoints = 2**8  # resolution of the window\n",
    "n1 = 1.45\n",
    "wl = 1.55  # wavelength in microns\n",
    "curvature = None\n",
    "k0 = 2.0 * np.pi / wl\n",
    "\n",
    "\n",
    "r_max = 3.2 * radius\n",
    "npoints_search = 2**8\n",
    "dh = 2 * radius / npoints_search"
   ]
  },
  {
   "attachments": {},
   "cell_type": "markdown",
   "metadata": {},
   "source": [
    "## B. Find modes of straight fiber"
   ]
  },
  {
   "attachments": {},
   "cell_type": "markdown",
   "metadata": {},
   "source": [
    "### B.1 Create the fiber index profile"
   ]
  },
  {
   "cell_type": "code",
   "execution_count": null,
   "metadata": {
    "ExecuteTime": {
     "end_time": "2023-02-24T09:13:05.221042Z",
     "start_time": "2023-02-24T09:13:05.212291Z"
    }
   },
   "outputs": [],
   "source": [
    "profile = pyMMF.IndexProfile(npoints=npoints, areaSize=areaSize)\n",
    "profile.initParabolicGRIN(n1=n1, a=radius, NA=NA)"
   ]
  },
  {
   "attachments": {},
   "cell_type": "markdown",
   "metadata": {},
   "source": [
    "### B.2 Instantiate the solver"
   ]
  },
  {
   "cell_type": "code",
   "execution_count": null,
   "metadata": {
    "ExecuteTime": {
     "end_time": "2023-02-24T09:13:05.782856Z",
     "start_time": "2023-02-24T09:13:05.768823Z"
    }
   },
   "outputs": [],
   "source": [
    "solver = pyMMF.propagationModeSolver()\n",
    "solver.setIndexProfile(profile)\n",
    "solver.setWL(wl)"
   ]
  },
  {
   "attachments": {},
   "cell_type": "markdown",
   "metadata": {},
   "source": [
    "### B.3 Run the solver"
   ]
  },
  {
   "cell_type": "code",
   "execution_count": null,
   "metadata": {
    "ExecuteTime": {
     "end_time": "2023-02-24T09:13:06.862587Z",
     "start_time": "2023-02-24T09:13:06.338170Z"
    }
   },
   "outputs": [],
   "source": [
    "modes = solver.solve(\n",
    "    mode=\"radial_test\",\n",
    "    curvature=None,\n",
    "    r_max=r_max,  # max radius to calculate (and first try for large radial boundary condition)\n",
    "    dh=dh,  # radial resolution during the computation\n",
    "    min_radius_bc=0.5,  # min large radial boundary condition\n",
    "    change_bc_radius_step=0.85,  # change of the large radial boundary condition if fails\n",
    "    N_beta_coarse=int(1e3),  # number of steps of the initial coarse scan\n",
    "    degenerate_mode=\"exp\",\n",
    "    save_func=True,\n",
    ")\n",
    "\n",
    "nmodes = modes.number"
   ]
  },
  {
   "attachments": {},
   "cell_type": "markdown",
   "metadata": {},
   "source": [
    "### B.4 Retrieve the modes"
   ]
  },
  {
   "cell_type": "code",
   "execution_count": null,
   "metadata": {
    "ExecuteTime": {
     "end_time": "2023-02-24T09:13:07.347309Z",
     "start_time": "2023-02-24T09:13:07.340932Z"
    }
   },
   "outputs": [],
   "source": [
    "M = modes.getModeMatrix()\n",
    "l = modes.l\n",
    "m = modes.m\n",
    "ml = list(zip(m, l))\n",
    "TM_mode = modes.getPropagationMatrix(distance=100)"
   ]
  },
  {
   "cell_type": "code",
   "execution_count": null,
   "metadata": {},
   "outputs": [],
   "source": []
  },
  {
   "cell_type": "code",
   "execution_count": null,
   "metadata": {},
   "outputs": [],
   "source": [
    "np.savez(\n",
    "    file_path(\"modes.npz\"),\n",
    "    l=l,\n",
    "    m=m,\n",
    "    modes_out=M,\n",
    "    betas=modes.betas,\n",
    ")"
   ]
  },
  {
   "cell_type": "code",
   "execution_count": null,
   "metadata": {
    "ExecuteTime": {
     "end_time": "2023-02-24T09:13:07.775416Z",
     "start_time": "2023-02-24T09:13:07.769635Z"
    }
   },
   "outputs": [],
   "source": [
    "ml_indexed = [[i, x] for i, x in enumerate(ml)]\n",
    "ml_indexed_sorted = sorted(ml_indexed, key=lambda x: x[1][0])\n",
    "# ind = np.argsort(np.array(ml), axis = 0)\n",
    "ml_sorted_idx = [x[0] for x in ml_indexed_sorted]\n",
    "\n",
    "\n",
    "# ml_sorted_idx\n",
    "def select_l(l_val):\n",
    "    return [x[0] for x in ml_indexed_sorted if x[1][1] == l_val]\n",
    "\n",
    "\n",
    "leq1_sorted_idx = select_l(1)\n",
    "meq0_sorted_idx = [x[0] for x in ml_indexed_sorted if x[1][0] == 0]"
   ]
  },
  {
   "cell_type": "code",
   "execution_count": null,
   "metadata": {
    "ExecuteTime": {
     "end_time": "2023-02-24T09:13:09.463419Z",
     "start_time": "2023-02-24T09:13:09.452822Z"
    }
   },
   "outputs": [],
   "source": [
    "# matrix containing the difference of m (OAM) number between pairs of modes\n",
    "deltaM = np.zeros((nmodes, nmodes), dtype=float)\n",
    "for i_val1, m_val1 in enumerate(m):\n",
    "    for i_val2, m_val2 in enumerate(m):\n",
    "        deltaM[i_val1, i_val2] = m_val1 - m_val2\n",
    "\n",
    "# matrix containing the difference of propagation constants beta between pairs of modes\n",
    "deltaBeta = np.zeros((nmodes, nmodes), dtype=float)\n",
    "for i_val1, beta_val1 in enumerate(modes.betas):\n",
    "    for i_val2, beta_val2 in enumerate(modes.betas):\n",
    "        deltaBeta[i_val1, i_val2] = beta_val1 - beta_val2\n",
    "\n",
    "# matrix containing the difference of l (radial momentum) number beta between pairs of modes\n",
    "deltaL = np.zeros((nmodes, nmodes), dtype=float)\n",
    "for i_val1, l_val1 in enumerate(l):\n",
    "    for i_val2, l_val2 in enumerate(l):\n",
    "        deltaL[i_val1, i_val2] = l_val1 - l_val2\n",
    "\n",
    "\n",
    "def get_mask_l(l_val=None):\n",
    "    mask = np.zeros((nmodes, nmodes), dtype=int)\n",
    "    assert l_val is not None or m_val is not None\n",
    "    for i_val1, (m_val1, l_val1) in enumerate(ml):\n",
    "        for i_val2, (m_val2, l_val2) in enumerate(ml):\n",
    "            if l_val1 == l_val and l_val2 == l_val:\n",
    "                mask[i_val1, i_val2] = 1\n",
    "    return mask"
   ]
  },
  {
   "cell_type": "code",
   "execution_count": null,
   "metadata": {},
   "outputs": [],
   "source": [
    "data2save[\"modes\"] = {\n",
    "    \"m\": m,\n",
    "    \"l\": l,\n",
    "    \"ml\": ml,\n",
    "    \"betas\": modes.betas,\n",
    "    \"M_not_norm\": M,\n",
    "    \"nmodes\": nmodes,\n",
    "    \"deltaBeta\": deltaBeta,\n",
    "    \"deltaM\": deltaM\n",
    "}\n",
    "\n",
    "save_data()"
   ]
  },
  {
   "attachments": {},
   "cell_type": "markdown",
   "metadata": {},
   "source": [
    "# II. Experimental data"
   ]
  },
  {
   "attachments": {},
   "cell_type": "markdown",
   "metadata": {},
   "source": [
    "## A. Load data"
   ]
  },
  {
   "attachments": {},
   "cell_type": "markdown",
   "metadata": {},
   "source": [
    "### A.1. Load parameters of the fiber and the experiment"
   ]
  },
  {
   "cell_type": "code",
   "execution_count": null,
   "metadata": {},
   "outputs": [],
   "source": [
    "with open(file_path(\"param.pkl\"), \"rb\") as file:\n",
    "    param = pickle.load(file, encoding=\"latin1\")\n",
    "\n",
    "\n",
    "# number of pixels in each axis in the input plane (DMD)\n",
    "N_in = param[\"fiber\"][\"inpoints\"]\n",
    "# number of pixels in each axis in the output plane (camera)\n",
    "N_out = param[\"fiber\"][\"onpoints\"]\n",
    "\n",
    "# angles of rotation of the input wavefronts\n",
    "angles = param[\"RME\"][\"angles\"]\n",
    "n_a = param[\"RME\"][\"n_angles\"]\n",
    "# number of random input wavefronts\n",
    "n_rnd = param[\"RME\"][\"n_rnd\"]\n",
    "nv_max = param[\"RME\"][\"nv_max\"]\n",
    "\n",
    "# number of operatoirs\n",
    "n_op = param[\"RME\"][\"n_op\"]\n",
    "# number of the first modes of each operator sent to the DMD\n",
    "n_rm = param[\"RME\"][\"n_rm\"]\n",
    "n_angles_for_corr = param[\"RME\"][\"n_ang_corr\"]\n",
    "\n",
    "\n",
    "# load parameters associated with the shrinked data files\n",
    "with open(file_path(\"param_small.pkl\"), \"rb\") as file:\n",
    "    param = pickle.load(file, encoding=\"latin1\")\n",
    "\n",
    "# number of deformation values stored in the demo\n",
    "# (the actual full dataset has 30 deformation values)\n",
    "n_defomr = param[\"n_deform\"]\n",
    "\n",
    "# deformation indices used in the demo\n",
    "deformation_indices = param[\"deformation_indices\"]\n",
    "# deformation_indices = [0,3]\n",
    "\n",
    "# deformation values\n",
    "Delta_x = param[\"Delta_x\"]"
   ]
  },
  {
   "cell_type": "code",
   "execution_count": null,
   "metadata": {},
   "outputs": [],
   "source": [
    "with open(file_path(\"param.pkl\"), \"rb\") as file:\n",
    "    param = pickle.load(file, encoding=\"latin1\")\n",
    "\n",
    "param[\"fiber\"]"
   ]
  },
  {
   "attachments": {},
   "cell_type": "markdown",
   "metadata": {},
   "source": [
    "### A.2 Load the measured output fields corresponding to rotated inputs for different deformations "
   ]
  },
  {
   "attachments": {},
   "cell_type": "markdown",
   "metadata": {},
   "source": [
    "**load and concatenate the measurements for random input at different levels of deformation**"
   ]
  },
  {
   "cell_type": "code",
   "execution_count": null,
   "metadata": {},
   "outputs": [],
   "source": [
    "filepaths = glob.glob(str(file_path(\"Ys_rnd_small_p1_*.npz\")))\n",
    "arrays = []\n",
    "for filepath in filepaths:\n",
    "    data = np.load(filepath)\n",
    "    arr = load_complex32(filename=filepath)\n",
    "    arrays.append(arr)\n",
    "Ys_rnd_p1 = np.stack(arrays, axis=0)\n",
    "# move the axis so that the penultimate one corresponds to angles\n",
    "Ys_rnd_p1 = np.moveaxis(Ys_rnd_p1, -3, -2)\n",
    "\n",
    "filepaths = glob.glob(str(file_path(\"Ys_rnd_small_p2_*.npz\")))\n",
    "arrays = []\n",
    "for filepath in filepaths:\n",
    "    data = np.load(filepath)\n",
    "    arr = load_complex32(filename=filepath)\n",
    "    arrays.append(arr)\n",
    "Ys_rnd_p2 = np.stack(arrays, axis=0)\n",
    "# move the axis so that the penultimate one corresponds to angles\n",
    "Ys_rnd_p2 = np.moveaxis(Ys_rnd_p2, -3, -2)"
   ]
  },
  {
   "attachments": {},
   "cell_type": "markdown",
   "metadata": {},
   "source": [
    "**Concatenate the two polarizations to have the full output fields**"
   ]
  },
  {
   "cell_type": "code",
   "execution_count": null,
   "metadata": {},
   "outputs": [],
   "source": [
    "Ys_rnd = np.concatenate((Ys_rnd_p1, Ys_rnd_p2), axis=-1)"
   ]
  },
  {
   "attachments": {},
   "cell_type": "markdown",
   "metadata": {},
   "source": [
    "### A.3 Load the TMs in the mode basis"
   ]
  },
  {
   "cell_type": "code",
   "execution_count": null,
   "metadata": {},
   "outputs": [],
   "source": [
    "TMs_mode = np.load(os.path.join(DATA_PATH, \"TMs_mode.npy\")).astype(np.complex64)\n",
    "n_modes = TMs_mode.shape[-1]\n",
    "# select one polarization, and take only the deformation values used in the demo\n",
    "TMs = TMs_mode[deformation_indices, :n_modes, :]"
   ]
  },
  {
   "cell_type": "code",
   "execution_count": null,
   "metadata": {},
   "outputs": [],
   "source": [
    "# Min_corr = data['modes_in_corr']\n",
    "# Min = data['modes_in']"
   ]
  },
  {
   "attachments": {},
   "cell_type": "markdown",
   "metadata": {},
   "source": [
    "## B. Experimentally measured RME correlation"
   ]
  },
  {
   "attachments": {},
   "cell_type": "markdown",
   "metadata": {},
   "source": [
    "### B.1 Average output intensity for random inputs wavefronts\n",
    "\n",
    "We excite from one circular polarization and measure both at the output"
   ]
  },
  {
   "cell_type": "code",
   "execution_count": null,
   "metadata": {},
   "outputs": [],
   "source": [
    "mask_corr = get_disk_mask([N_out, N_out], 0.74 * N_out / 2)\n",
    "mask_corr_2p = np.concatenate((mask_corr, mask_corr), axis=0)\n",
    "I_mean = np.mean(np.abs(Ys_rnd[0]) ** 2, axis=(0, 1)).reshape((N_out * 2, N_out))\n",
    "I_mean_p1 = I_mean[:N_out, :]\n",
    "I_mean_p2 = I_mean[N_out:, :]\n",
    "plt.figure(figsize=(12, 6))\n",
    "plt.subplot(121)\n",
    "plt.imshow(I_mean_p1)\n",
    "plt.axis(\"off\")\n",
    "plt.title(r\"$\\parallel$ polarization\", fontsize=SMALL_TITLE_SIZE)\n",
    "plt.subplot(122)\n",
    "plt.imshow(I_mean_p2)\n",
    "plt.axis(\"off\")\n",
    "plt.title(r\"$\\perp$ polarization\", fontsize=SMALL_TITLE_SIZE)\n",
    "plt.suptitle(\"Average intensity\", fontsize=TITLE_SIZE)"
   ]
  },
  {
   "attachments": {},
   "cell_type": "markdown",
   "metadata": {},
   "source": [
    "## B.2 Field correlation"
   ]
  },
  {
   "cell_type": "code",
   "execution_count": null,
   "metadata": {},
   "outputs": [],
   "source": [
    "# field correlation\n",
    "Ys_rnd_ref_p1 = Ys_rnd_p1[..., 0, :]\n",
    "rnd_corr_p1 = stack_correlation(Ys_rnd_p1, Ys_rnd_ref_p1)\n",
    "\n",
    "Ys_rnd_ref_p2 = Ys_rnd_p2[..., 0, :]\n",
    "rnd_corr_p2 = stack_correlation(Ys_rnd_p2, Ys_rnd_ref_p2)\n",
    "# intensity correlation\n",
    "rndint_corr_p1 = stack_correlation(np.abs(Ys_rnd_p1) ** 2, np.abs(Ys_rnd_ref_p1) ** 2)"
   ]
  },
  {
   "attachments": {},
   "cell_type": "markdown",
   "metadata": {},
   "source": [
    "#### Compute RME field correlations for both output polarizations"
   ]
  },
  {
   "cell_type": "code",
   "execution_count": null,
   "metadata": {},
   "outputs": [],
   "source": [
    "Corr_mean_exp = np.mean(np.abs(rnd_corr_p1), axis=-2)\n",
    "Corr_std_exp = np.std(np.abs(rnd_corr_p1), axis=-2)\n",
    "\n",
    "Corr_mean_exp_p2 = np.mean(np.abs(rnd_corr_p2), axis=-2)\n",
    "Corr_std_exp_p2 = np.std(np.abs(rnd_corr_p2), axis=-2)\n",
    "\n",
    "data2save[\"exp\"] = {\n",
    "    \"Corr_mean\": Corr_mean_exp,\n",
    "    \"Corr_std\": Corr_std_exp,\n",
    "    \"angles\": angles,\n",
    "}\n",
    "save_data()"
   ]
  },
  {
   "attachments": {},
   "cell_type": "markdown",
   "metadata": {},
   "source": [
    "#### Show the results"
   ]
  },
  {
   "cell_type": "code",
   "execution_count": null,
   "metadata": {},
   "outputs": [],
   "source": [
    "def plot_error(y, y_err, color):\n",
    "    plt.errorbar(\n",
    "        angles,\n",
    "        y,\n",
    "        yerr=y_err,\n",
    "        color=color,\n",
    "        linewidth=2,\n",
    "        linestyle=\"None\",\n",
    "        capsize=4,\n",
    "        capthick=2,\n",
    "        alpha=0.4,\n",
    "    )\n",
    "\n",
    "\n",
    "def show_RME_corr_2pola(show_error=True, save_fig=True):\n",
    "    deformations2show = [2, 3]\n",
    "    # colors = generate_color_shades('PuRd', 4)\n",
    "    cmap = get_color_map(n=len(deformations2show) + 1)\n",
    "    plt.figure(figsize=(18, 5))\n",
    "    plt.subplot(121)\n",
    "    for ind_color, ind_deformation in enumerate(deformations2show):\n",
    "        color = cmap(ind_color)\n",
    "        plt.errorbar(\n",
    "            angles,\n",
    "            Corr_mean_exp[ind_deformation],\n",
    "            label=rf\"$\\Delta x = {Delta_x[ind_deformation]:.0f} \\mu m$\",\n",
    "            color=color,\n",
    "            marker=\"o\",\n",
    "            linewidth=2,\n",
    "        )\n",
    "        if show_error:\n",
    "            plot_error(\n",
    "                Corr_mean_exp[ind_deformation],\n",
    "                Corr_std_exp[ind_deformation],\n",
    "                color=color,\n",
    "            )\n",
    "    plt.xlabel(r\"$\\theta$\", fontsize=LABEL_SIZE)\n",
    "    plt.ylabel(r\"$C(\\theta)$\", fontsize=LABEL_SIZE)\n",
    "    xticks = [0, np.pi / 2, np.pi, 3 * np.pi / 2, 2 * np.pi]\n",
    "    xtics_labels = [r\"$0$\", r\"$\\pi/2$\", r\"$\\pi$\", r\"$3\\pi/2$\", r\"$2\\pi$\"]\n",
    "    plt.xticks(xticks, xtics_labels, fontsize=TICK_SIZE)\n",
    "    plt.yticks(fontsize=TICK_SIZE)\n",
    "    plt.legend(fontsize=LEGEND_SIZE)\n",
    "    plt.title(r\"$\\parallel$ polarization\", fontsize=SMALL_TITLE_SIZE)\n",
    "\n",
    "    plt.subplot(122)\n",
    "    for ind_color, ind_deformation in enumerate(deformations2show):\n",
    "        color = cmap(ind_color)\n",
    "        plt.errorbar(\n",
    "            angles,\n",
    "            Corr_mean_exp_p2[ind_deformation],\n",
    "            label=rf\"$\\Delta x = {Delta_x[ind_deformation]:.0f} \\mu m$\",\n",
    "            color=color,\n",
    "            marker=\"o\",\n",
    "            linewidth=2,\n",
    "        )\n",
    "        if show_error:\n",
    "            plot_error(\n",
    "                Corr_mean_exp_p2[ind_deformation],\n",
    "                Corr_std_exp_p2[ind_deformation],\n",
    "                color=color,\n",
    "            )\n",
    "    plt.xlabel(r\"$\\theta$\", fontsize=LABEL_SIZE)\n",
    "    plt.ylabel(r\"$C(\\theta)$\", fontsize=LABEL_SIZE)\n",
    "    xticks = [0, np.pi / 2, np.pi, 3 * np.pi / 2, 2 * np.pi]\n",
    "    xtics_labels = [r\"$0$\", r\"$\\pi/2$\", r\"$\\pi$\", r\"$3\\pi/2$\", r\"$2\\pi$\"]\n",
    "    plt.xticks(xticks, xtics_labels, fontsize=TICK_SIZE)\n",
    "    plt.yticks(fontsize=TICK_SIZE)\n",
    "    plt.legend(fontsize=LEGEND_SIZE, loc=\"lower right\")\n",
    "    plt.title(r\"$\\perp$ polarization\", fontsize=SMALL_TITLE_SIZE)\n",
    "\n",
    "    plt.suptitle(\"Field correlation\", fontsize=SUP_TITLE_SIZE)\n",
    "\n",
    "    if save_fig:\n",
    "        plt.savefig(\n",
    "            image_path(f\"RMEcorr_Vs_deform.svg\"),\n",
    "            dpi=300,\n",
    "        )\n",
    "\n",
    "\n",
    "show_RME_corr_2pola(show_error=True, save_fig=SAVE_FIG)"
   ]
  },
  {
   "cell_type": "code",
   "execution_count": null,
   "metadata": {},
   "outputs": [],
   "source": [
    "nmodes = TMs_mode.shape[-1]\n",
    "TMs_pola1 = TMs_mode[:, :nmodes, :]\n",
    "TMs_pola2 = TMs_mode[:, nmodes:, :]"
   ]
  },
  {
   "attachments": {},
   "cell_type": "markdown",
   "metadata": {},
   "source": [
    "# III. Theoretical predictions and fit"
   ]
  },
  {
   "attachments": {},
   "cell_type": "markdown",
   "metadata": {},
   "source": [
    "## A. Equations\n",
    "\n",
    "\n",
    "$$\n",
    "    C(\\theta) =  1+\n",
    "        A\\sum_q \\Gamma_q^2 (\\cos(q\\theta)-1) B_{\\gamma\\alpha}(q)\n",
    "$$\n",
    "\n",
    "with \n",
    "$$\n",
    "    A = (k_0 l_z)^2 \\frac{L}{l_z}\n",
    "$$\n",
    "\n",
    "and\n",
    "\n",
    "$$\n",
    "    B_{\\gamma\\alpha} = \\sum_{\\alpha,\\gamma/\\left|m_\\gamma-m_\\alpha\\right|=q} \\text{sinc}^2\\left(\\frac{\\beta_\\gamma-\\beta_\\alpha}{2}\\right) I_{\\gamma\\alpha}\n",
    "$$\n",
    "\n",
    "$$\n",
    "I_{\\gamma\\alpha} = \\frac{1}{N_{modes}} \n",
    "    \\int_0^a dr \\left|a_\\gamma(r)\\right|^2 \\left|a_\\alpha(r)\\right|^2 r^2\n",
    "    \\sigma^2_g(r) d_\\text{layer}\n",
    "$$\n",
    "\n",
    "$$\n",
    "    \\sigma^2_g(r)\n",
    "    \\approx 4 \\left(\\frac{\\Delta n r}{a^2}\\right)^2 d_\\text{layer}^2\n",
    "$$\n",
    "\n",
    "for a radial disorder of the form\n",
    "\n",
    "\n",
    "$$\n",
    "    f_p(r) = \\frac{d n}{d r} d_\\text{layer} b(r)\n",
    "$$\n",
    "\n",
    "with $b(r)$ a Gaussian noise so that \n",
    "\n",
    "$$\n",
    "\\left\\langle b(r) b(r+r') \\right\\rangle  \\approx d_\\text{layer} \\delta(r')\n",
    "$$\n"
   ]
  },
  {
   "attachments": {},
   "cell_type": "markdown",
   "metadata": {},
   "source": [
    "## B. Parameters"
   ]
  },
  {
   "cell_type": "code",
   "execution_count": null,
   "metadata": {},
   "outputs": [],
   "source": [
    "# total fiber length\n",
    "L_tot = 2.45e4  # in microns\n",
    "# correlation length in the z direction 100 umn\n",
    "dz = 1e2  # in microns\n",
    "# thickness of the deposition layers, also corresponds to the radial correlation length of the discorder\n",
    "d_layer = .01  # in microns"
   ]
  },
  {
   "attachments": {},
   "cell_type": "markdown",
   "metadata": {},
   "source": [
    "## C. Computation of the mode dependent terms"
   ]
  },
  {
   "cell_type": "code",
   "execution_count": null,
   "metadata": {},
   "outputs": [],
   "source": [
    "sinc = lambda x: np.sinc(x / np.pi)\n",
    "\n",
    "\n",
    "# discretization of the radial coordinate\n",
    "dr = 1e-2\n",
    "r_max = modes.data[0][\"r_max\"]\n",
    "r_vec = np.arange(0, r_max, dr)\n",
    "\n",
    "# difference of refractive index between the axis (maximum value) and the cladding (minimum value)\n",
    "Dn = NA**2 / (2.0 * n1)\n",
    "\n",
    "\n",
    "noise_std = lambda r: -2 * r / (radius**2) * Dn * d_layer * (r > 0) * (r < radius)\n",
    "\n",
    "\n",
    "# radial profiles of the modes\n",
    "M = np.array([data[\"radial_func\"](r_vec) for data in modes.data])\n",
    "\n",
    "# normalization of the radial profile\n",
    "M = M.transpose() / np.sqrt(\n",
    "    np.sum(np.abs(M) ** 2 * r_vec * dr, axis=1)\n",
    ")  # np.linalg.norm(M*r_vec, axis = 1)\n",
    "M = M.transpose()\n",
    "\n",
    "MsqR = M**2 * r_vec * noise_std(r_vec)\n",
    "\n",
    "# I = MsqR@MsqR.transpose()*R0*dr\n",
    "I = MsqR @ MsqR.transpose() * d_layer * dr  # *dr#/np.sqrt(d_layer)\n",
    "# beta dependence\n",
    "mask_beta = sinc(deltaBeta / 2 * dz) ** 2\n",
    "\n",
    "# coefficient A\n",
    "coeff = L_tot / dz * (k0 * dz) ** 2 * 1 / nmodes * 0.25\n",
    "\n",
    "# q values to consider in the azimuthal series decomposition\n",
    "qs = (1, 2, 3, 4)"
   ]
  },
  {
   "attachments": {},
   "cell_type": "markdown",
   "metadata": {},
   "source": [
    "## D. RME correlation computation function"
   ]
  },
  {
   "cell_type": "code",
   "execution_count": null,
   "metadata": {},
   "outputs": [],
   "source": [
    "Nz = L_tot / dz\n",
    "\n",
    "# def Compute_correlation(gammas, qs):\n",
    "#     C1 = None\n",
    "#     for q, gamma in zip(qs, gammas):\n",
    "#         mask_M = np.abs(deltaM) == q\n",
    "#         A = np.sum(mask_beta * mask_M * I) or 0.0\n",
    "#         cq = gamma**2 * np.cos(q * angles) * A\n",
    "#         C1 = cq if C1 is None else C1 + cq\n",
    "\n",
    "#     C = 1 + coeff * C1\n",
    "#     C = C / C[0]\n",
    "\n",
    "#     return C\n",
    "\n",
    "def Compute_correlation(gammas, qs):\n",
    "    C1 = None\n",
    "    for q, gamma in zip(qs, gammas):\n",
    "        mask_M = np.abs(deltaM) == q\n",
    "        A = np.sum(mask_beta * mask_M * I) or 0.0\n",
    "        # cq = gamma**2 * np.cos(q * angles) * A\n",
    "        cq = gamma**2 * (np.cos(q * angles)-1) * A\n",
    "        C1 = cq if C1 is None else C1 + cq\n",
    "\n",
    "    C = 1 + coeff * C1\n",
    "    # C = C / C[0]\n",
    "    return C"
   ]
  },
  {
   "attachments": {},
   "cell_type": "markdown",
   "metadata": {},
   "source": [
    "## E. Fit the experimenta results with the theoretical model"
   ]
  },
  {
   "attachments": {},
   "cell_type": "markdown",
   "metadata": {},
   "source": [
    "### C.1 Error function \n",
    "Computes the quadratic error between two correlation curves "
   ]
  },
  {
   "cell_type": "code",
   "execution_count": null,
   "metadata": {},
   "outputs": [],
   "source": [
    "def Correlation_error(gammas, qs, Cref):\n",
    "    # C = Compute_correlation(gammas, qs)\n",
    "    C = Compute_correlation(gammas, qs)\n",
    "    error = np.mean(np.abs(Cref - C) ** 2)\n",
    "    return error\n",
    "\n",
    "\n",
    "err = lambda x: Correlation_error(x, qs, Cref=Corr_mean_exp[0])"
   ]
  },
  {
   "attachments": {},
   "cell_type": "markdown",
   "metadata": {},
   "source": [
    "### C.2 Fit the experimental data for different deformations"
   ]
  },
  {
   "cell_type": "code",
   "execution_count": null,
   "metadata": {},
   "outputs": [],
   "source": [
    "gammas = []\n",
    "for ind_deform, Cref in enumerate(Corr_mean_exp):\n",
    "    err = lambda x: Correlation_error(x, qs, Cref=Cref)\n",
    "    initial_guess = gammas[-1] if ind_deform > 0 and gammas else [0.1] * len(qs)\n",
    "    xopt = scipy.optimize.fmin(func=err, x0=initial_guess)\n",
    "    gammas.append(np.abs(np.array(xopt)))\n",
    "\n",
    "gammas = np.stack(gammas, axis=0)\n",
    "n_coeffs_fit = gammas"
   ]
  },
  {
   "cell_type": "code",
   "execution_count": null,
   "metadata": {},
   "outputs": [],
   "source": [
    "Corr_theory = np.stack(\n",
    "    [Compute_correlation(gammas, qs) for gammas in n_coeffs_fit], axis=0\n",
    ")\n",
    "\n",
    "data2save[\"theo\"] = {\n",
    "    \"Corr_mean\": Corr_theory,\n",
    "    \"gammas\": n_coeffs_fit,\n",
    "    \"qs\": qs,\n",
    "    \"dr\": dr,\n",
    "    \"r_max\": r_max,\n",
    "    \"radius\": radius,\n",
    "    \"M_norm\": M,\n",
    "    \"d_layer\": d_layer,\n",
    "    \"dz\": dz,\n",
    "    \"L_tot\": L_tot,\n",
    "    \"Nz\": Nz,\n",
    "}\n",
    "\n",
    "save_data()"
   ]
  },
  {
   "cell_type": "code",
   "execution_count": null,
   "metadata": {},
   "outputs": [],
   "source": [
    "data2save[\"theo\"][\"L_tot\"]"
   ]
  },
  {
   "attachments": {},
   "cell_type": "markdown",
   "metadata": {},
   "source": [
    "### C.3 Estimation of the importance of each parameter on $C(\\theta)$\n",
    "To quantify the effect of each paramter, we compare the correlation function with the each paramter se to 0 independently.\n",
    "\n",
    "We observe that for no added deformation, changing the value of $\\Gamma_q$ for odd values of $q$ does not change the shape the correlation function. "
   ]
  },
  {
   "cell_type": "code",
   "execution_count": null,
   "metadata": {},
   "outputs": [],
   "source": [
    "ind_deformation = -1\n",
    "errors = []\n",
    "\n",
    "for ind_q, _ in enumerate(n_coeffs_fit[ind_deformation]):\n",
    "    gammas = np.copy(n_coeffs_fit[ind_deformation])\n",
    "    C1 = Compute_correlation(gammas, qs)\n",
    "    gammas[ind_q] = 0\n",
    "    C2 = Compute_correlation(gammas, qs)\n",
    "    errors.append(np.mean(np.abs(C1 - C2) ** 2))\n",
    "\n",
    "plt.figure(figsize=(12, 8))\n",
    "plt.semilogy(qs, errors)\n",
    "plt.title(\"RME error on $C$ compared to each parameter set to 0\")\n",
    "plt.xlabel(\"q\", fontsize=LABEL_SIZE)\n",
    "plt.xticks(fontsize=TICK_SIZE)\n",
    "plt.ylabel(\"error\", fontsize=LABEL_SIZE)\n",
    "plt.title(\"Impact of each parameter\", fontsize=TITLE_SIZE)\n",
    "plt.yticks(fontsize=TICK_SIZE)"
   ]
  },
  {
   "attachments": {},
   "cell_type": "markdown",
   "metadata": {},
   "source": [
    "## DShow the results"
   ]
  },
  {
   "attachments": {},
   "cell_type": "markdown",
   "metadata": {},
   "source": [
    "### D.1 RME Correlation"
   ]
  },
  {
   "cell_type": "code",
   "execution_count": null,
   "metadata": {},
   "outputs": [],
   "source": [
    "def show_RME_corr(show_error=True, save_fig=True):\n",
    "    deformations2show = [0, 2, 3]\n",
    "\n",
    "    for ind_deformation in deformations2show:\n",
    "        plt.figure(figsize=(8, 5))\n",
    "        plt.errorbar(\n",
    "            angles,\n",
    "            Corr_mean_exp[ind_deformation],\n",
    "            label=rf\"Experiment\",\n",
    "            color=\"blue\",\n",
    "            marker=\"o\",\n",
    "            linewidth=2,\n",
    "        )\n",
    "        if show_error:\n",
    "            plot_error(\n",
    "                Corr_mean_exp[ind_deformation],\n",
    "                Corr_std_exp[ind_deformation],\n",
    "                color=\"blue\",\n",
    "            )\n",
    "\n",
    "        plt.errorbar(\n",
    "            angles,\n",
    "            Corr_theory[ind_deformation],\n",
    "            label=rf\"Fit\",\n",
    "            color=\"black\",\n",
    "            marker=\"x\",\n",
    "            linewidth=2,\n",
    "        )\n",
    "\n",
    "        plt.xlabel(r\"$\\theta$\", fontsize=LABEL_SIZE)\n",
    "        plt.ylabel(r\"$C(\\theta)$\", fontsize=LABEL_SIZE)\n",
    "        xticks = [0, np.pi / 2, np.pi, 3 * np.pi / 2, 2 * np.pi]\n",
    "        xtics_labels = [r\"$0$\", r\"$\\pi/2$\", r\"$\\pi$\", r\"$3\\pi/2$\", r\"$2\\pi$\"]\n",
    "        plt.xticks(xticks, xtics_labels, fontsize=TICK_SIZE)\n",
    "        plt.yticks(fontsize=TICK_SIZE)\n",
    "        plt.legend(fontsize=LEGEND_SIZE)\n",
    "        plt.title(\n",
    "            rf\"$\\Delta_x={Delta_x[ind_deformation]:.0f}\\mu m$\", fontsize=TITLE_SIZE\n",
    "        )\n",
    "\n",
    "    if save_fig:\n",
    "        plt.savefig(\n",
    "            image_path(f\"RME_exp_Vs_theory.svg\"),\n",
    "            dpi=300,\n",
    "        )\n",
    "\n",
    "\n",
    "show_RME_corr(show_error=True, save_fig=SAVE_FIG)"
   ]
  },
  {
   "attachments": {},
   "cell_type": "markdown",
   "metadata": {},
   "source": [
    "### D.2 Evolution of the fit parameters\n",
    "Only show significant paramters"
   ]
  },
  {
   "cell_type": "code",
   "execution_count": null,
   "metadata": {},
   "outputs": [],
   "source": [
    "plt.figure(figsize=(12, 5))\n",
    "for ind_q, q in enumerate(qs):\n",
    "    plt.plot(\n",
    "        Delta_x,\n",
    "        n_coeffs_fit[:, ind_q],\n",
    "        marker=\"o\",\n",
    "        label=rf\"$\\Gamma_{q}$\",\n",
    "        linewidth=2,\n",
    "    )\n",
    "plt.legend()\n",
    "plt.ylabel(r\"$\\Gamma_q$\", fontsize=LABEL_SIZE, labelpad=30, rotation=0)\n",
    "plt.xlabel(r\"$\\Delta x$ (in microns)\", fontsize=LABEL_SIZE)\n",
    "plt.xticks(fontsize=TICK_SIZE)\n",
    "plt.yticks(fontsize=TICK_SIZE)\n",
    "plt.legend(fontsize=LEGEND_SIZE, loc=\"upper left\")\n",
    "# plt.ylim([0.0, 0.9])\n",
    "\n",
    "if SAVE_FIG:\n",
    "    plt.savefig(\n",
    "        image_path(f\"Gamma_q.svg\"),\n",
    "        dpi=300,\n",
    "    )\n",
    "# plt.ylim([0,10])"
   ]
  },
  {
   "attachments": {},
   "cell_type": "markdown",
   "metadata": {},
   "source": [
    "#### Decomposition in the different contributions"
   ]
  },
  {
   "attachments": {},
   "cell_type": "markdown",
   "metadata": {},
   "source": [
    "# IV. Simulations\n",
    "**Compare segment model to experiment for no bending**"
   ]
  },
  {
   "attachments": {},
   "cell_type": "markdown",
   "metadata": {},
   "source": [
    "## A. General parameters"
   ]
  },
  {
   "cell_type": "code",
   "execution_count": null,
   "metadata": {},
   "outputs": [],
   "source": [
    "# number of different realizations of the disorder\n",
    "n_ave = 20  # in microns\n",
    "# number of random input wavefront for each realization\n",
    "n_rnd_input = 100  # in microns"
   ]
  },
  {
   "attachments": {},
   "cell_type": "markdown",
   "metadata": {},
   "source": [
    "## B. Simulation functions\n",
    "\n",
    "Note that we add randomness to the segment size to mitigate coherent beating effects\n",
    "\n",
    "We also add a random phase to the contributions $cos(q\\theta)$ using `phi0`"
   ]
  },
  {
   "cell_type": "code",
   "execution_count": null,
   "metadata": {},
   "outputs": [],
   "source": [
    "# number of point in the mesh for the radial coordinate\n",
    "# n_r = 2**12\n",
    "n_r = int(r_max/d_layer*2)\n",
    "# number of point in the mesh for the angular coordinate\n",
    "n_th = 2**5\n",
    "\n",
    "r_max = modes.data[0][\"r_max\"]\n",
    "\n",
    "R, TH = np.meshgrid(\n",
    "    np.linspace(0, r_max, n_r), np.linspace(0, 2 * np.pi, n_th, endpoint=False)\n",
    ")\n",
    "\n",
    "dR = areaSize / (2 * (n_r - 1))\n",
    "dTH = 2 * np.pi / n_th\n",
    "\n",
    "Mrth = np.array(\n",
    "    [\n",
    "        modes.data[i][\"radial_func\"](R.ravel()) * np.exp(1j * m[i] * TH.ravel())\n",
    "        for i in range(nmodes)\n",
    "    ]\n",
    ").transpose()\n",
    "\n",
    "\n",
    "## Normalize the radial profiles\n",
    "norms_Mrth = np.sqrt(np.sum(np.abs(Mrth).transpose() ** 2 * R.ravel(), axis=1))\n",
    "Mrth = Mrth / norms_Mrth\n",
    "\n",
    "\n",
    "def getTM_seg(d_layer, f_n, dz, n_coeffs, qs, l_corr=None):\n",
    "    \"\"\"\n",
    "    Compute the TM of a segment of fiber of length `d_z`\n",
    "    Paremeters\n",
    "    ----------\n",
    "    d_layer : float\n",
    "        Thickness of the layers in microns\n",
    "    f_n : function\n",
    "        Function that returns the refractive index of the fiber for a given radial position\n",
    "    dz : float\n",
    "        Length of the segment\n",
    "    n_coeffs : int\n",
    "        Number of coefficients to use in the expansion of azimuthal disorder function\n",
    "    qs : array\n",
    "        Array of the q values (orbital angular momenta) corresponding to each n_ceoffs.\n",
    "        Should be the same size as n_coeffs.\n",
    "    beta_f_type : str ['sinc', 'gauss']\n",
    "        Type of function to use in the longitudinal autocrrelation function\n",
    "    l_corr : float\n",
    "        Correlation length of the longitudinal disorder function in microns\n",
    "\n",
    "    Returns\n",
    "    -------\n",
    "    data : dict\n",
    "        Dictionary with parameters of the disordered segment\n",
    "    TM : ndarray\n",
    "        Transmission matrix of the disordered segment\n",
    "    \"\"\"\n",
    "\n",
    "    assert len(n_coeffs) == len(qs)\n",
    "\n",
    "    betas = np.array(modes.betas).astype(np.float32)\n",
    "\n",
    "    ## Radial disorder ##\n",
    "    ## --------------- ##\n",
    "    # random steps of size d_layer and of amplitude in delta_n = dn0/dr * d_layer\n",
    "    r_max = 3 * areaSize\n",
    "    d_r = d_layer\n",
    "\n",
    "    r_vec = np.arange(0, r_max, d_r)\n",
    "\n",
    "    # values of the index over a range of radii\n",
    "    n = np.array([f_n(r) for r in r_vec])\n",
    "    # differentiate n\n",
    "    dn = np.diff(n)\n",
    "    # noise variance proprtional to the difference of indexes between two layers\n",
    "    noise_std = dn / d_r * d_layer\n",
    "\n",
    "    gaussian_noise = np.random.randn(*noise_std.shape)\n",
    "\n",
    "    # varation of the index between the index of two consecutives layers\n",
    "    noise = gaussian_noise * noise_std\n",
    "\n",
    "    # interpolate radial noise as a fonction\n",
    "    f_noise = interp1d(\n",
    "        (r_vec[:-1] + r_vec[1:]) / 2,\n",
    "        noise,\n",
    "        kind=\"cubic\",\n",
    "        bounds_error=False,\n",
    "        fill_value=\"extrapolate\",\n",
    "    )\n",
    "\n",
    "    # get the profile of delta_n over the mesh\n",
    "    delta_n = np.fromiter((f_noise(r) for r in np.abs(R.flatten())), np.float32)\n",
    "\n",
    "    ## Azimuthal disorder ##\n",
    "    ## ------------------ ##\n",
    "    azimuthal_components = []\n",
    "    for q_val, c in zip(qs, n_coeffs):\n",
    "        phi0 = np.random.rand() * 2 * np.pi if q_val != 0 else 0\n",
    "        azimuthal_components.append(c * np.cos(q_val * TH.flatten() + phi0))\n",
    "    azimuthal_components = np.array(azimuthal_components).astype(np.complex64)\n",
    "\n",
    "    # sum the contributions\n",
    "    sum_azimuthal_components = np.sum(azimuthal_components, axis=0)\n",
    "\n",
    "    ## Total perturbation ##\n",
    "    ## ------------------ ##\n",
    "\n",
    "    # final transverse disorder function = radial x azimuthal\n",
    "    delta_n = delta_n * sum_azimuthal_components\n",
    "\n",
    "    ## TM in the mode basis ##\n",
    "    ## -------------------- ##\n",
    "\n",
    "    # project of the disorder in the mode basis\n",
    "    # delta_n_modes = M.transpose().conjugate()@np.diag(delta_n)@M\n",
    "    # equivalent to M.transpose().conjugate()@np.diag(delta_n)@M but less memory greedy\n",
    "    # + in the radial coordinate (hence the R**2)\n",
    "    delta_n_modes = np.einsum(\n",
    "        \"kj,k,km,k->jm\", Mrth.conjugate(), delta_n, Mrth, R.ravel()\n",
    "    )\n",
    "\n",
    "    V = k0 * delta_n_modes\n",
    "\n",
    "    H0 = np.diag(betas)\n",
    "\n",
    "    TM = expm(-1j * (H0 + V) * dz)\n",
    "\n",
    "    # save some shit\n",
    "    data = {\n",
    "        \"delta_n\": delta_n,\n",
    "        \"H0\": H0,\n",
    "        \"V\": V,\n",
    "        \"k0\": k0,\n",
    "        \"dz\": dz,\n",
    "        \"f_noise\": f_noise,\n",
    "        \"noise\": noise,\n",
    "        \"gaussian_noise\": gaussian_noise,\n",
    "        \"noise_std\": noise_std,\n",
    "        \"dn\": dn,\n",
    "    }\n",
    "\n",
    "    return data, TM"
   ]
  },
  {
   "attachments": {},
   "cell_type": "markdown",
   "metadata": {},
   "source": [
    "## C. Recompute Theoretical RME correlation for the given parameters\n",
    "\n"
   ]
  },
  {
   "cell_type": "code",
   "execution_count": null,
   "metadata": {},
   "outputs": [],
   "source": [
    "Corr_theory = np.stack(\n",
    "    [Compute_correlation(gammas, qs) for gammas in n_coeffs_fit], axis=0\n",
    ")"
   ]
  },
  {
   "cell_type": "code",
   "execution_count": null,
   "metadata": {},
   "outputs": [],
   "source": [
    "# n_coeffs_fit_old = n_coeffs_fit"
   ]
  },
  {
   "cell_type": "code",
   "execution_count": null,
   "metadata": {},
   "outputs": [],
   "source": [
    "\n",
    "# n_coeffs_fit = n_coeffs_fit[0,...][None,...]"
   ]
  },
  {
   "attachments": {},
   "cell_type": "markdown",
   "metadata": {},
   "source": [
    "## D. The segments model\n"
   ]
  },
  {
   "attachments": {},
   "cell_type": "markdown",
   "metadata": {},
   "source": [
    "### D.1 Simulate the TMs of the fiber segment for the different perturbation configurations "
   ]
  },
  {
   "cell_type": "code",
   "execution_count": null,
   "metadata": {
    "ExecuteTime": {
     "end_time": "2023-02-24T14:33:03.950976Z",
     "start_time": "2023-02-24T14:32:59.866718Z"
    }
   },
   "outputs": [],
   "source": [
    "from tqdm import tqdm\n",
    "\n",
    "\n",
    "bkp_data = []\n",
    "\n",
    "# number of uncorrelated segments\n",
    "n_segments = int(np.round(L_tot / dz))\n",
    "\n",
    "\n",
    "def getTM_all(n_coeffs, qs, d_layer, dz, L_tot):\n",
    "    TM_tot = np.eye(nmodes, dtype=complex)\n",
    "\n",
    "    data_all = []\n",
    "    for _ in tqdm(range(n_segments)):\n",
    "        data, TM = getTM_seg(\n",
    "            d_layer=d_layer,\n",
    "            f_n=profile.radialFunc,\n",
    "            dz=dz + (0.5 - np.random.rand()) * wl * 2,\n",
    "            n_coeffs=n_coeffs,\n",
    "            qs=qs,\n",
    "        )\n",
    "        data_all.append(data)\n",
    "        data_all[-1][\"TM_seg\"] = TM\n",
    "        TM_tot = TM @ TM_tot\n",
    "\n",
    "    return data_all, TM_tot.astype(np.complex64)\n",
    "\n",
    "\n",
    "TM_seg_all = []\n",
    "\n",
    "# ind_temp = [0,3]\n",
    "\n",
    "for ind_deformation, nvec in enumerate(n_coeffs_fit):\n",
    "    print(f\"{ind_deformation+1}/{len(deformation_indices)}\")\n",
    "    TM_seg_all.append([])\n",
    "    for _ in range(n_ave):\n",
    "        data_all, TM_seg = getTM_all(nvec, qs, d_layer, dz, L_tot)\n",
    "        TM_seg_all[-1].append(TM_seg)\n",
    "        bkp_data.append(\n",
    "            {\n",
    "                \"nvec\": nvec,\n",
    "                \"data_all\": data_all,\n",
    "                \"TM\": TM_seg,\n",
    "                \"L_tot\": L_tot,\n",
    "                \"dz\": dz,\n",
    "                \"d_layer\": d_layer,\n",
    "            }\n",
    "        )\n",
    "TM_seg_all = np.array(TM_seg_all)"
   ]
  },
  {
   "cell_type": "code",
   "execution_count": null,
   "metadata": {},
   "outputs": [],
   "source": [
    "data2save[\"simu\"] = {}\n",
    "data2save[\"simu\"][\"param\"] = {\n",
    "    \"n_ave\": n_ave,\n",
    "    \"n_rnd_input\": n_rnd_input,\n",
    "    \"L_tot\": L_tot,\n",
    "    \"dz\": dz,\n",
    "    \"d_layer\": d_layer,\n",
    "    \"dr\": dr,\n",
    "    \"gammas\": n_coeffs_fit,\n",
    "}\n",
    "\n",
    "data2save[\"simu\"][\"data\"] = bkp_data\n",
    "data2save[\"simu\"][\"TMs\"] = TM_seg_all\n",
    "save_data()"
   ]
  },
  {
   "cell_type": "code",
   "execution_count": null,
   "metadata": {},
   "outputs": [],
   "source": [
    "delta_n = bkp_data[0]['data_all'][0]['delta_n'].reshape([n_th,n_r])\n",
    "\n",
    "x = R * np.cos(TH)\n",
    "y = R * np.sin(TH)\n",
    "\n",
    "# Create the plot\n",
    "plt.figure(figsize = (12,8))\n",
    "plt.pcolormesh(x, y, np.abs(delta_n), shading='auto')\n",
    "plt.colorbar()\n",
    "plt.title(\"2D Array in Cylindrical Coordinates\")\n",
    "plt.xlabel(\"x\")\n",
    "plt.ylabel(\"y\")\n",
    "plt.axis('equal')\n",
    "plt.show()"
   ]
  },
  {
   "attachments": {},
   "cell_type": "markdown",
   "metadata": {},
   "source": [
    "### D.2 Compute RME Correlation\n",
    "\n",
    "We average over realizations disorder + random inputs"
   ]
  },
  {
   "cell_type": "code",
   "execution_count": null,
   "metadata": {},
   "outputs": [],
   "source": [
    "# compute the rotation operators for all the rotation angles\n",
    "R_mats = np.array([get_rotation_matrix(m, l, angle) for angle in angles])\n",
    "\n",
    "# operator rotation \\theta -> TM -> rotation -\\theta\n",
    "Ttheta = np.einsum(\"aim,drmn,anj->draij\", R_mats, TM_seg_all, R_mats.conjugate())\n",
    "\n",
    "# random input in the mode basis\n",
    "E_rnd_in_mode = (np.random.rand(n_rnd_input, n_modes) - 0.5) + 1j * (\n",
    "    np.random.rand(n_rnd_input, n_modes) - 0.5\n",
    ")\n",
    "\n",
    "# apply to random input fields\n",
    "Y_seg = np.einsum(\"draij,oj->dorai\", Ttheta, E_rnd_in_mode)"
   ]
  },
  {
   "cell_type": "code",
   "execution_count": null,
   "metadata": {},
   "outputs": [],
   "source": [
    "Y_seg_ref = Y_seg[..., 0, :]\n",
    "Corr_seg = stack_correlation(Y_seg, Y_seg_ref)\n",
    "# note that the correlation are computed in the mode basis\n",
    "# yield the same results as in the pixel basis\n",
    "# but is less memory and ressource consuming"
   ]
  },
  {
   "cell_type": "code",
   "execution_count": null,
   "metadata": {},
   "outputs": [],
   "source": [
    "Corr_seg_mean = np.mean(Corr_seg, axis=(1, 2))\n",
    "Corr_seg_std = np.std(Corr_seg, axis=(1, 2))\n",
    "\n",
    "data2save[\"simu\"][\"Corr_mean\"] = Corr_seg_mean\n",
    "data2save[\"simu\"][\"Corr_std\"] = Corr_seg_std\n",
    "save_data()"
   ]
  },
  {
   "attachments": {},
   "cell_type": "markdown",
   "metadata": {},
   "source": [
    "# V. Show the final results"
   ]
  },
  {
   "cell_type": "code",
   "execution_count": null,
   "metadata": {},
   "outputs": [],
   "source": [
    "def show_RME_corr(show_error=True, ind_deformation=0, save_fig=True):\n",
    "    # deformations2show = [0,2,3,4]\n",
    "    plt.figure(figsize=FIGSIZE)\n",
    "\n",
    "    for ind_deformation in [ind_deformation]:\n",
    "        plt.errorbar(\n",
    "            angles,\n",
    "            Corr_mean_exp[ind_deformation],\n",
    "            label=rf\"Experiment\",\n",
    "            color=\"blue\",\n",
    "            marker=\"o\",\n",
    "            linewidth=2,\n",
    "        )\n",
    "        if show_error:\n",
    "            plot_error(\n",
    "                Corr_mean_exp[ind_deformation],\n",
    "                Corr_std_exp[ind_deformation],\n",
    "                color=\"blue\",\n",
    "            )\n",
    "\n",
    "    plt.errorbar(\n",
    "        angles,\n",
    "        Corr_seg_mean[ind_deformation],\n",
    "        label=rf\"Simulation\",\n",
    "        color=\"red\",\n",
    "        marker=\"o\",\n",
    "        linewidth=2,\n",
    "    )\n",
    "\n",
    "    if show_error:\n",
    "        plot_error(\n",
    "            Corr_seg_mean[ind_deformation], Corr_seg_std[ind_deformation], color=\"red\"\n",
    "        )\n",
    "\n",
    "    plt.errorbar(\n",
    "        angles,\n",
    "        Corr_theory[ind_deformation],\n",
    "        label=rf\"Theory\",\n",
    "        color=\"black\",\n",
    "        marker=\"x\",\n",
    "        linewidth=2,\n",
    "    )\n",
    "\n",
    "    plt.xlabel(r\"$\\theta$\", fontsize=LABEL_SIZE)\n",
    "    plt.ylabel(r\"$C(\\theta)$\", fontsize=LABEL_SIZE)\n",
    "    xticks = [0, np.pi / 2, np.pi, 3 * np.pi / 2, 2 * np.pi]\n",
    "    xtics_labels = [r\"$0$\", r\"$\\pi/2$\", r\"$\\pi$\", r\"$3\\pi/2$\", r\"$2\\pi$\"]\n",
    "    plt.xticks(xticks, xtics_labels, fontsize=TICK_SIZE)\n",
    "    # plt.ylim([0.3, 1.05])\n",
    "    plt.yticks(fontsize=TICK_SIZE)\n",
    "    plt.legend(fontsize=LEGEND_SIZE, loc=\"upper right\")\n",
    "    plt.title(rf\"$\\Delta x =$ {Delta_x[ind_deformation]:.0f}\", fontsize=TITLE_SIZE)\n",
    "\n",
    "    if save_fig:\n",
    "        plt.savefig(\n",
    "            image_path(f\"RME_exp_Vs_simu_Dx_{Delta_x[ind_deformation]:.0f}.svg\"),\n",
    "            dpi=300,\n",
    "        )\n",
    "\n",
    "\n",
    "for ind_deformation in range(len(deformation_indices)):\n",
    "    show_RME_corr(show_error=True, ind_deformation=ind_deformation, save_fig=True)"
   ]
  },
  {
   "cell_type": "code",
   "execution_count": null,
   "metadata": {},
   "outputs": [],
   "source": [
    "import numpy as np\n",
    "import matplotlib.pyplot as plt\n",
    "\n",
    "qs = (1, 2, 3, 4)\n",
    "\n",
    "# Generate angle values\n",
    "theta = np.linspace(0, 2 * np.pi, 50)\n",
    "\n",
    "a = 1\n",
    "\n",
    "for ind_q, q in enumerate(qs):\n",
    "    b = 0.1 if q > 1 else 0.5  # Semi-minor axis\n",
    "    plt.figure()\n",
    "    # Create polar plot\n",
    "    radius = a + b * np.cos(q * theta)\n",
    "    plt.polar(theta, radius, linewidth=4)\n",
    "\n",
    "    # Remove axis and ticks\n",
    "    plt.axis(\"off\")\n",
    "\n",
    "    # Save figure\n",
    "    if SAVE_FIG:\n",
    "        plt.savefig(image_path(f\"deform_q_{ind_q}.svg\"), dpi=300, bbox_inches=\"tight\")"
   ]
  },
  {
   "cell_type": "code",
   "execution_count": null,
   "metadata": {},
   "outputs": [],
   "source": [
    "#!jupyter nbconvert --to script Experiment_VS_Model.ipynb "
   ]
  },
  {
   "cell_type": "code",
   "execution_count": null,
   "metadata": {},
   "outputs": [],
   "source": []
  }
 ],
 "metadata": {
  "kernelspec": {
   "display_name": "Python 3 (ipykernel)",
   "language": "python",
   "name": "python3"
  },
  "language_info": {
   "codemirror_mode": {
    "name": "ipython",
    "version": 3
   },
   "file_extension": ".py",
   "mimetype": "text/x-python",
   "name": "python",
   "nbconvert_exporter": "python",
   "pygments_lexer": "ipython3",
   "version": "3.8.5"
  },
  "toc": {
   "base_numbering": 1,
   "nav_menu": {},
   "number_sections": true,
   "sideBar": true,
   "skip_h1_title": false,
   "title_cell": "Table of Contents",
   "title_sidebar": "Contents",
   "toc_cell": false,
   "toc_position": {
    "height": "calc(100% - 180px)",
    "left": "10px",
    "top": "150px",
    "width": "329.733px"
   },
   "toc_section_display": true,
   "toc_window_display": true
  },
  "varInspector": {
   "cols": {
    "lenName": 16,
    "lenType": 16,
    "lenVar": 40
   },
   "kernels_config": {
    "python": {
     "delete_cmd_postfix": "",
     "delete_cmd_prefix": "del ",
     "library": "var_list.py",
     "varRefreshCmd": "print(var_dic_list())"
    },
    "r": {
     "delete_cmd_postfix": ") ",
     "delete_cmd_prefix": "rm(",
     "library": "var_list.r",
     "varRefreshCmd": "cat(var_dic_list()) "
    }
   },
   "types_to_exclude": [
    "module",
    "function",
    "builtin_function_or_method",
    "instance",
    "_Feature"
   ],
   "window_display": false
  },
  "vscode": {
   "interpreter": {
    "hash": "43999527d9683fefbb9f8ca9843ec97fb381c10262ac7a6ea8e864bf5d99457d"
   }
  }
 },
 "nbformat": 4,
 "nbformat_minor": 2
}
