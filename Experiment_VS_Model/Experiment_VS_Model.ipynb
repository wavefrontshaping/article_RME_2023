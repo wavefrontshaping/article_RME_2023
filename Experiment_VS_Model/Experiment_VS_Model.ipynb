{
 "cells": [
  {
   "cell_type": "code",
   "execution_count": 1,
   "metadata": {
    "ExecuteTime": {
     "end_time": "2023-02-24T09:12:49.955984Z",
     "start_time": "2023-02-24T09:12:48.239657Z"
    }
   },
   "outputs": [
    {
     "name": "stderr",
     "output_type": "stream",
     "text": [
      "<frozen importlib._bootstrap>:219: RuntimeWarning: scipy._lib.messagestream.MessageStream size changed, may indicate binary incompatibility. Expected 56 from C header, got 64 from PyObject\n"
     ]
    }
   ],
   "source": [
    "\n",
    "import numpy as np\n",
    "import matplotlib.pyplot as plt\n",
    "import glob\n",
    "from pathlib import Path\n",
    "from itertools import product as prod\n",
    "# from tqdm import tqdm\n",
    "\n",
    "from scipy.optimize import curve_fit\n",
    "from scipy.linalg import expm\n",
    "from scipy.integrate import quad\n",
    "from colorsys import hls_to_rgb\n",
    "import pickle, os, sys\n",
    "import scipy.optimize\n",
    "from scipy.interpolate import interp1d\n",
    "from scipy.linalg import expm\n",
    "\n",
    "sys.path.append(\"../common\")\n",
    "# sys.path.insert(0, \"../\")\n",
    "# sys.path.insert(0, \"../pyMMF\")\n",
    "from functions import (\n",
    "    stack_correlation, \n",
    "    fidelity, \n",
    "    get_disk_mask,\n",
    "    colorize,\n",
    "    logplotTM,\n",
    "    get_color_map,\n",
    "    generate_color_shades,\n",
    "    load_complex32\n",
    ")\n",
    "\n",
    "import pyMMF"
   ]
  },
  {
   "cell_type": "code",
   "execution_count": 2,
   "metadata": {},
   "outputs": [
    {
     "data": {
      "text/plain": [
       "'/opt/miniconda/py3/envs/py38/lib/python3.8/site-packages/pyMMF/__init__.py'"
      ]
     },
     "execution_count": 2,
     "metadata": {},
     "output_type": "execute_result"
    }
   ],
   "source": [
    "pyMMF.__file__"
   ]
  },
  {
   "attachments": {},
   "cell_type": "markdown",
   "metadata": {},
   "source": [
    "**Requires pyMMF**"
   ]
  },
  {
   "cell_type": "code",
   "execution_count": 3,
   "metadata": {},
   "outputs": [],
   "source": [
    "FIBER = 'Draka-GRIN'\n",
    "DATA_PATH = Path(\"../Data\") / FIBER\n",
    "# DATA_PATH = \"../Data/\"\n",
    "\n",
    "# path to save images\n",
    "IMAGE_FOLDER = Path(\"../images\") / FIBER\n",
    "os.makedirs(IMAGE_FOLDER, exist_ok=True)\n",
    "\n",
    "\n",
    "def file_path(file_name):\n",
    "    return os.path.join(DATA_PATH, file_name)\n",
    "\n",
    "\n",
    "def image_path(file_name):\n",
    "    return os.path.join(IMAGE_FOLDER, file_name)\n"
   ]
  },
  {
   "attachments": {},
   "cell_type": "markdown",
   "metadata": {},
   "source": [
    "**Parameters for plots**"
   ]
  },
  {
   "cell_type": "code",
   "execution_count": 4,
   "metadata": {},
   "outputs": [],
   "source": [
    "REF_SIZE = 24\n",
    "TICK_SIZE = REF_SIZE\n",
    "LEGEND_SIZE = REF_SIZE - 4\n",
    "LABEL_SIZE = REF_SIZE + 2\n",
    "TITLE_SIZE = REF_SIZE + 2\n",
    "SMALL_TITLE_SIZE = REF_SIZE\n",
    "TINY_TITLE_SIZE = REF_SIZE - 4\n",
    "SUP_TITLE_SIZE = REF_SIZE + 6\n",
    "FIGSIZE = (8, 5)\n",
    "SAVE_FIG = True"
   ]
  },
  {
   "cell_type": "code",
   "execution_count": 5,
   "metadata": {
    "ExecuteTime": {
     "end_time": "2023-02-24T09:13:10.969486Z",
     "start_time": "2023-02-24T09:13:10.962470Z"
    }
   },
   "outputs": [],
   "source": [
    "def get_rotation_matrix(m, l, alpha):\n",
    "    return np.diag(np.exp(1j*np.array(m)*alpha))\n",
    "\n",
    "def sort(A):\n",
    "    return A[ml_sorted_idx,:][:,ml_sorted_idx]\n",
    "\n",
    "def leq(A,l_val):\n",
    "    ind = select_l(l_val)\n",
    "    return A[ind,:][:,ind]\n",
    "\n",
    "def leq1(A):\n",
    "    return leq(A,1)\n",
    "\n",
    "def meq0(A):\n",
    "    return A[meq0_sorted_idx,:][:,meq0_sorted_idx]\n",
    "\n",
    "def ipr_m(A):\n",
    "    # I = np.abs(A)**2\n",
    "    # return np.sum(I*deltaM)**2/np.sum(I**2)\n",
    "    dm_max = int(np.max(deltaM))\n",
    "    I_dm = []\n",
    "    for dm in range(dm_max+1):\n",
    "        mask = deltaM == dm\n",
    "        I_dm.append(np.sum(mask*np.abs(A)**2)/np.sum(mask))\n",
    "    I_dm = np.array(I_dm)\n",
    "    return np.sum(I_dm**2)/np.sum(I_dm)**2\n",
    "    \n",
    "def corr(A,B):\n",
    "    A = A - np.mean(A)\n",
    "    B = B - np.mean(B)\n",
    "    return np.sum(A*B.conjugate())/np.sqrt(np.sum(A*A.conjugate())*np.sum(B*B.conjugate()))"
   ]
  },
  {
   "cell_type": "code",
   "execution_count": 6,
   "metadata": {},
   "outputs": [],
   "source": [
    "data2save = {}\n",
    "def save_data():\n",
    "    pickle.dump(\n",
    "        data2save,\n",
    "        open(DATA_PATH / \"processed_data.pkl\", \"wb\") \n",
    "    )"
   ]
  },
  {
   "attachments": {},
   "cell_type": "markdown",
   "metadata": {},
   "source": [
    "# I. Simulation of the fiber modes"
   ]
  },
  {
   "attachments": {},
   "cell_type": "markdown",
   "metadata": {},
   "source": [
    "## A. Simulation parameters \n",
    "(to match the experimental fiber)"
   ]
  },
  {
   "cell_type": "code",
   "execution_count": 7,
   "metadata": {
    "ExecuteTime": {
     "end_time": "2023-02-24T09:13:56.900504Z",
     "start_time": "2023-02-24T09:13:56.894994Z"
    }
   },
   "outputs": [],
   "source": [
    "NA = 0.2\n",
    "radius = 25 # in microns\n",
    "areaSize = 2.4*radius # calculate the field on an area larger than the diameter of the fiber\n",
    "npoints = 2**8 # resolution of the window\n",
    "n1 = 1.45\n",
    "wl = 1.55 # wavelength in microns\n",
    "curvature = None\n",
    "k0 = 2.*np.pi/wl\n",
    "\n",
    "\n",
    "r_max = 3.2*radius\n",
    "npoints_search = 2**8\n",
    "dh = 2*radius/npoints_search"
   ]
  },
  {
   "attachments": {},
   "cell_type": "markdown",
   "metadata": {},
   "source": [
    "## B. Find modes of straight fiber"
   ]
  },
  {
   "attachments": {},
   "cell_type": "markdown",
   "metadata": {},
   "source": [
    "### B.1 Create the fiber index profile"
   ]
  },
  {
   "cell_type": "code",
   "execution_count": 8,
   "metadata": {
    "ExecuteTime": {
     "end_time": "2023-02-24T09:13:05.221042Z",
     "start_time": "2023-02-24T09:13:05.212291Z"
    }
   },
   "outputs": [],
   "source": [
    "profile = pyMMF.IndexProfile(npoints = npoints, areaSize = areaSize)\n",
    "profile.initParabolicGRIN(n1=n1, a=radius, NA=NA)"
   ]
  },
  {
   "attachments": {},
   "cell_type": "markdown",
   "metadata": {},
   "source": [
    "### B.2 Instantiate the solver"
   ]
  },
  {
   "cell_type": "code",
   "execution_count": 9,
   "metadata": {
    "ExecuteTime": {
     "end_time": "2023-02-24T09:13:05.782856Z",
     "start_time": "2023-02-24T09:13:05.768823Z"
    }
   },
   "outputs": [
    {
     "name": "stderr",
     "output_type": "stream",
     "text": [
      "2023-08-21 12:49:11,844 - pyMMF.core [DEBUG  ]  Debug mode ON.\n"
     ]
    }
   ],
   "source": [
    "solver = pyMMF.propagationModeSolver()\n",
    "solver.setIndexProfile(profile)\n",
    "solver.setWL(wl)"
   ]
  },
  {
   "attachments": {},
   "cell_type": "markdown",
   "metadata": {},
   "source": [
    "### 1.2.3 Run the solver"
   ]
  },
  {
   "cell_type": "code",
   "execution_count": 10,
   "metadata": {
    "ExecuteTime": {
     "end_time": "2023-02-24T09:13:06.862587Z",
     "start_time": "2023-02-24T09:13:06.338170Z"
    }
   },
   "outputs": [
    {
     "name": "stderr",
     "output_type": "stream",
     "text": [
      "2023-08-21 12:49:12,348 - pyMMF.solv [INFO   ]  Found 5 radial mode(s) for m=0\n",
      "2023-08-21 12:49:12,348 - pyMMF.solv [INFO   ]  Searching propagation constant for |l| = 1\n",
      "2023-08-21 12:49:12,413 - pyMMF.solv [ERROR  ]  Field limit 1.0 at the founded beta=0.05066217542815342 is greater than field_limit_tol=0.001\n",
      "2023-08-21 12:49:12,446 - pyMMF.solv [WARNING]  Boundary condition could not be met.\n",
      "2023-08-21 12:49:12,499 - pyMMF.solv [WARNING]  Retrying by changing r_max to 2.72a\n",
      "2023-08-21 12:49:12,572 - pyMMF.solv [ERROR  ]  Field limit 1.0 at the founded beta=0.05066217542815342 is greater than field_limit_tol=0.001\n",
      "2023-08-21 12:49:12,596 - pyMMF.solv [WARNING]  Boundary condition could not be met.\n",
      "2023-08-21 12:49:12,621 - pyMMF.solv [WARNING]  Retrying by changing r_max to 2.31a\n",
      "2023-08-21 12:49:12,640 - pyMMF.solv [ERROR  ]  Field limit 0.7012700255083901 at the founded beta=0.05066217542815342 is greater than field_limit_tol=0.001\n",
      "2023-08-21 12:49:12,663 - pyMMF.solv [WARNING]  Boundary condition could not be met.\n",
      "2023-08-21 12:49:12,679 - pyMMF.solv [WARNING]  Retrying by changing r_max to 1.97a\n",
      "2023-08-21 12:49:12,697 - pyMMF.solv [ERROR  ]  Field limit 0.0010259354340790162 at the founded beta=0.05066217542815342 is greater than field_limit_tol=0.001\n",
      "2023-08-21 12:49:12,713 - pyMMF.solv [WARNING]  Boundary condition could not be met.\n",
      "2023-08-21 12:49:12,729 - pyMMF.solv [WARNING]  Retrying by changing r_max to 1.67a\n",
      "2023-08-21 12:49:12,751 - pyMMF.solv [INFO   ]  Searching propagation constant for |l| = 2\n",
      "2023-08-21 12:49:12,767 - pyMMF.solv [INFO   ]  Searching propagation constant for |l| = 3\n",
      "2023-08-21 12:49:12,784 - pyMMF.solv [INFO   ]  Searching propagation constant for |l| = 4\n",
      "2023-08-21 12:49:12,800 - pyMMF.solv [INFO   ]  Searching propagation constant for |l| = 5\n",
      "2023-08-21 12:49:12,830 - pyMMF.solv [INFO   ]  Found 5 radial mode(s) for m=1\n",
      "2023-08-21 12:49:12,838 - pyMMF.solv [INFO   ]  Searching propagation constant for |l| = 1\n",
      "2023-08-21 12:49:12,866 - pyMMF.solv [INFO   ]  Searching propagation constant for |l| = 2\n",
      "2023-08-21 12:49:12,897 - pyMMF.solv [INFO   ]  Searching propagation constant for |l| = 3\n",
      "2023-08-21 12:49:12,941 - pyMMF.solv [INFO   ]  Searching propagation constant for |l| = 4\n",
      "2023-08-21 12:49:12,965 - pyMMF.solv [INFO   ]  Searching propagation constant for |l| = 5\n",
      "2023-08-21 12:49:12,995 - pyMMF.solv [INFO   ]  Found 4 radial mode(s) for m=2\n",
      "2023-08-21 12:49:13,013 - pyMMF.solv [INFO   ]  Searching propagation constant for |l| = 1\n",
      "2023-08-21 12:49:13,050 - pyMMF.solv [INFO   ]  Searching propagation constant for |l| = 2\n",
      "2023-08-21 12:49:13,066 - pyMMF.solv [INFO   ]  Searching propagation constant for |l| = 3\n",
      "2023-08-21 12:49:13,083 - pyMMF.solv [INFO   ]  Searching propagation constant for |l| = 4\n",
      "2023-08-21 12:49:13,111 - pyMMF.solv [INFO   ]  Found 4 radial mode(s) for m=3\n",
      "2023-08-21 12:49:13,112 - pyMMF.solv [INFO   ]  Searching propagation constant for |l| = 1\n",
      "2023-08-21 12:49:13,141 - pyMMF.solv [INFO   ]  Searching propagation constant for |l| = 2\n",
      "2023-08-21 12:49:13,157 - pyMMF.solv [INFO   ]  Searching propagation constant for |l| = 3\n",
      "2023-08-21 12:49:13,174 - pyMMF.solv [INFO   ]  Searching propagation constant for |l| = 4\n",
      "2023-08-21 12:49:13,202 - pyMMF.solv [INFO   ]  Found 3 radial mode(s) for m=4\n",
      "2023-08-21 12:49:13,203 - pyMMF.solv [INFO   ]  Searching propagation constant for |l| = 1\n",
      "2023-08-21 12:49:13,232 - pyMMF.solv [INFO   ]  Searching propagation constant for |l| = 2\n",
      "2023-08-21 12:49:13,276 - pyMMF.solv [INFO   ]  Searching propagation constant for |l| = 3\n",
      "2023-08-21 12:49:13,349 - pyMMF.solv [INFO   ]  Found 3 radial mode(s) for m=5\n",
      "2023-08-21 12:49:13,349 - pyMMF.solv [INFO   ]  Searching propagation constant for |l| = 1\n",
      "2023-08-21 12:49:13,383 - pyMMF.solv [INFO   ]  Searching propagation constant for |l| = 2\n",
      "2023-08-21 12:49:13,407 - pyMMF.solv [INFO   ]  Searching propagation constant for |l| = 3\n",
      "2023-08-21 12:49:13,445 - pyMMF.solv [INFO   ]  Found 2 radial mode(s) for m=6\n",
      "2023-08-21 12:49:13,445 - pyMMF.solv [INFO   ]  Searching propagation constant for |l| = 1\n",
      "2023-08-21 12:49:13,474 - pyMMF.solv [INFO   ]  Searching propagation constant for |l| = 2\n",
      "2023-08-21 12:49:13,511 - pyMMF.solv [INFO   ]  Found 2 radial mode(s) for m=7\n",
      "2023-08-21 12:49:13,513 - pyMMF.solv [INFO   ]  Searching propagation constant for |l| = 1\n",
      "2023-08-21 12:49:13,550 - pyMMF.solv [INFO   ]  Searching propagation constant for |l| = 2\n",
      "2023-08-21 12:49:13,586 - pyMMF.solv [INFO   ]  Found 1 radial mode(s) for m=8\n",
      "2023-08-21 12:49:13,588 - pyMMF.solv [INFO   ]  Searching propagation constant for |l| = 1\n",
      "2023-08-21 12:49:13,637 - pyMMF.solv [INFO   ]  Found 1 radial mode(s) for m=9\n",
      "2023-08-21 12:49:13,638 - pyMMF.solv [INFO   ]  Searching propagation constant for |l| = 1\n",
      "2023-08-21 12:49:13,686 - pyMMF.solv [INFO   ]  Found 0 radial mode(s) for m=10\n",
      "2023-08-21 12:49:13,722 - pyMMF.solv [INFO   ]  Solver found 55 modes is 1.39 seconds.\n",
      "2023-08-21 12:49:13,747 - pyMMF.core [DEBUG  ]  Mode data stored in memory.\n"
     ]
    }
   ],
   "source": [
    "modes = solver.solve(\n",
    "        mode='radial_test',\n",
    "        curvature = None,\n",
    "        r_max = r_max, # max radius to calculate (and first try for large radial boundary condition)\n",
    "        dh = dh, # radial resolution during the computation\n",
    "        min_radius_bc = .5, # min large radial boundary condition\n",
    "        change_bc_radius_step = 0.85, #change of the large radial boundary condition if fails \n",
    "        N_beta_coarse = int(1e3), # number of steps of the initial coarse scan\n",
    "        degenerate_mode = 'exp',\n",
    "        save_radial = True,\n",
    "        )\n",
    "\n",
    "nmodes = modes.number"
   ]
  },
  {
   "attachments": {},
   "cell_type": "markdown",
   "metadata": {},
   "source": [
    "### 1.2.4 Retrieve the modes"
   ]
  },
  {
   "cell_type": "code",
   "execution_count": 11,
   "metadata": {
    "ExecuteTime": {
     "end_time": "2023-02-24T09:13:07.347309Z",
     "start_time": "2023-02-24T09:13:07.340932Z"
    }
   },
   "outputs": [],
   "source": [
    "M = modes.getModeMatrix()\n",
    "l=modes.l\n",
    "m=modes.m\n",
    "ml = list(zip(m, l) )\n",
    "TM_mode = modes.getPropagationMatrix(distance = 100)"
   ]
  },
  {
   "cell_type": "code",
   "execution_count": 12,
   "metadata": {},
   "outputs": [],
   "source": [
    "data2save['modes'] = {\n",
    "    'm': m,\n",
    "    'l': l,\n",
    "    'ml': ml,\n",
    "    'betas': modes.betas,\n",
    "    'M': M,\n",
    "}\n",
    "\n",
    "save_data()"
   ]
  },
  {
   "cell_type": "code",
   "execution_count": 13,
   "metadata": {},
   "outputs": [],
   "source": [
    "# modes2 = np.load(DATA_PATH / \"modes.npz\")\n",
    "# Mout = modes2[\"modes_out\"].astype(np.complex64)\n",
    "# m2 = modes2[\"m\"]\n",
    "# l2 = modes2[\"l\"]\n",
    "# M2 = modes2['modes_out']\n",
    "# betas2 = \n",
    "# data2save['modes'] = \n",
    "# {\n",
    "\n",
    "# }"
   ]
  },
  {
   "cell_type": "code",
   "execution_count": 14,
   "metadata": {
    "ExecuteTime": {
     "end_time": "2023-02-24T09:13:07.775416Z",
     "start_time": "2023-02-24T09:13:07.769635Z"
    }
   },
   "outputs": [],
   "source": [
    "ml_indexed = [[i, x] for i,x in enumerate(ml)]\n",
    "ml_indexed_sorted = sorted(ml_indexed, key = lambda x: x[1][0])\n",
    "# ind = np.argsort(np.array(ml), axis = 0)\n",
    "ml_sorted_idx = [x[0] for x in ml_indexed_sorted]\n",
    "# ml_sorted_idx\n",
    "def select_l(l_val):\n",
    "    return [x[0] for x in ml_indexed_sorted if x[1][1] == l_val]\n",
    "leq1_sorted_idx = select_l(1)\n",
    "meq0_sorted_idx = [x[0] for x in ml_indexed_sorted if x[1][0] == 0]"
   ]
  },
  {
   "cell_type": "code",
   "execution_count": 15,
   "metadata": {
    "ExecuteTime": {
     "end_time": "2023-02-24T09:13:09.463419Z",
     "start_time": "2023-02-24T09:13:09.452822Z"
    }
   },
   "outputs": [],
   "source": [
    "# matrix containing the difference of m (OAM) number between pairs of modes\n",
    "deltaM = np.zeros((nmodes, nmodes), dtype = float)\n",
    "for i_val1,m_val1 in enumerate(m):\n",
    "    for i_val2, m_val2 in enumerate(m):\n",
    "        deltaM[i_val1, i_val2] = m_val1-m_val2\n",
    "        \n",
    "# matrix containing the difference of propagation constants beta between pairs of modes\n",
    "deltaBeta = np.zeros((nmodes, nmodes), dtype = float)\n",
    "for i_val1, beta_val1 in enumerate(modes.betas):\n",
    "    for i_val2, beta_val2 in enumerate(modes.betas):\n",
    "        deltaBeta[i_val1, i_val2] = beta_val1-beta_val2\n",
    "\n",
    "# matrix containing the difference of l (radial momentum) number beta between pairs of modes\n",
    "deltaL = np.zeros((nmodes, nmodes), dtype = float)\n",
    "for i_val1, l_val1 in enumerate(l):\n",
    "    for i_val2, l_val2 in enumerate(l):\n",
    "        deltaL[i_val1, i_val2] = l_val1-l_val2\n",
    "\n",
    "def get_mask_l(l_val = None):\n",
    "    mask = np.zeros((nmodes, nmodes), dtype = int)\n",
    "    assert l_val is not None or m_val is not None \n",
    "    for i_val1, (m_val1, l_val1) in enumerate(ml):\n",
    "        for i_val2, (m_val2, l_val2) in enumerate(ml):\n",
    "            if l_val1 == l_val and l_val2 == l_val:\n",
    "                 mask[i_val1, i_val2] = 1\n",
    "    return mask\n",
    "\n",
    "\n",
    "\n"
   ]
  },
  {
   "cell_type": "code",
   "execution_count": null,
   "metadata": {},
   "outputs": [],
   "source": []
  },
  {
   "attachments": {},
   "cell_type": "markdown",
   "metadata": {},
   "source": [
    "### 1.2.5 Useful functions"
   ]
  },
  {
   "attachments": {},
   "cell_type": "markdown",
   "metadata": {},
   "source": [
    "# II. Experimental data"
   ]
  },
  {
   "attachments": {},
   "cell_type": "markdown",
   "metadata": {},
   "source": [
    "## A. Load data"
   ]
  },
  {
   "attachments": {},
   "cell_type": "markdown",
   "metadata": {},
   "source": [
    "### A.1. Load parameters of the fiber and the experiment"
   ]
  },
  {
   "cell_type": "code",
   "execution_count": 16,
   "metadata": {},
   "outputs": [],
   "source": [
    "with open(file_path(\"param.pkl\"), \"rb\") as file:\n",
    "    param = pickle.load(file, encoding=\"latin1\")\n",
    "\n",
    "\n",
    "# number of pixels in each axis in the input plane (DMD)\n",
    "N_in = param[\"fiber\"][\"inpoints\"]\n",
    "# number of pixels in each axis in the output plane (camera)\n",
    "N_out = param[\"fiber\"][\"onpoints\"]\n",
    "\n",
    "# angles of rotation of the input wavefronts\n",
    "angles = param[\"RME\"][\"angles\"]\n",
    "n_a = param[\"RME\"][\"n_angles\"]\n",
    "# number of random input wavefronts\n",
    "n_rnd = param[\"RME\"][\"n_rnd\"]\n",
    "nv_max = param[\"RME\"][\"nv_max\"]\n",
    "\n",
    "# number of operatoirs\n",
    "n_op = param[\"RME\"][\"n_op\"]\n",
    "# number of the first modes of each operator sent to the DMD\n",
    "n_rm = param[\"RME\"][\"n_rm\"]\n",
    "n_angles_for_corr = param[\"RME\"][\"n_ang_corr\"]\n",
    "\n",
    "\n",
    "# load parameters associated with the shrinked data files\n",
    "with open(file_path(\"param_small.pkl\"), \"rb\") as file:\n",
    "    param = pickle.load(file, encoding=\"latin1\")\n",
    "\n",
    "# number of deformation values stored in the demo\n",
    "# (the actual full dataset has 30 deformation values)\n",
    "n_defomr = param[\"n_deform\"]\n",
    "\n",
    "# deformation indices used in the demo\n",
    "deformation_indices = param[\"deformation_indices\"]\n",
    "# deformation_indices = [0,3]\n",
    "\n",
    "# deformation values\n",
    "Delta_x = param[\"Delta_x\"]\n"
   ]
  },
  {
   "cell_type": "code",
   "execution_count": 17,
   "metadata": {},
   "outputs": [
    {
     "data": {
      "text/plain": [
       "{'NA': 0.2,\n",
       " 'radius': 25.6,\n",
       " 'name': 'DRAKA-GRIN',\n",
       " 'type': 'GRIN',\n",
       " 'wl': 1.55,\n",
       " 'n1': 1.4545,\n",
       " 'curvature': None,\n",
       " 'length': 2500000.0,\n",
       " 'ipitch': 2.232,\n",
       " 'opitch': 1.2480000000000002,\n",
       " 'inpoints': 30,\n",
       " 'onpoints': 49}"
      ]
     },
     "execution_count": 17,
     "metadata": {},
     "output_type": "execute_result"
    }
   ],
   "source": [
    "with open(file_path(\"param.pkl\"), \"rb\") as file:\n",
    "    param = pickle.load(file, encoding=\"latin1\")\n",
    "\n",
    "param['fiber']"
   ]
  },
  {
   "attachments": {},
   "cell_type": "markdown",
   "metadata": {},
   "source": [
    "### A.2 Load the measured output fields corresponding to rotated inputs for different deformations "
   ]
  },
  {
   "attachments": {},
   "cell_type": "markdown",
   "metadata": {},
   "source": [
    "**load and concatenate the measurements for random input at different levels of deformation**"
   ]
  },
  {
   "cell_type": "code",
   "execution_count": 18,
   "metadata": {},
   "outputs": [],
   "source": [
    "filepaths = glob.glob(file_path(\"Ys_rnd_small_p1_*.npz\"))\n",
    "arrays = []\n",
    "for filepath in filepaths:\n",
    "    data = np.load(filepath)\n",
    "    arr = load_complex32(filename=filepath)\n",
    "    arrays.append(arr)\n",
    "Ys_rnd_p1 = np.stack(arrays, axis=0)\n",
    "# move the axis so that the penultimate one corresponds to angles\n",
    "Ys_rnd_p1 = np.moveaxis(Ys_rnd_p1, -3, -2)\n",
    "\n",
    "filepaths = glob.glob(file_path(\"Ys_rnd_small_p2_*.npz\"))\n",
    "arrays = []\n",
    "for filepath in filepaths:\n",
    "    data = np.load(filepath)\n",
    "    arr = load_complex32(filename=filepath)\n",
    "    arrays.append(arr)\n",
    "Ys_rnd_p2 = np.stack(arrays, axis=0)\n",
    "# move the axis so that the penultimate one corresponds to angles\n",
    "Ys_rnd_p2 = np.moveaxis(Ys_rnd_p2, -3, -2)"
   ]
  },
  {
   "attachments": {},
   "cell_type": "markdown",
   "metadata": {},
   "source": [
    "**Concatenate the two polarizations to have the full output fields**"
   ]
  },
  {
   "cell_type": "code",
   "execution_count": 19,
   "metadata": {},
   "outputs": [],
   "source": [
    "Ys_rnd = np.concatenate((Ys_rnd_p1, Ys_rnd_p2), axis=-1)"
   ]
  },
  {
   "attachments": {},
   "cell_type": "markdown",
   "metadata": {},
   "source": [
    "### A.3 Load the TMs in the mode basis"
   ]
  },
  {
   "cell_type": "code",
   "execution_count": 20,
   "metadata": {},
   "outputs": [],
   "source": [
    "TMs_mode = np.load(os.path.join(DATA_PATH, \"TMs_mode.npy\")).astype(np.complex64)\n",
    "n_modes = TMs_mode.shape[-1]\n",
    "# select one polarization, and take only the deformation values used in the demo\n",
    "TMs = TMs_mode[deformation_indices, :n_modes, :]"
   ]
  },
  {
   "cell_type": "code",
   "execution_count": 21,
   "metadata": {},
   "outputs": [],
   "source": [
    "# Min_corr = data['modes_in_corr']\n",
    "# Min = data['modes_in']"
   ]
  },
  {
   "attachments": {},
   "cell_type": "markdown",
   "metadata": {},
   "source": [
    "## B. Experimentally measured RME correlation"
   ]
  },
  {
   "attachments": {},
   "cell_type": "markdown",
   "metadata": {},
   "source": [
    "### B.1 Average output intensity for random inputs wavefronts\n",
    "\n",
    "We excite from one circular polarization and measure both at the output"
   ]
  },
  {
   "cell_type": "code",
   "execution_count": 22,
   "metadata": {},
   "outputs": [
    {
     "data": {
      "image/png": "[encoded data removed]",
      "text/plain": [
       "<Figure size 864x432 with 2 Axes>"
      ]
     },
     "metadata": {
      "needs_background": "light"
     },
     "output_type": "display_data"
    }
   ],
   "source": [
    "mask_corr = get_disk_mask([N_out, N_out],0.74*N_out/2)\n",
    "mask_corr_2p = np.concatenate((mask_corr,mask_corr), axis=0)\n",
    "I_mean = np.mean(np.abs(Ys_rnd[0])**2, axis=(0,1)).reshape((N_out*2,N_out))\n",
    "I_mean_p1 = I_mean[:N_out,:]\n",
    "I_mean_p2 = I_mean[N_out:,:]\n",
    "plt.figure(figsize = (12,6))\n",
    "plt.subplot(121)\n",
    "plt.imshow(I_mean_p1)\n",
    "plt.axis('off')\n",
    "plt.title(r'$\\parallel$ polarization', fontsize = SMALL_TITLE_SIZE)\n",
    "plt.subplot(122)\n",
    "plt.imshow(I_mean_p2)\n",
    "plt.axis('off')\n",
    "plt.title(r'$\\perp$ polarization', fontsize = SMALL_TITLE_SIZE)\n",
    "plt.suptitle('Average intensity', fontsize = TITLE_SIZE);"
   ]
  },
  {
   "attachments": {},
   "cell_type": "markdown",
   "metadata": {},
   "source": [
    "## B.2 Field correlation"
   ]
  },
  {
   "cell_type": "code",
   "execution_count": 23,
   "metadata": {},
   "outputs": [],
   "source": [
    "# field correlation\n",
    "Ys_rnd_ref_p1 = Ys_rnd_p1[...,0,:]\n",
    "rnd_corr_p1 = stack_correlation(Ys_rnd_p1, Ys_rnd_ref_p1)\n",
    "\n",
    "Ys_rnd_ref_p2 = Ys_rnd_p2[...,0,:]\n",
    "rnd_corr_p2 = stack_correlation(Ys_rnd_p2, Ys_rnd_ref_p2)\n",
    "# intensity correlation\n",
    "rndint_corr_p1 = stack_correlation(\n",
    "    np.abs(Ys_rnd_p1)**2, \n",
    "    np.abs(Ys_rnd_ref_p1)**2\n",
    ")"
   ]
  },
  {
   "attachments": {},
   "cell_type": "markdown",
   "metadata": {},
   "source": [
    "#### Compute RME field correlations for both output polarizations"
   ]
  },
  {
   "cell_type": "code",
   "execution_count": 24,
   "metadata": {},
   "outputs": [],
   "source": [
    "Corr_mean_exp = np.mean(np.abs(rnd_corr_p1),axis=-2)\n",
    "Corr_std_exp = np.std(np.abs(rnd_corr_p1),axis=-2)\n",
    "\n",
    "Corr_mean_exp_p2 = np.mean(np.abs(rnd_corr_p2),axis=-2)\n",
    "Corr_std_exp_p2 = np.std(np.abs(rnd_corr_p2),axis=-2)\n",
    "\n",
    "data2save['exp'] = {\n",
    "    'Corr_mean': Corr_mean_exp,\n",
    "    'Corr_std': Corr_std_exp,\n",
    "    'angles': angles,\n",
    "}\n",
    "save_data()"
   ]
  },
  {
   "attachments": {},
   "cell_type": "markdown",
   "metadata": {},
   "source": [
    "#### Show the results"
   ]
  },
  {
   "cell_type": "code",
   "execution_count": 25,
   "metadata": {},
   "outputs": [
    {
     "data": {
      "image/png": "[encoded data removed]",
      "text/plain": [
       "<Figure size 1296x360 with 2 Axes>"
      ]
     },
     "metadata": {
      "needs_background": "light"
     },
     "output_type": "display_data"
    }
   ],
   "source": [
    "def plot_error(y, y_err, color):\n",
    "    plt.errorbar(angles,y  , yerr=y_err, color = color,\n",
    "        linewidth = 2,\n",
    "        linestyle = 'None', \n",
    "        capsize = 4,\n",
    "        capthick = 2,\n",
    "        alpha = 0.4)\n",
    "\n",
    "def show_RME_corr_2pola(show_error=True, save_fig=True):\n",
    "    deformations2show = [2, 3]\n",
    "    # colors = generate_color_shades('PuRd', 4)\n",
    "    cmap = get_color_map(n=len(deformations2show) + 1)\n",
    "    plt.figure(figsize=(18, 5))\n",
    "    plt.subplot(121)\n",
    "    for ind_color, ind_deformation in enumerate(deformations2show):\n",
    "        color = cmap(ind_color)\n",
    "        plt.errorbar(\n",
    "            angles,\n",
    "            Corr_mean_exp[ind_deformation],\n",
    "            label=rf\"$\\Delta x = {Delta_x[ind_deformation]:.0f} \\mu m$\",\n",
    "            color=color,\n",
    "            marker=\"o\",\n",
    "            linewidth=2,\n",
    "        )\n",
    "        if show_error:\n",
    "            plot_error(\n",
    "                Corr_mean_exp[ind_deformation],\n",
    "                Corr_std_exp[ind_deformation],\n",
    "                color=color,\n",
    "            )\n",
    "    plt.xlabel(r\"$\\theta$\", fontsize=LABEL_SIZE)\n",
    "    plt.ylabel(r\"$C(\\theta)$\", fontsize=LABEL_SIZE)\n",
    "    xticks = [0, np.pi / 2, np.pi, 3 * np.pi / 2, 2 * np.pi]\n",
    "    xtics_labels = [r\"$0$\", r\"$\\pi/2$\", r\"$\\pi$\", r\"$3\\pi/2$\", r\"$2\\pi$\"]\n",
    "    plt.xticks(xticks, xtics_labels, fontsize=TICK_SIZE)\n",
    "    plt.yticks(fontsize=TICK_SIZE)\n",
    "    plt.legend(fontsize=LEGEND_SIZE)\n",
    "    plt.title(r\"$\\parallel$ polarization\", fontsize=SMALL_TITLE_SIZE)\n",
    "\n",
    "    plt.subplot(122)\n",
    "    for ind_color, ind_deformation in enumerate(deformations2show):\n",
    "        color = cmap(ind_color)\n",
    "        plt.errorbar(\n",
    "            angles,\n",
    "            Corr_mean_exp_p2[ind_deformation],\n",
    "            label=rf\"$\\Delta x = {Delta_x[ind_deformation]:.0f} \\mu m$\",\n",
    "            color=color,\n",
    "            marker=\"o\",\n",
    "            linewidth=2,\n",
    "        )\n",
    "        if show_error:\n",
    "            plot_error(\n",
    "                Corr_mean_exp_p2[ind_deformation],\n",
    "                Corr_std_exp_p2[ind_deformation],\n",
    "                color=color,\n",
    "            )\n",
    "    plt.xlabel(r\"$\\theta$\", fontsize=LABEL_SIZE)\n",
    "    plt.ylabel(r\"$C(\\theta)$\", fontsize=LABEL_SIZE)\n",
    "    xticks = [0, np.pi / 2, np.pi, 3 * np.pi / 2, 2 * np.pi]\n",
    "    xtics_labels = [r\"$0$\", r\"$\\pi/2$\", r\"$\\pi$\", r\"$3\\pi/2$\", r\"$2\\pi$\"]\n",
    "    plt.xticks(xticks, xtics_labels, fontsize=TICK_SIZE)\n",
    "    plt.yticks(fontsize=TICK_SIZE)\n",
    "    plt.legend(fontsize=LEGEND_SIZE, loc=\"lower right\")\n",
    "    plt.title(r\"$\\perp$ polarization\", fontsize=SMALL_TITLE_SIZE)\n",
    "\n",
    "    plt.suptitle(\"Field correlation\", fontsize=SUP_TITLE_SIZE)\n",
    "\n",
    "    if save_fig:\n",
    "        plt.savefig(\n",
    "            image_path(f\"RMEcorr_Vs_deform.svg\"),\n",
    "            dpi=300,\n",
    "        )\n",
    "\n",
    "\n",
    "show_RME_corr_2pola(show_error=True, save_fig=SAVE_FIG)"
   ]
  },
  {
   "cell_type": "code",
   "execution_count": 26,
   "metadata": {},
   "outputs": [],
   "source": [
    "nmodes = TMs_mode.shape[-1]\n",
    "TMs_pola1 = TMs_mode[:,:nmodes, :] \n",
    "TMs_pola2 = TMs_mode[:,nmodes:, :]"
   ]
  },
  {
   "attachments": {},
   "cell_type": "markdown",
   "metadata": {},
   "source": [
    "# III. Theoretical predictions and fit"
   ]
  },
  {
   "attachments": {},
   "cell_type": "markdown",
   "metadata": {},
   "source": [
    "\n",
    "$$\n",
    "    C(\\theta) =  1+\n",
    "        A\\sum_q \\Gamma_q^2 (\\cos(q\\theta)-1) B_{\\gamma\\alpha}(q)\n",
    "$$\n",
    "\n",
    "with \n",
    "$$\n",
    "    A = (k_0 l_z)^2 \\frac{L}{l_z}\n",
    "$$\n",
    "\n",
    "and\n",
    "\n",
    "$$\n",
    "    B_{\\gamma\\alpha} = \\sum_{\\alpha,\\gamma/\\left|m_\\gamma-m_\\alpha\\right|=q} \\text{sinc}^2\\left(\\frac{\\beta_\\gamma-\\beta_\\alpha}{2}\\right) I_{\\gamma\\alpha}\n",
    "$$\n",
    "\n",
    "$$\n",
    "I_{\\gamma\\alpha} = \\frac{1}{N_{modes}} \n",
    "    \\int_0^a dr \\left|a_\\gamma(r)\\right|^2 \\left|a_\\alpha(r)\\right|^2 r^2\n",
    "    \\int_{-\\infty}^\\infty dr' \\left\\langle f_p(r) f_p(r+r') \\right\\rangle\n",
    "$$\n",
    "\n",
    "$$\n",
    "    \\int_{-\\infty}^\\infty dr' \\left\\langle f_p(r) f_p(r+r') \\right\\rangle \n",
    "    \\approx 4 \\left(\\frac{\\Delta n r}{a^2}\\right)^2 d_\\text{layer}^3\n",
    "$$\n",
    "\n",
    "for a radial disorder of the form\n",
    "\n",
    "\n",
    "$$\n",
    "    f_p(r) = \\frac{d n}{d r} d_\\text{layer} b(r)\n",
    "$$\n",
    "\n",
    "with $b(r)$ a Gaussian noise so that \n",
    "\n",
    "$$\n",
    "\\left\\langle b(r) b(r+r') \\right\\rangle  \\approx d_\\text{layer} \\delta(r')\n",
    "$$\n"
   ]
  },
  {
   "attachments": {},
   "cell_type": "markdown",
   "metadata": {},
   "source": [
    "## A. Parameters"
   ]
  },
  {
   "cell_type": "code",
   "execution_count": 27,
   "metadata": {},
   "outputs": [],
   "source": [
    "# total fiber length\n",
    "L_tot = 2.45e4 #um\n",
    "# correlation length in the z direction 100 umn\n",
    "dz = 1e2 #um\n",
    "# \n",
    "d_layer = 1\n",
    "# discretization of the radial disorder\n",
    "# # dr = 5*dh\n",
    "# dr = d_layer#5 * dh\n",
    "# number of max gamma parameters to consider\n",
    "# n_gamma_params = 5\n",
    "# dr = d_layer\n"
   ]
  },
  {
   "cell_type": "code",
   "execution_count": 28,
   "metadata": {},
   "outputs": [],
   "source": [
    "# from findiff import FinDiff\n",
    "\n",
    "\n",
    "# r_vec = np.arange(0, r_max, dr)\n",
    "\n",
    "# f_n = profile.radialFunc\n",
    "# d_dr = FinDiff(0, dr)\n",
    "# dn1 = d_dr(np.array([f_n(r) for r in r_vec]))\n",
    "\n",
    "\n",
    "# fdn = lambda r: -2*r/(radius**2) * Dn * (r > 0) * (r < radius)\n",
    "# plt.figure(figsize = (20,7))\n",
    "# plt.plot(r_vec, dn1)\n",
    "# plt.plot(r_vec, fdn(r_vec))"
   ]
  },
  {
   "attachments": {},
   "cell_type": "markdown",
   "metadata": {},
   "source": [
    "## B. Computation of the mode dependent terms"
   ]
  },
  {
   "cell_type": "code",
   "execution_count": 29,
   "metadata": {},
   "outputs": [],
   "source": [
    "def radial_norm(t, r_vec, d):\n",
    "    return np.sqrt(2*np.pi*np.sum(np.abs(t) ** 2 * r_vec)*d)\n",
    "\n",
    "\n",
    "def get_norm_func_radial(f, dh, r_max):\n",
    "    r_vec = np.arange(0, r_max, d)\n",
    "    t = f(r_vec)\n",
    "    return radial_norm(t, r_vec, d)\n",
    "\n",
    "\n",
    "def normalize_r(t, r_vec, d):\n",
    "    return t / radial_norm(t, r_vec, d)\n",
    "\n",
    "def normalize_fr(f):\n",
    "    return lambda x: f(x) / np.linalg.norm(f(profile.R))   \n",
    "\n",
    "sinc = lambda x: np.sinc(x/np.pi)\n",
    "\n",
    "\n",
    "# discretization of the radial coordinate\n",
    "dr = 1e-2\n",
    "r_max = modes.data[0]['r_max']\n",
    "r_vec = np.arange(0, r_max, dr)\n",
    "\n",
    "# difference of refractive index between the axis (maximum value) and the cladding (minimum value)\n",
    "Dn = NA**2/(2.*n1)\n",
    "\n",
    "\n",
    "noise_std = lambda r: -2*r/(radius**2) * Dn * d_layer * (r > 0) * (r < radius)\n",
    "\n",
    "\n",
    "# radial profiles of the modes\n",
    "M = np.array(\n",
    "    [data[\"radial_func\"](r_vec) for data in modes.data]\n",
    ")\n",
    "\n",
    "# normalization of the radial profile\n",
    "M = M.transpose() / np.sqrt(np.sum(np.abs(M)**2*r_vec*dr, axis = 1))#np.linalg.norm(M*r_vec, axis = 1)\n",
    "M = M.transpose()\n",
    "\n",
    "MsqR = M**2 * r_vec  * noise_std(r_vec)\n",
    "\n",
    "# I = MsqR@MsqR.transpose()*R0*dr\n",
    "I = MsqR@MsqR.transpose()*d_layer*dr #*dr#/np.sqrt(d_layer)\n",
    "# beta dependence\n",
    "mask_beta = sinc(deltaBeta/2*dz)**2\n",
    "\n",
    "# coefficient A\n",
    "coeff = L_tot/dz*(k0*dz)**2*1/nmodes*.25\n",
    "\n",
    "# q values to consider in the azimuthal series decomposition\n",
    "qs =  (1,2,3,4) "
   ]
  },
  {
   "cell_type": "code",
   "execution_count": 30,
   "metadata": {},
   "outputs": [],
   "source": [
    "# def Compute_correlation(gammas, qs, normalize = True):\n",
    "#     C = []\n",
    "#     for q, gamma in zip(qs, gammas):\n",
    "#         mask_M = (np.abs(deltaM) == q)\n",
    "#         A = np.sum(mask_beta*mask_M*I) or 0.\n",
    "#         cq = gamma**2*np.cos(q*angles)*A\n",
    "#         # cq = gamma**2*(np.cos(q*angles)-1)*A\n",
    "#         C.append(cq)\n",
    "#     C = 1+coeff*np.array(C).sum(axis = 0)  \n",
    "#     if normalize:\n",
    "#         C = C/C[0]\n",
    "#         C = C-C[0]+1\n",
    "#     return C\n"
   ]
  },
  {
   "cell_type": "code",
   "execution_count": 31,
   "metadata": {},
   "outputs": [],
   "source": [
    "# Compute_corr_from_coeffs([0,0,0,0], qs)\n",
    "\n",
    "# alphas = []\n",
    "# for ind_deform, Cref in enumerate(Corr_mean_exp):\n",
    "    \n",
    "#     err = lambda x: Correlation_error(x, qs, Cref = Cref)\n",
    "#     initial_guess = n_coeffs_fit[-1] if ind_deform > 0 else [0.1]*len(qs)\n",
    "#     xopt = scipy.optimize.fmin(func=err, x0=initial_guess)\n",
    "#     alphas.append(np.abs(np.array(xopt)))\n",
    "#     # print('['+','.join([str(g) for g in xopt ])+']')\n",
    "\n",
    "# alphas = np.stack(alphas, axis = 0)\n",
    "\n",
    "# # alpha = alphas[0][0]\n",
    "\n",
    "# def get_gammas(alphas):\n",
    "#     shape = alphas.shape\n",
    "#     gammas = []\n",
    "#     for alpha in alphas.ravel():\n",
    "#         coeff_poly_root = [-x for x in poly_coeffs] + [alpha]\n",
    "#         roots = np.roots(coeff_poly_root)\n",
    "\n",
    "#         print('==>', roots)\n",
    "#         ind_root = np.argmin(np.abs(np.imag(roots)))\n",
    "#         gamma = np.sqrt(np.real(roots[ind_root]))\n",
    "#         f = lambda x: np.abs((x**2 - 4 * x**4) - alpha)**2\n",
    "#         # gamma = scipy.optimize.fmin(func=f, x0=0.1)\n",
    "#         print('----> ', gamma)\n",
    "#         gammas.append(gamma)\n",
    "#     return np.array(gammas).reshape(shape)\n",
    "# # alphas\n",
    "\n",
    "# n_coeffs_fit = get_gammas(alphas)"
   ]
  },
  {
   "cell_type": "code",
   "execution_count": 32,
   "metadata": {},
   "outputs": [],
   "source": [
    "# n_coeffs_fit = np.real(n_coeffs_fit)\n",
    "\n",
    "# ind_deformation = 0\n",
    "# plt.figure(figsize = (15,7))\n",
    "# X = poly_gamma(n_coeffs_fit[ind_deformation])\n",
    "# A = alphas[ind_deformation]\n",
    "# plt.plot(angles, Compute_corr_from_coeffs(A, qs), linewidth = 3)\n",
    "# plt.plot(angles, Compute_corr_from_coeffs(X, qs), 'r.-')\n",
    "# print(A)\n",
    "# print(X)\n",
    "# # plt.plot(angles, Compute_correlation(n_coeffs_fit[ind_deformation], qs))\n",
    "# # plt.plot(\n",
    "# #     angles,\n",
    "# #     Corr_mean_exp[ind_deformation],\n",
    "# #     'r--',\n",
    "# # )"
   ]
  },
  {
   "cell_type": "code",
   "execution_count": 33,
   "metadata": {},
   "outputs": [],
   "source": [
    "eps = np.finfo(float).eps\n",
    "mask_beta_sqrt = sinc(deltaBeta / 2 * dz)\n",
    "mask_beta_cos = np.cos(deltaBeta / 2 * dz)\n",
    "mask_beta_over = (np.abs(deltaBeta) > 0) * (1 / (deltaBeta**2 + eps))\n",
    "Nz = L_tot / dz\n",
    "c2 = Nz * 1 / 8 * k0 ** 4 * 1 / nmodes\n",
    "A1 = (Nz - 1) / 2 * dz**4 * np.einsum(\"ab,cb->abc\", mask_beta_sqrt, mask_beta_sqrt)\n",
    "Itot = np.einsum(\"abc,ab,cb->abc\", A1, I, I)\n",
    "\n",
    "\n",
    "def Compute_correlation(gammas, qs):\n",
    "    # First order\n",
    "    minus_0 = 0\n",
    "    C1 = None\n",
    "    for q, gamma in zip(qs, gammas):\n",
    "        mask_M = np.abs(deltaM) == q\n",
    "\n",
    "        A = np.sum(mask_beta * mask_M * I) or 0.0\n",
    "        # cq = gamma**2*(np.cos(q*angles)-1)*A\n",
    "        cq = gamma**2*(np.cos(q*angles)-minus_0)*A\n",
    "        # # cq = (gamma**2 - 4 * gamma**4) * (np.cos(q * angles) - 1) * A\n",
    "        # # cq = poly_gamma(gamma) * (np.cos(q * angles) - 1) * A\n",
    "        C1 = cq if C1 is None else C1+cq\n",
    "\n",
    "    # second order\n",
    "    C2 = None\n",
    "    for (iq, q), (ir, r) in prod(enumerate(qs), enumerate(qs)):\n",
    "        mask_Mq = deltaM == q\n",
    "        mask_Mr1 = deltaM == r\n",
    "        mask_Mr2 = deltaM == -r\n",
    "        # mask_M_3d = np.einsum(\"ab, cb->abc\", mask_M2, mask_M)\n",
    "\n",
    "        \n",
    "        # A2 = dz**2 * (    \n",
    "        #     np.einsum(\"ac,ab->abc\", mask_beta_over, mask_beta)\n",
    "        #     + np.einsum(\"ac,cb->abc\", mask_beta_over, mask_beta)\n",
    "        #     - 2\n",
    "        #     * np.einsum(\n",
    "        #         \"ac,ab,cb,ac->abc\",\n",
    "        #         mask_beta_over,\n",
    "        #         mask_beta_sqrt,\n",
    "        #         mask_beta_sqrt,\n",
    "        #         mask_beta_cos,\n",
    "        #     )\n",
    "        # )\n",
    "        \n",
    "        if r == 0:\n",
    "            C2qr = np.einsum(\"abc,ab,cb\", Itot, mask_Mq, mask_Mr1) * (np.cos((q + r) * angles) -minus_0) * gammas[ir]**2 * gammas[iq]**2\n",
    "        else:\n",
    "            C2qr = np.einsum(\"abc,ab,cb\", Itot, mask_Mq, mask_Mr1) * (np.cos((q + r) * angles) -minus_0 ) * gammas[ir]**2 * gammas[iq]**2\n",
    "            + np.einsum(\"abc,ab,cb\", Itot, mask_Mq, mask_Mr2) * (np.cos((q - r) * angles) - minus_0 ) * gammas[ir]**2 * gammas[iq]**2\n",
    "\n",
    "\n",
    "        C2 = C2qr if C2 is None else C2+C2qr\n",
    "\n",
    "    C = 1 + coeff * C1 #- .5*c2 * C2\n",
    "    C = C/C[0]\n",
    "\n",
    "    return C#, coeff * C1, c2*C2\n",
    "\n",
    "\n",
    "q = 1\n",
    "\n"
   ]
  },
  {
   "cell_type": "code",
   "execution_count": 34,
   "metadata": {},
   "outputs": [],
   "source": [
    "# ind_deform = 2\n",
    "# gammas = np.copy(n_coeffs_fit[ind_deform])\n",
    "# Corr_theory[0] =  Compute_correlation(gammas, qs) \n",
    "# show_RME_corr( show_error=True, ind_deformation = ind_deform, save_fig = True)"
   ]
  },
  {
   "cell_type": "code",
   "execution_count": 35,
   "metadata": {},
   "outputs": [],
   "source": [
    "# C, C1, C2 = Compute_correlation([1e-1,4e-1,0,0], qs)\n",
    "# plt.figure(figsize = (15,6))\n",
    "# plt.plot(angles, C1)\n",
    "# plt.plot(angles, C2)\n",
    "# plt.plot(angles, C)"
   ]
  },
  {
   "cell_type": "code",
   "execution_count": 36,
   "metadata": {},
   "outputs": [],
   "source": [
    "# a = np.sqrt(np.ceil(L_tot/dz))/3\n",
    "# poly_coeffs = [a**2, -a, 1]\n",
    "# poly_gamma =  lambda gamma: np.sum([c*gamma**(2*(i+1)) for i, c in enumerate(poly_coeffs[::-1])], axis = 0)\n",
    "# # poly_gamma =  lambda gamma: gamma**2 - 4 * gamma**4 + 16*gamma**6\n",
    "\n",
    "\n",
    "# def Compute_correlation(gammas, qs, normalize=True):\n",
    "#     C = []\n",
    "#     for q, gamma in zip(qs, gammas):\n",
    "#         mask_M = np.abs(deltaM) == q\n",
    "#         A = np.sum(mask_beta * mask_M * I) or 0.0\n",
    "#         # cq = gamma**2*np.cos(q*angles)*A\n",
    "#         # cq = (gamma**2 - 4 * gamma**4) * (np.cos(q * angles) - 1) * A\n",
    "#         cq = poly_gamma(gamma) * (np.cos(q * angles) - 1) * A\n",
    "#         C.append(cq)\n",
    "#     C = 1 + coeff * np.array(C).sum(axis=0)\n",
    "#     return C\n",
    "\n",
    "def Compute_correlation_approx(gammas, qs, normalize=True):\n",
    "    C = []\n",
    "    for q, gamma in zip(qs, gammas):\n",
    "        mask_M = np.abs(deltaM) == q\n",
    "        A = np.sum(mask_beta * mask_M * I) or 0.0\n",
    "        # cq = gamma**2*np.cos(q*angles)*A\n",
    "        # cq = (gamma**2 - 4 * gamma**4) * (np.cos(q * angles) - 1) * A\n",
    "        X = (q * angles)\n",
    "        cq = -poly_gamma(gamma) * X**2/2 * A\n",
    "        C.append(cq)\n",
    "    C = 1 + coeff * np.array(C).sum(axis=0)\n",
    "    C = C *  (C > 0)\n",
    "    return C\n",
    "\n",
    "\n",
    "def Correlation_error(gammas, qs, Cref):\n",
    "    # C = Compute_correlation(gammas, qs)\n",
    "    C = Compute_correlation(gammas, qs)\n",
    "    error = np.mean(np.abs(Cref - C) ** 2)\n",
    "    return error\n",
    "\n",
    "\n",
    "# def Compute_corr_from_coeffs(alphas, qs):\n",
    "#     return 1 + coeff*np.array(\n",
    "#         [\n",
    "#             alpha\n",
    "#             * (np.cos(q * angles) - 1)\n",
    "#             * np.sum(mask_beta * (np.abs(deltaM) == q) * I)\n",
    "#             for q, alpha in zip(qs, alphas)\n",
    "#         ]\n",
    "#     ).sum(axis=0)\n",
    "\n",
    "\n",
    "err = lambda x: Correlation_error(x, qs, Cref=Corr_mean_exp[0])\n",
    "\n",
    "\n",
    "# nn = 12 * np.array([1e-2, 2e-2, 1e-2, 2e-2])\n",
    "# C1 = Compute_correlation(nn, qs)\n",
    "# Ca = Compute_correlation_approx(nn, qs)\n",
    "\n",
    "# plt.figure(figsize=(8*2,5*2))\n",
    "\n",
    "\n",
    "# plt.errorbar(\n",
    "#     angles,\n",
    "#     C1,\n",
    "#     label=rf'Fit',\n",
    "#     color = 'red',\n",
    "#     marker='o',\n",
    "#     linewidth=2,\n",
    "# )\n",
    "# plt.errorbar(\n",
    "#     angles,\n",
    "#     Ca,\n",
    "#     label=rf'Approx',\n",
    "#     color = 'green',\n",
    "#     marker='o',\n",
    "#     linewidth=2,\n",
    "# )\n",
    "# plt.ylim([0.8, 1])\n",
    "\n"
   ]
  },
  {
   "cell_type": "code",
   "execution_count": 37,
   "metadata": {},
   "outputs": [],
   "source": [
    "# model_mats = []\n",
    "# alphas = []\n",
    "# for q, gamma in zip(qs, gammas):\n",
    "#     mask_M = np.abs(deltaM) == q\n",
    "#     A = np.sum(mask_beta * mask_M * I) or 0.0\n",
    "#     alphas.append(poly_gamma(gamma))\n",
    "#     mat = coeff* A\n",
    "#     model_mats.append(mat)\n"
   ]
  },
  {
   "attachments": {},
   "cell_type": "markdown",
   "metadata": {},
   "source": [
    "## C. Fit the experimenta results with the theoretical model"
   ]
  },
  {
   "attachments": {},
   "cell_type": "markdown",
   "metadata": {},
   "source": [
    "### C.1 Error function \n",
    "Computes the quadratic error between two correlation curves "
   ]
  },
  {
   "attachments": {},
   "cell_type": "markdown",
   "metadata": {},
   "source": [
    "### C.2 Fit the experimental data for different deformations"
   ]
  },
  {
   "cell_type": "code",
   "execution_count": 38,
   "metadata": {},
   "outputs": [
    {
     "name": "stdout",
     "output_type": "stream",
     "text": [
      "Optimization terminated successfully.\n",
      "         Current function value: 0.000112\n",
      "         Iterations: 168\n",
      "         Function evaluations: 286\n",
      "Optimization terminated successfully.\n",
      "         Current function value: 0.000110\n",
      "         Iterations: 64\n",
      "         Function evaluations: 109\n",
      "Optimization terminated successfully.\n",
      "         Current function value: 0.000110\n",
      "         Iterations: 99\n",
      "         Function evaluations: 173\n",
      "Optimization terminated successfully.\n",
      "         Current function value: 0.000130\n",
      "         Iterations: 115\n",
      "         Function evaluations: 196\n",
      "Optimization terminated successfully.\n",
      "         Current function value: 0.000220\n",
      "         Iterations: 113\n",
      "         Function evaluations: 194\n"
     ]
    }
   ],
   "source": [
    "gammas = []\n",
    "for ind_deform, Cref in enumerate(Corr_mean_exp):\n",
    "    err = lambda x: Correlation_error(x, qs, Cref=Cref)\n",
    "    initial_guess = gammas[-1] if ind_deform > 0 and gammas else [0.1] * len(qs)\n",
    "    xopt = scipy.optimize.fmin(func=err, x0=initial_guess)\n",
    "    gammas.append(np.abs(np.array(xopt)))\n",
    "\n",
    "gammas = np.stack(gammas, axis=0)\n",
    "n_coeffs_fit = gammas\n",
    "# alpha = alphas[0][0]\n"
   ]
  },
  {
   "cell_type": "code",
   "execution_count": 39,
   "metadata": {},
   "outputs": [],
   "source": [
    "# Compute_corr_from_coeffs([0, 0, 0, 0], qs)\n",
    "\n",
    "# alphas = []\n",
    "# for ind_deform, Cref in enumerate(Corr_mean_exp):\n",
    "#     err = lambda x: Correlation_error(x, qs, Cref=Cref)\n",
    "#     initial_guess = alphas[-1] if ind_deform > 0 and alphas else [0.1] * len(qs)\n",
    "#     xopt = scipy.optimize.fmin(func=err, x0=initial_guess)\n",
    "#     alphas.append(np.abs(np.array(xopt)))\n",
    "\n",
    "# alphas = np.stack(alphas, axis=0)\n",
    "\n",
    "# alpha = alphas[0][0]\n",
    "\n",
    "\n",
    "# def get_gammas(alphas):\n",
    "#     shape = alphas.shape\n",
    "#     gammas = []\n",
    "#     for alpha in alphas.ravel():\n",
    "#         coeff_poly_root = [-x for x in poly_coeffs] + [alpha]\n",
    "#         roots = np.roots(coeff_poly_root)\n",
    "\n",
    "#         ind_root = np.argmin(np.abs(np.imag(roots)))\n",
    "#         gamma = np.sqrt(np.real(roots[ind_root]))\n",
    "#         gammas.append(gamma)\n",
    "#     return np.array(gammas).reshape(shape)\n",
    "\n",
    "\n",
    "# alphas\n",
    "\n",
    "\n",
    "# n_coeffs_fit = get_gammas(alphas)\n",
    "\n",
    "# def get_model_mats():\n",
    "#     model_mats = []\n",
    "#     for q, alpha in zip(qs, alphas):\n",
    "#         mask_M = np.abs(deltaM) == q\n",
    "#         A = np.sum(mask_beta * mask_M * I) or 0.0\n",
    "#         mat = coeff* A\n",
    "#         model_mats.append(mat)\n",
    "#     return model_mats\n",
    "\n",
    "# model_mats = get_model_mats()\n",
    "\n"
   ]
  },
  {
   "cell_type": "code",
   "execution_count": 40,
   "metadata": {},
   "outputs": [],
   "source": [
    "\n",
    "# Corr_theory = np.stack([Compute_correlation(gammas, qs) for gammas in n_coeffs_fit], axis = 0)\n",
    "\n",
    "Corr_theory = np.stack([Compute_correlation(gammas, qs) for gammas in n_coeffs_fit], axis = 0)\n",
    "\n",
    "# Corr_approx_small_angles =  np.stack([Compute_correlation_approx(gammas, qs) for gammas in n_coeffs_fit], axis = 0)\n",
    "\n",
    "data2save['theo'] = {\n",
    "    'Corr_mean': Corr_theory,\n",
    "    # 'Corr_approx_small_angles': Corr_approx_small_angles,\n",
    "    'gammas': n_coeffs_fit,\n",
    "    # 'alphas': alphas,\n",
    "    # 'model_mats': model_mats,\n",
    "    'qs': qs,\n",
    "    # 'angles': angles,\n",
    "}\n",
    "\n",
    "\n",
    "\n",
    "save_data()"
   ]
  },
  {
   "cell_type": "code",
   "execution_count": 41,
   "metadata": {},
   "outputs": [
    {
     "data": {
      "text/plain": [
       "[0.09803394995372214,\n",
       " 0.01700518348930781,\n",
       " 0.0022604454937682683,\n",
       " 0.002198690683770428]"
      ]
     },
     "execution_count": 41,
     "metadata": {},
     "output_type": "execute_result"
    },
    {
     "data": {
      "image/png": "[encoded data removed]",
      "text/plain": [
       "<Figure size 1080x1080 with 1 Axes>"
      ]
     },
     "metadata": {
      "needs_background": "light"
     },
     "output_type": "display_data"
    }
   ],
   "source": [
    "# to quantify the effect of each paramter, we compare the correlation function with the each paramter se to 0 independently\n",
    "ind_deformation = -1\n",
    "errors = []\n",
    "\n",
    "for ind_q, _ in enumerate(n_coeffs_fit[ind_deformation]):\n",
    "    gammas = np.copy(n_coeffs_fit[ind_deformation])\n",
    "    C1 =  Compute_correlation(gammas, qs) \n",
    "    gammas[ind_q] = 0\n",
    "    C2 =  Compute_correlation(gammas, qs)\n",
    "    errors.append(np.mean(np.abs(C1-C2)**2))\n",
    "\n",
    "plt.figure(figsize = (15,15))\n",
    "plt.semilogy(qs,errors)\n",
    "plt.ylim([1e-5,1e-1])\n",
    "errors\n",
    "\n",
    "\n"
   ]
  },
  {
   "attachments": {},
   "cell_type": "markdown",
   "metadata": {},
   "source": [
    "### C.3 Show the results"
   ]
  },
  {
   "attachments": {},
   "cell_type": "markdown",
   "metadata": {},
   "source": [
    "#### RME Correlation"
   ]
  },
  {
   "cell_type": "code",
   "execution_count": 42,
   "metadata": {},
   "outputs": [
    {
     "data": {
      "image/png": "[encoded data removed]",
      "text/plain": [
       "<Figure size 576x360 with 1 Axes>"
      ]
     },
     "metadata": {
      "needs_background": "light"
     },
     "output_type": "display_data"
    },
    {
     "data": {
      "image/png": "[encoded data removed]",
      "text/plain": [
       "<Figure size 576x360 with 1 Axes>"
      ]
     },
     "metadata": {
      "needs_background": "light"
     },
     "output_type": "display_data"
    },
    {
     "data": {
      "image/png": "[encoded data removed]",
      "text/plain": [
       "<Figure size 576x360 with 1 Axes>"
      ]
     },
     "metadata": {
      "needs_background": "light"
     },
     "output_type": "display_data"
    },
    {
     "data": {
      "image/png": "[encoded data removed]",
      "text/plain": [
       "<Figure size 576x360 with 1 Axes>"
      ]
     },
     "metadata": {
      "needs_background": "light"
     },
     "output_type": "display_data"
    }
   ],
   "source": [
    "initial_guess\n",
    "\n",
    "def show_RME_corr(show_error=True, save_fig=True):\n",
    "    deformations2show = [0, 2, 3, 4]\n",
    "    # deformations2show = [0, 1]\n",
    "\n",
    "    # plt.subplot(211)\n",
    "    for ind_deformation in deformations2show:\n",
    "        plt.figure(figsize=(8, 5))\n",
    "        plt.errorbar(\n",
    "            angles,\n",
    "            Corr_mean_exp[ind_deformation],\n",
    "            label=rf\"Experiment\",\n",
    "            color=\"blue\",\n",
    "            marker=\"o\",\n",
    "            linewidth=2,\n",
    "        )\n",
    "        if show_error:\n",
    "            plot_error(\n",
    "                Corr_mean_exp[ind_deformation],\n",
    "                Corr_std_exp[ind_deformation],\n",
    "                color=\"blue\",\n",
    "            )\n",
    "\n",
    "        plt.errorbar(\n",
    "            angles,\n",
    "            Corr_theory[ind_deformation],\n",
    "            label=rf\"Fit\",\n",
    "            color=\"black\",\n",
    "            marker=\"x\",\n",
    "            linewidth=2,\n",
    "        )\n",
    "\n",
    "        # plt.errorbar(\n",
    "        #     angles,\n",
    "        #     Corr_approx_small_angles[ind_deformation],\n",
    "        #     label=rf\"Approx small angles\",\n",
    "        #     color=\"green\",\n",
    "        #     marker=\"d\",\n",
    "        #     linewidth=2,\n",
    "        # )\n",
    "\n",
    "        \n",
    "\n",
    "        plt.xlabel(r\"$\\theta$\", fontsize=LABEL_SIZE)\n",
    "        plt.ylabel(r\"$C(\\theta)$\", fontsize=LABEL_SIZE)\n",
    "        xticks = [0, np.pi / 2, np.pi, 3 * np.pi / 2, 2 * np.pi]\n",
    "        xtics_labels = [r\"$0$\", r\"$\\pi/2$\", r\"$\\pi$\", r\"$3\\pi/2$\", r\"$2\\pi$\"]\n",
    "        plt.xticks(xticks, xtics_labels, fontsize=TICK_SIZE)\n",
    "        plt.yticks(fontsize=TICK_SIZE)\n",
    "        plt.legend(fontsize=LEGEND_SIZE)\n",
    "        plt.title(rf\"$\\Delta_x={Delta_x[ind_deformation]:.0f}\\mu m$\", fontsize=TITLE_SIZE)\n",
    "\n",
    "    if save_fig:\n",
    "        plt.savefig(\n",
    "            image_path(f\"RME_exp_Vs_theory.svg\"),\n",
    "            dpi=300,\n",
    "        )\n",
    "\n",
    "\n",
    "# G = [0, .032, 0.165,0,0.07 ]\n",
    "show_RME_corr(show_error=True, save_fig=SAVE_FIG)"
   ]
  },
  {
   "cell_type": "code",
   "execution_count": 43,
   "metadata": {},
   "outputs": [
    {
     "data": {
      "text/plain": [
       "array([[0.19234621, 0.45360734, 0.10892968, 0.34790148],\n",
       "       [0.20489152, 0.45374617, 0.1164836 , 0.3486925 ],\n",
       "       [0.25065485, 0.45449061, 0.13147685, 0.34802136],\n",
       "       [0.54382709, 0.48327951, 0.23316296, 0.36104605],\n",
       "       [0.86051905, 0.57906742, 0.37399052, 0.38352643]])"
      ]
     },
     "execution_count": 43,
     "metadata": {},
     "output_type": "execute_result"
    }
   ],
   "source": [
    "n_coeffs_fit"
   ]
  },
  {
   "attachments": {},
   "cell_type": "markdown",
   "metadata": {},
   "source": [
    "#### Evolution of the fit parameters\n",
    "Only show significant paramters"
   ]
  },
  {
   "cell_type": "code",
   "execution_count": 44,
   "metadata": {},
   "outputs": [
    {
     "data": {
      "image/png": "[encoded data removed]",
      "text/plain": [
       "<Figure size 864x360 with 1 Axes>"
      ]
     },
     "metadata": {
      "needs_background": "light"
     },
     "output_type": "display_data"
    }
   ],
   "source": [
    "# Delta_n_coeffs_fit = n_coeffs_fit-n_coeffs_fit[0]\n",
    "plt.figure(figsize = (12,5))\n",
    "for ind_q, q in enumerate(qs):\n",
    "    plt.plot(\n",
    "        Delta_x, \n",
    "        n_coeffs_fit[:,ind_q], \n",
    "        marker = 'o',\n",
    "        label = rf'$\\Gamma_{q}$',\n",
    "        linewidth = 2,\n",
    "    )\n",
    "plt.legend()\n",
    "plt.ylabel(r'$\\Gamma_q$', fontsize=LABEL_SIZE, labelpad=30, rotation=0)\n",
    "plt.xlabel(r\"$\\Delta x$ (in microns)\", fontsize=LABEL_SIZE)\n",
    "plt.xticks(fontsize=TICK_SIZE)\n",
    "plt.yticks(fontsize=TICK_SIZE)\n",
    "plt.legend(fontsize=LEGEND_SIZE, loc = 'upper left')\n",
    "plt.ylim([0.,0.9])\n",
    "\n",
    "if SAVE_FIG:\n",
    "    plt.savefig(\n",
    "        image_path(f\"Gamma_q.svg\"),\n",
    "        dpi=300,\n",
    "    )\n",
    "# plt.ylim([0,10])"
   ]
  },
  {
   "attachments": {},
   "cell_type": "markdown",
   "metadata": {},
   "source": [
    "#### Decomposition in the different contributions"
   ]
  },
  {
   "attachments": {},
   "cell_type": "markdown",
   "metadata": {},
   "source": [
    "# IV. Simulations\n",
    "**Compare segment model to experiment for no bending**"
   ]
  },
  {
   "cell_type": "code",
   "execution_count": 45,
   "metadata": {},
   "outputs": [],
   "source": [
    "# L_tot = 2.45e4 # total length 10cm\n",
    "# dz = 2e2 #um\n",
    "# # correlation length in the z direction 100 umn\n",
    "# d_layer = 1e-3\n",
    "# f_n = profile.radialFunc\n",
    "# n_coeffs = [0,1]\n",
    "\n",
    "# dr = 5*dh\n",
    "# dr = d_layer#5 * dh\n",
    "\n",
    "n_r = 2**9\n",
    "n_th = 2**5\n",
    "\n",
    "r_max = modes.data[0]['r_max']\n",
    "\n",
    "R, TH = np.meshgrid(\n",
    "    np.linspace(0, r_max, n_r), np.linspace(0, 2 * np.pi, n_th, endpoint=False)\n",
    ")\n",
    "\n",
    "dR = areaSize / (2*(n_r-1))\n",
    "dTH = 2*np.pi/n_th\n",
    "\n",
    "Mrth = np.array(\n",
    "    [\n",
    "        modes.data[i][\"radial_func\"](R.ravel())\n",
    "        # / norms_fr[i]\n",
    "        * np.exp(1j * m[i] * TH.ravel())\n",
    "        for i in range(nmodes)\n",
    "    ]\n",
    ").transpose()\n",
    "\n",
    "norms_Mrth = np.sqrt(np.sum(np.abs(Mrth).transpose()**2*R.ravel(), axis = 1))#np.linalg.norm(Mrth.transpose()*R.ravel(), axis = 1)\n",
    "Mrth = Mrth / norms_Mrth\n",
    "\n",
    "\n",
    "\n",
    "\n",
    "def getTM_seg(d_layer, f_n, dz, n_coeffs, qs, l_corr=None):\n",
    "    \"\"\"\n",
    "    Compute the TM of a segment of fiber of length `d_z`\n",
    "    Paremeters\n",
    "    ----------\n",
    "    d_layer : float\n",
    "        Thickness of the layers in microns\n",
    "    f_n : function\n",
    "        Function that returns the refractive index of the fiber for a given radial position\n",
    "    dz : float\n",
    "        Length of the segment\n",
    "    n_coeffs : int\n",
    "        Number of coefficients to use in the expansion of azimuthal disorder function\n",
    "    qs : array\n",
    "        Array of the q values (orbital angular momenta) corresponding to each n_ceoffs.\n",
    "        Should be the same size as n_coeffs.\n",
    "    beta_f_type : str ['sinc', 'gauss']\n",
    "        Type of function to use in the longitudinal autocrrelation function\n",
    "    l_corr : float\n",
    "        Correlation length of the longitudinal disorder function in microns\n",
    "\n",
    "    Returns\n",
    "    -------\n",
    "    data : dict\n",
    "        Dictionary with parameters of the disordered segment\n",
    "    TM : ndarray\n",
    "        Transmission matrix of the disordered segment\n",
    "    \"\"\"\n",
    "\n",
    "    assert(len(n_coeffs) == len(qs))\n",
    "\n",
    "    betas = np.array(modes.betas).astype(np.float32)\n",
    "\n",
    "    ## Radial disorder ##\n",
    "    ## --------------- ##\n",
    "    # random steps of size d_layer and of amplitude in delta_n = dn0/dr * d_layer\n",
    "    r_max = 3 * areaSize\n",
    "\n",
    "    r_vec = np.arange(0, r_max, d_layer)\n",
    "\n",
    "    \n",
    "\n",
    "    # values of the index over a range of radii\n",
    "    n = np.array([f_n(r) for r in r_vec])\n",
    "    # differentiate n\n",
    "    dn = np.diff(n)\n",
    "    # noise variance proprtional to the difference of indexes between two layers\n",
    "    noise_std = dn / d_layer * d_layer\n",
    "    # print(f\"noise variance = {np.max(np.abs(noise_variance)):.2e}\")\n",
    "    \n",
    "    gaussian_noise = np.random.randn(*noise_std.shape)\n",
    "\n",
    "    # varation of the index between the index of two consecutives layers\n",
    "    noise = gaussian_noise * noise_std\n",
    "\n",
    "    # interpolate radial noise as a fonction\n",
    "    f_noise = interp1d(\n",
    "        (r_vec[:-1]+r_vec[1:])/2, \n",
    "        noise, \n",
    "        kind=\"nearest\",\n",
    "        bounds_error=False,\n",
    "        fill_value=\"extrapolate\"\n",
    "        )\n",
    "\n",
    "    # get the profile of delta_n over the mesh\n",
    "    delta_n = np.fromiter((f_noise(r) for r in np.abs(R.flatten())), np.float32)\n",
    "\n",
    "    ## Azimuthal disorder ##\n",
    "    ## ------------------ ##\n",
    "    azimuthal_components = []\n",
    "    for q_val, c in zip(qs, n_coeffs):\n",
    "        phi0 = np.random.rand() * 2 * np.pi if q_val != 0 else 0\n",
    "        azimuthal_components.append(\n",
    "             c * np.cos(q_val * TH.flatten() + phi0)\n",
    "        )\n",
    "    azimuthal_components = np.array(azimuthal_components).astype(np.complex64)\n",
    "    \n",
    "    # sum the contributions\n",
    "    sum_azimuthal_components = np.sum(azimuthal_components, axis=0)\n",
    "\n",
    "    ## Total perturbation ##\n",
    "    ## ------------------ ##\n",
    "\n",
    "    # final transverse disorder function = radial x azimuthal\n",
    "    delta_n = delta_n * sum_azimuthal_components\n",
    "\n",
    "    ## TM in the mode basis ##\n",
    "    ## -------------------- ##\n",
    "\n",
    "    # project of the disorder in the mode basis\n",
    "    # delta_n_modes = M.transpose().conjugate()@np.diag(delta_n)@M\n",
    "    # equivalent to M.transpose().conjugate()@np.diag(delta_n)@M but less memory greedy\n",
    "    # + in the radial coordinate (hence the R**2)\n",
    "    delta_n_modes = np.einsum('kj,k,km,k->jm', Mrth.conjugate(), delta_n, Mrth, R.ravel())\n",
    "                                                                                        \n",
    "    V = k0*delta_n_modes\n",
    "\n",
    "    H0 = np.diag(betas)\n",
    "\n",
    "    TM = expm(- 1j * (H0 + V) * dz)\n",
    "\n",
    "    # save some shit\n",
    "    data = {\n",
    "        \"delta_n\": delta_n,\n",
    "        \"H0\": H0,\n",
    "        \"V\": V,\n",
    "        \"k0\": k0,\n",
    "        \"dz\": dz,\n",
    "        \"f_noise\": f_noise,\n",
    "        \"noise\": noise,\n",
    "        \"gaussian_noise\": gaussian_noise,\n",
    "        \"noise_std\": noise_std,\n",
    "        \"dn\": dn\n",
    "    }\n",
    "\n",
    "    return data, TM"
   ]
  },
  {
   "attachments": {},
   "cell_type": "markdown",
   "metadata": {},
   "source": [
    "## General parameters\n",
    "\n",
    "Parameters from Lille:\n",
    "* Variations d'indice sur $\\Delta r$ ~ epaisseur de couche ~ 2 nm (??)\n",
    "* Largeur autocorrelation désordre en $z \\approx$ 0.1 mm (to 1mm ??)"
   ]
  },
  {
   "attachments": {},
   "cell_type": "markdown",
   "metadata": {},
   "source": [
    "## Segments model\n",
    "\n",
    "we add randomness to the segment size to mitigate beating effects"
   ]
  },
  {
   "cell_type": "code",
   "execution_count": 46,
   "metadata": {},
   "outputs": [
    {
     "data": {
      "text/plain": [
       "array([[0.19234621, 0.45360734, 0.10892968, 0.34790148],\n",
       "       [0.20489152, 0.45374617, 0.1164836 , 0.3486925 ],\n",
       "       [0.25065485, 0.45449061, 0.13147685, 0.34802136],\n",
       "       [0.54382709, 0.48327951, 0.23316296, 0.36104605],\n",
       "       [0.86051905, 0.57906742, 0.37399052, 0.38352643]])"
      ]
     },
     "execution_count": 46,
     "metadata": {},
     "output_type": "execute_result"
    }
   ],
   "source": [
    "n_coeffs_fit"
   ]
  },
  {
   "cell_type": "code",
   "execution_count": 47,
   "metadata": {},
   "outputs": [],
   "source": [
    "\n",
    "# n_coeffs_fit = n_coeffs_fit_old[[0,2,3]]*0.75"
   ]
  },
  {
   "cell_type": "code",
   "execution_count": 48,
   "metadata": {},
   "outputs": [],
   "source": [
    "Corr_theory = np.stack([Compute_correlation(gammas, qs) for gammas in n_coeffs_fit], axis = 0)"
   ]
  },
  {
   "cell_type": "code",
   "execution_count": 49,
   "metadata": {
    "ExecuteTime": {
     "end_time": "2023-02-24T14:33:03.950976Z",
     "start_time": "2023-02-24T14:32:59.866718Z"
    }
   },
   "outputs": [
    {
     "name": "stderr",
     "output_type": "stream",
     "text": [
      "  0%|          | 0/245 [00:00<?, ?it/s]"
     ]
    },
    {
     "name": "stdout",
     "output_type": "stream",
     "text": [
      "1/5\n"
     ]
    },
    {
     "name": "stderr",
     "output_type": "stream",
     "text": [
      "100%|██████████| 245/245 [03:08<00:00,  1.30it/s]\n",
      "100%|██████████| 245/245 [03:00<00:00,  1.36it/s]\n",
      "100%|██████████| 245/245 [02:52<00:00,  1.42it/s]\n",
      "100%|██████████| 245/245 [02:53<00:00,  1.41it/s]\n",
      "100%|██████████| 245/245 [02:55<00:00,  1.39it/s]\n",
      "100%|██████████| 245/245 [02:53<00:00,  1.41it/s]\n",
      "100%|██████████| 245/245 [02:55<00:00,  1.40it/s]\n",
      "100%|██████████| 245/245 [02:52<00:00,  1.42it/s]\n",
      "100%|██████████| 245/245 [02:50<00:00,  1.44it/s]\n",
      "100%|██████████| 245/245 [02:52<00:00,  1.42it/s]\n",
      "100%|██████████| 245/245 [02:55<00:00,  1.39it/s]\n",
      "100%|██████████| 245/245 [02:55<00:00,  1.39it/s]\n",
      "100%|██████████| 245/245 [02:53<00:00,  1.41it/s]\n",
      "100%|██████████| 245/245 [02:54<00:00,  1.41it/s]\n",
      "100%|██████████| 245/245 [02:58<00:00,  1.37it/s]\n",
      "100%|██████████| 245/245 [02:54<00:00,  1.40it/s]\n",
      "100%|██████████| 245/245 [02:53<00:00,  1.41it/s]\n",
      "100%|██████████| 245/245 [02:52<00:00,  1.42it/s]\n",
      "100%|██████████| 245/245 [02:54<00:00,  1.40it/s]\n",
      "100%|██████████| 245/245 [02:58<00:00,  1.37it/s]\n",
      "  0%|          | 0/245 [00:00<?, ?it/s]"
     ]
    },
    {
     "name": "stdout",
     "output_type": "stream",
     "text": [
      "2/5\n"
     ]
    },
    {
     "name": "stderr",
     "output_type": "stream",
     "text": [
      "100%|██████████| 245/245 [02:55<00:00,  1.40it/s]\n",
      "100%|██████████| 245/245 [02:50<00:00,  1.43it/s]\n",
      "100%|██████████| 245/245 [02:51<00:00,  1.43it/s]\n",
      "100%|██████████| 245/245 [02:54<00:00,  1.40it/s]\n",
      "100%|██████████| 245/245 [02:55<00:00,  1.39it/s]\n",
      "100%|██████████| 245/245 [02:52<00:00,  1.42it/s]\n",
      "100%|██████████| 245/245 [02:51<00:00,  1.43it/s]\n",
      "100%|██████████| 245/245 [03:00<00:00,  1.35it/s]\n",
      "100%|██████████| 245/245 [02:55<00:00,  1.40it/s]\n",
      "100%|██████████| 245/245 [02:51<00:00,  1.43it/s]\n",
      "100%|██████████| 245/245 [02:55<00:00,  1.40it/s]\n",
      "100%|██████████| 245/245 [03:00<00:00,  1.36it/s]\n",
      "100%|██████████| 245/245 [02:59<00:00,  1.36it/s]\n",
      "100%|██████████| 245/245 [02:57<00:00,  1.38it/s]\n",
      "100%|██████████| 245/245 [02:55<00:00,  1.40it/s]\n",
      "100%|██████████| 245/245 [02:51<00:00,  1.43it/s]\n",
      "100%|██████████| 245/245 [02:51<00:00,  1.43it/s]\n",
      "100%|██████████| 245/245 [02:54<00:00,  1.41it/s]\n",
      "100%|██████████| 245/245 [02:50<00:00,  1.44it/s]\n",
      "100%|██████████| 245/245 [02:51<00:00,  1.43it/s]\n",
      "  0%|          | 0/245 [00:00<?, ?it/s]"
     ]
    },
    {
     "name": "stdout",
     "output_type": "stream",
     "text": [
      "3/5\n"
     ]
    },
    {
     "name": "stderr",
     "output_type": "stream",
     "text": [
      "100%|██████████| 245/245 [02:54<00:00,  1.40it/s]\n",
      "100%|██████████| 245/245 [02:52<00:00,  1.42it/s]\n",
      "100%|██████████| 245/245 [02:54<00:00,  1.40it/s]\n",
      "100%|██████████| 245/245 [02:55<00:00,  1.40it/s]\n",
      "100%|██████████| 245/245 [02:49<00:00,  1.45it/s]\n",
      "100%|██████████| 245/245 [02:56<00:00,  1.39it/s]\n",
      "100%|██████████| 245/245 [02:54<00:00,  1.40it/s]\n",
      "100%|██████████| 245/245 [02:53<00:00,  1.41it/s]\n",
      "100%|██████████| 245/245 [02:56<00:00,  1.39it/s]\n",
      "100%|██████████| 245/245 [02:54<00:00,  1.40it/s]\n",
      "100%|██████████| 245/245 [03:01<00:00,  1.35it/s]\n",
      "100%|██████████| 245/245 [02:50<00:00,  1.44it/s]\n",
      "100%|██████████| 245/245 [02:55<00:00,  1.40it/s]\n",
      "100%|██████████| 245/245 [02:52<00:00,  1.42it/s]\n",
      "100%|██████████| 245/245 [02:53<00:00,  1.41it/s]\n",
      "100%|██████████| 245/245 [02:53<00:00,  1.41it/s]\n",
      "100%|██████████| 245/245 [02:49<00:00,  1.45it/s]\n",
      "100%|██████████| 245/245 [02:53<00:00,  1.41it/s]\n",
      "100%|██████████| 245/245 [02:51<00:00,  1.42it/s]\n",
      "100%|██████████| 245/245 [02:50<00:00,  1.44it/s]\n",
      "  0%|          | 0/245 [00:00<?, ?it/s]"
     ]
    },
    {
     "name": "stdout",
     "output_type": "stream",
     "text": [
      "4/5\n"
     ]
    },
    {
     "name": "stderr",
     "output_type": "stream",
     "text": [
      "100%|██████████| 245/245 [02:55<00:00,  1.40it/s]\n",
      "100%|██████████| 245/245 [02:57<00:00,  1.38it/s]\n",
      "100%|██████████| 245/245 [02:56<00:00,  1.39it/s]\n",
      "100%|██████████| 245/245 [02:52<00:00,  1.42it/s]\n",
      "100%|██████████| 245/245 [02:52<00:00,  1.42it/s]\n",
      "100%|██████████| 245/245 [02:53<00:00,  1.41it/s]\n",
      "100%|██████████| 245/245 [02:49<00:00,  1.45it/s]\n",
      "100%|██████████| 245/245 [02:48<00:00,  1.45it/s]\n",
      "100%|██████████| 245/245 [02:52<00:00,  1.42it/s]\n",
      "100%|██████████| 245/245 [02:59<00:00,  1.36it/s]\n",
      "100%|██████████| 245/245 [02:51<00:00,  1.42it/s]\n",
      "100%|██████████| 245/245 [02:56<00:00,  1.39it/s]\n",
      "100%|██████████| 245/245 [02:55<00:00,  1.40it/s]\n",
      "100%|██████████| 245/245 [02:57<00:00,  1.38it/s]\n",
      "100%|██████████| 245/245 [02:51<00:00,  1.43it/s]\n",
      "100%|██████████| 245/245 [02:59<00:00,  1.37it/s]\n",
      "100%|██████████| 245/245 [02:56<00:00,  1.39it/s]\n",
      "100%|██████████| 245/245 [02:54<00:00,  1.41it/s]\n",
      "100%|██████████| 245/245 [02:55<00:00,  1.40it/s]\n",
      "100%|██████████| 245/245 [03:01<00:00,  1.35it/s]\n",
      "  0%|          | 0/245 [00:00<?, ?it/s]"
     ]
    },
    {
     "name": "stdout",
     "output_type": "stream",
     "text": [
      "5/5\n"
     ]
    },
    {
     "name": "stderr",
     "output_type": "stream",
     "text": [
      "100%|██████████| 245/245 [02:53<00:00,  1.41it/s]\n",
      " 78%|███████▊  | 191/245 [02:15<00:37,  1.45it/s]"
     ]
    }
   ],
   "source": [
    "from tqdm import tqdm\n",
    "\n",
    "# number of different realizations of the disorder\n",
    "n_ave = 20\n",
    "# number of random input wavefront for each realization\n",
    "n_rnd_input = 100\n",
    "\n",
    "bkp_data = []\n",
    "\n",
    "# number of uncorrelated segments\n",
    "n_segments = int(np.round(L_tot / dz))\n",
    "\n",
    "def getTM_all(n_coeffs, qs, d_layer, dz, L_tot):\n",
    "    TM_tot = np.eye(nmodes, dtype=complex)\n",
    "\n",
    "    data_all = []\n",
    "    for _ in tqdm(range(n_segments)):\n",
    "        data, TM = getTM_seg(\n",
    "            d_layer=d_layer,\n",
    "            f_n=profile.radialFunc,\n",
    "            dz=dz+ (0.5 - np.random.rand()) * wl * 2,\n",
    "            n_coeffs=n_coeffs,\n",
    "            qs = qs,\n",
    "        )\n",
    "        data_all.append(data)\n",
    "        data_all[-1][\"TM_seg\"] = TM\n",
    "        TM_tot = TM @ TM_tot\n",
    "\n",
    "    return data_all, TM_tot.astype(np.complex64)\n",
    "\n",
    "\n",
    "\n",
    "TM_seg_all = []\n",
    "\n",
    "# ind_temp = [0,3]\n",
    "\n",
    "for ind_deformation, nvec in enumerate(n_coeffs_fit):\n",
    "    print(f'{ind_deformation+1}/{len(deformation_indices)}')\n",
    "    TM_seg_all.append([])\n",
    "    for _ in range(n_ave):\n",
    "        data_all, TM_seg = getTM_all(nvec, qs, d_layer, dz, L_tot)\n",
    "        TM_seg_all[-1].append(TM_seg)\n",
    "        bkp_data.append(\n",
    "            {\n",
    "                \"nvec\": nvec,\n",
    "                \"data_all\": data_all,\n",
    "                \"TM\": TM_seg,\n",
    "                \"L_tot\": L_tot,\n",
    "                \"dz\": dz,\n",
    "                \"d_layer\": d_layer,\n",
    "            }\n",
    "        )\n",
    "TM_seg_all = np.array(TM_seg_all)"
   ]
  },
  {
   "cell_type": "code",
   "execution_count": null,
   "metadata": {},
   "outputs": [],
   "source": [
    "# TM_seg_all = np.array(TM_seg_all)"
   ]
  },
  {
   "attachments": {},
   "cell_type": "markdown",
   "metadata": {},
   "source": [
    "## Compute RME Correlation\n",
    "\n",
    "We average over realizations disorder + random inputs"
   ]
  },
  {
   "cell_type": "code",
   "execution_count": null,
   "metadata": {},
   "outputs": [],
   "source": [
    "data2save['simu'] = {}\n",
    "data2save['simu']['param'] = {\n",
    "    'n_ave': n_ave,\n",
    "    'n_rnd_input': n_rnd_input,\n",
    "    'L_tot' : L_tot,\n",
    "    'dz' : dz,\n",
    "    'd_layer' : d_layer,\n",
    "    'dr' : dr,\n",
    "    'gammas' : n_coeffs_fit,\n",
    "}\n",
    "\n",
    "data2save['simu']['data'] = bkp_data\n",
    "data2save['simu']['TMs'] = TM_seg_all\n",
    "save_data()"
   ]
  },
  {
   "cell_type": "code",
   "execution_count": null,
   "metadata": {},
   "outputs": [],
   "source": [
    "# TMs = TM_seg_all[0,...]\n",
    "\n",
    "# compute the rotation operators for all the rotation angles\n",
    "R_mats = np.array([get_rotation_matrix(m, l, angle) for angle in angles])\n",
    "\n",
    "# operator rotation \\theta -> TM -> rotation -\\theta\n",
    "Ttheta = np.einsum('aim,drmn,anj->draij', R_mats, TM_seg_all, R_mats.conjugate()) \n",
    "\n",
    "# random input in the mode basis\n",
    "E_rnd_in_mode = (np.random.rand(n_rnd_input, n_modes)-0.5)+1j*(np.random.rand(n_rnd_input, n_modes)-0.5)\n",
    "\n",
    "# apply to random input fields\n",
    "Y_seg = np.einsum('draij,oj->dorai', Ttheta, E_rnd_in_mode)\n",
    "\n"
   ]
  },
  {
   "cell_type": "code",
   "execution_count": null,
   "metadata": {},
   "outputs": [],
   "source": [
    "Y_seg_ref = Y_seg[...,0,:]\n",
    "Corr_seg = stack_correlation(Y_seg, Y_seg_ref)\n",
    "# note that the correlation are computed in the mode basis\n",
    "# yield the same results as in the pixel basis\n",
    "# but is less memory and ressource consuming\n",
    "\n",
    "# Corr_seg = []\n",
    "# for Y in Y_seg:\n",
    "#     Y_ref = Y[...,0,:]\n",
    "#     Corr_seg.append(stack_correlation(Y, Y_ref))\n",
    "# Corr_seg = np.array(Corr_seg)"
   ]
  },
  {
   "cell_type": "code",
   "execution_count": null,
   "metadata": {},
   "outputs": [],
   "source": [
    "Corr_seg_mean = np.mean(Corr_seg, axis = (1,2))\n",
    "Corr_seg_std = np.std(Corr_seg, axis = (1,2))\n",
    "\n",
    "data2save['simu'] = {}\n",
    "data2save['simu']['Corr_mean'] = Corr_seg_mean\n",
    "data2save['simu']['Corr_std'] = Corr_seg_std\n",
    "save_data()"
   ]
  },
  {
   "cell_type": "code",
   "execution_count": null,
   "metadata": {},
   "outputs": [
    {
     "data": {
      "text/plain": [
       "array([[0.19977546, 0.45660513, 0.35275748],\n",
       "       [0.21281251, 0.4571768 , 0.35424471],\n",
       "       [0.2588637 , 0.45879643, 0.35511547],\n",
       "       [0.5541366 , 0.49578806, 0.38196303],\n",
       "       [0.8724529 , 0.60366681, 0.43144357]])"
      ]
     },
     "execution_count": 99,
     "metadata": {},
     "output_type": "execute_result"
    }
   ],
   "source": []
  },
  {
   "cell_type": "code",
   "execution_count": null,
   "metadata": {},
   "outputs": [
    {
     "data": {
      "image/png": "[encoded data removed]",
      "text/plain": [
       "<Figure size 576x360 with 1 Axes>"
      ]
     },
     "metadata": {
      "needs_background": "light"
     },
     "output_type": "display_data"
    },
    {
     "data": {
      "image/png": "[encoded data removed]",
      "text/plain": [
       "<Figure size 576x360 with 1 Axes>"
      ]
     },
     "metadata": {
      "needs_background": "light"
     },
     "output_type": "display_data"
    },
    {
     "data": {
      "image/png": "[encoded data removed]",
      "text/plain": [
       "<Figure size 576x360 with 1 Axes>"
      ]
     },
     "metadata": {
      "needs_background": "light"
     },
     "output_type": "display_data"
    },
    {
     "data": {
      "image/png": "[encoded data removed]",
      "text/plain": [
       "<Figure size 576x360 with 1 Axes>"
      ]
     },
     "metadata": {
      "needs_background": "light"
     },
     "output_type": "display_data"
    },
    {
     "data": {
      "image/png": "[encoded data removed]",
      "text/plain": [
       "<Figure size 576x360 with 1 Axes>"
      ]
     },
     "metadata": {
      "needs_background": "light"
     },
     "output_type": "display_data"
    }
   ],
   "source": [
    "\n",
    "\n",
    "%matplotlib inline\n",
    "\n",
    "def show_RME_corr( show_error=True, ind_deformation = 0, save_fig = True):\n",
    "    # deformations2show = [0,2,3,4]\n",
    "    plt.figure(figsize=FIGSIZE)\n",
    "\n",
    "    for ind_deformation in [ind_deformation]:\n",
    "        plt.errorbar(\n",
    "            angles, \n",
    "            Corr_mean_exp[ind_deformation], \n",
    "            label=rf'Experiment',\n",
    "            color = 'blue',\n",
    "            marker='o',\n",
    "            linewidth=2,\n",
    "        )\n",
    "        if show_error:\n",
    "            plot_error(\n",
    "                Corr_mean_exp[ind_deformation], \n",
    "                Corr_std_exp[ind_deformation], \n",
    "                color = 'blue')\n",
    "\n",
    "    \n",
    "    plt.errorbar(\n",
    "        angles, \n",
    "        Corr_seg_mean[ind_deformation], \n",
    "        label=rf'Simulation',\n",
    "        color = 'red',\n",
    "        marker='o',\n",
    "        linewidth=2,\n",
    "    )\n",
    "\n",
    "\n",
    "    if show_error:\n",
    "        plot_error(\n",
    "            Corr_seg_mean[ind_deformation], \n",
    "            Corr_seg_std[ind_deformation], \n",
    "            color = 'red')\n",
    "\n",
    "    \n",
    "    plt.errorbar(\n",
    "        angles, \n",
    "        Corr_theory[ind_deformation], \n",
    "        label=rf'Theory',\n",
    "        color = 'black',\n",
    "        marker='x',\n",
    "        linewidth=2\n",
    "    )\n",
    "\n",
    "\n",
    "    \n",
    "\n",
    "    plt.xlabel(r\"$\\theta$\", fontsize=LABEL_SIZE)\n",
    "    plt.ylabel(r\"$C(\\theta)$\", fontsize=LABEL_SIZE)\n",
    "    xticks = [0, np.pi / 2, np.pi, 3 * np.pi / 2, 2 * np.pi]\n",
    "    xtics_labels = [r\"$0$\", r\"$\\pi/2$\", r\"$\\pi$\", r\"$3\\pi/2$\", r\"$2\\pi$\"]\n",
    "    plt.xticks(xticks, xtics_labels, fontsize=TICK_SIZE)\n",
    "    # plt.ylim([0.3, 1.05])\n",
    "    plt.yticks(fontsize=TICK_SIZE)\n",
    "    plt.legend(fontsize=LEGEND_SIZE, loc = 'upper right')\n",
    "    plt.title(fr'$\\Delta x =$ {Delta_x[ind_deformation]:.0f}', fontsize = TITLE_SIZE)\n",
    "\n",
    "    if save_fig:\n",
    "        plt.savefig(\n",
    "            image_path(f\"RME_exp_Vs_simu_Dx_{Delta_x[ind_deformation]:.0f}.svg\"),\n",
    "            dpi=300,\n",
    "        )\n",
    "\n",
    "\n",
    "for ind_deformation in range(len(deformation_indices)):\n",
    "    show_RME_corr( show_error=True, ind_deformation = ind_deformation, save_fig = True)\n",
    "\n",
    "\n"
   ]
  },
  {
   "cell_type": "code",
   "execution_count": null,
   "metadata": {},
   "outputs": [
    {
     "data": {
      "image/png": "[encoded data removed]",
      "text/plain": [
       "<Figure size 432x288 with 1 Axes>"
      ]
     },
     "metadata": {
      "needs_background": "light"
     },
     "output_type": "display_data"
    },
    {
     "data": {
      "image/png": "[encoded data removed]",
      "text/plain": [
       "<Figure size 432x288 with 1 Axes>"
      ]
     },
     "metadata": {
      "needs_background": "light"
     },
     "output_type": "display_data"
    },
    {
     "data": {
      "image/png": "[encoded data removed]",
      "text/plain": [
       "<Figure size 432x288 with 1 Axes>"
      ]
     },
     "metadata": {
      "needs_background": "light"
     },
     "output_type": "display_data"
    },
    {
     "data": {
      "image/png": "[encoded data removed]",
      "text/plain": [
       "<Figure size 432x288 with 1 Axes>"
      ]
     },
     "metadata": {
      "needs_background": "light"
     },
     "output_type": "display_data"
    }
   ],
   "source": [
    "import numpy as np\n",
    "import matplotlib.pyplot as plt\n",
    "qs = (1,2,3,4)\n",
    "\n",
    "# Generate angle values\n",
    "theta = np.linspace(0, 2 * np.pi, 50)\n",
    "\n",
    "a = 1  \n",
    "\n",
    "for ind_q, q in enumerate(qs):\n",
    "    b = .1 if q>1 else 0.5 # Semi-minor axis\n",
    "    plt.figure()\n",
    "    # Create polar plot\n",
    "    radius = a+ b * np.cos(q*theta)\n",
    "    plt.polar(theta, radius, linewidth = 4)\n",
    "\n",
    "    # Remove axis and ticks\n",
    "    plt.axis('off')\n",
    "\n",
    "    # Save figure\n",
    "    if SAVE_FIG:\n",
    "        plt.savefig(\n",
    "            image_path(f'deform_q_{ind_q}.svg'),\n",
    "            dpi=300, \n",
    "            bbox_inches='tight'\n",
    "        )\n"
   ]
  },
  {
   "attachments": {},
   "cell_type": "markdown",
   "metadata": {},
   "source": [
    "# Effect of bending"
   ]
  },
  {
   "attachments": {},
   "cell_type": "markdown",
   "metadata": {},
   "source": [
    "## Compute Hamiltonians for different bend values"
   ]
  },
  {
   "cell_type": "code",
   "execution_count": null,
   "metadata": {
    "ExecuteTime": {
     "end_time": "2023-02-22T16:09:07.246622Z",
     "start_time": "2023-02-22T16:09:07.242061Z"
    }
   },
   "outputs": [],
   "source": [
    "l_bend = 1e3 #1mm\n",
    "bends = 10**np.linspace(5.35, 3.5, 9)\n",
    "# Hs_bends = []\n",
    "\n",
    "# for bend in tqdm(bends):\n",
    "#     Hs_bends.append(modes.getEvolutionOperator(curvature = (1e6,bend)))"
   ]
  },
  {
   "cell_type": "code",
   "execution_count": null,
   "metadata": {
    "ExecuteTime": {
     "end_time": "2023-02-22T16:09:12.916617Z",
     "start_time": "2023-02-22T16:09:07.727023Z"
    }
   },
   "outputs": [
    {
     "name": "stderr",
     "output_type": "stream",
     "text": [
      "  0%|          | 0/9 [00:05<?, ?it/s]\n"
     ]
    },
    {
     "ename": "MemoryError",
     "evalue": "Unable to allocate 64.0 GiB for an array with shape (65536, 65536) and data type complex128",
     "output_type": "error",
     "traceback": [
      "\u001b[0;31m---------------------------------------------------------------------------\u001b[0m",
      "\u001b[0;31mMemoryError\u001b[0m                               Traceback (most recent call last)",
      "\u001b[0;32m/tmp/ipykernel_1104383/2401514032.py\u001b[0m in \u001b[0;36m<module>\u001b[0;34m\u001b[0m\n\u001b[1;32m      1\u001b[0m \u001b[0mTs_bend\u001b[0m \u001b[0;34m=\u001b[0m \u001b[0;34m[\u001b[0m\u001b[0;34m]\u001b[0m\u001b[0;34m\u001b[0m\u001b[0;34m\u001b[0m\u001b[0m\n\u001b[1;32m      2\u001b[0m \u001b[0;32mfor\u001b[0m \u001b[0mbend\u001b[0m \u001b[0;32min\u001b[0m \u001b[0mtqdm\u001b[0m\u001b[0;34m(\u001b[0m\u001b[0mbends\u001b[0m\u001b[0;34m)\u001b[0m\u001b[0;34m:\u001b[0m\u001b[0;34m\u001b[0m\u001b[0;34m\u001b[0m\u001b[0m\n\u001b[0;32m----> 3\u001b[0;31m     \u001b[0mTs_bend\u001b[0m\u001b[0;34m.\u001b[0m\u001b[0mappend\u001b[0m\u001b[0;34m(\u001b[0m\u001b[0mmodes\u001b[0m\u001b[0;34m.\u001b[0m\u001b[0mgetPropagationMatrix\u001b[0m\u001b[0;34m(\u001b[0m\u001b[0mdistance\u001b[0m \u001b[0;34m=\u001b[0m \u001b[0;36m1e3\u001b[0m\u001b[0;34m,\u001b[0m \u001b[0mcurvature\u001b[0m \u001b[0;34m=\u001b[0m \u001b[0;34m(\u001b[0m\u001b[0;36m1e6\u001b[0m\u001b[0;34m,\u001b[0m\u001b[0mbend\u001b[0m\u001b[0;34m)\u001b[0m\u001b[0;34m)\u001b[0m\u001b[0;34m)\u001b[0m\u001b[0;34m\u001b[0m\u001b[0;34m\u001b[0m\u001b[0m\n\u001b[0m",
      "\u001b[0;32m/opt/miniconda/py3/envs/py38/lib/python3.8/site-packages/pyMMF/modes.py\u001b[0m in \u001b[0;36mgetPropagationMatrix\u001b[0;34m(self, distance, npola, curvature)\u001b[0m\n\u001b[1;32m    305\u001b[0m                 \u001b[0mpp\u001b[0m\u001b[0;34m.\u001b[0m \u001b[0;36m529\u001b[0m\u001b[0;31m–\u001b[0m\u001b[0;36m535\u001b[0m\u001b[0;34m,\u001b[0m \u001b[0;36m2015.\u001b[0m\u001b[0;34m\u001b[0m\u001b[0;34m\u001b[0m\u001b[0m\n\u001b[1;32m    306\u001b[0m         \"\"\"\n\u001b[0;32m--> 307\u001b[0;31m         \u001b[0mB\u001b[0m \u001b[0;34m=\u001b[0m \u001b[0mself\u001b[0m\u001b[0;34m.\u001b[0m\u001b[0mgetEvolutionOperator\u001b[0m\u001b[0;34m(\u001b[0m\u001b[0mnpola\u001b[0m\u001b[0;34m,\u001b[0m \u001b[0mcurvature\u001b[0m\u001b[0;34m)\u001b[0m\u001b[0;34m\u001b[0m\u001b[0;34m\u001b[0m\u001b[0m\n\u001b[0m\u001b[1;32m    308\u001b[0m \u001b[0;34m\u001b[0m\u001b[0m\n\u001b[1;32m    309\u001b[0m         \u001b[0;32mreturn\u001b[0m \u001b[0mexpm\u001b[0m\u001b[0;34m(\u001b[0m\u001b[0mcomplex\u001b[0m\u001b[0;34m(\u001b[0m\u001b[0;36m0\u001b[0m\u001b[0;34m,\u001b[0m \u001b[0;36m1\u001b[0m\u001b[0;34m)\u001b[0m \u001b[0;34m*\u001b[0m \u001b[0mB\u001b[0m \u001b[0;34m*\u001b[0m \u001b[0mdistance\u001b[0m\u001b[0;34m)\u001b[0m\u001b[0;34m\u001b[0m\u001b[0;34m\u001b[0m\u001b[0m\n",
      "\u001b[0;32m/opt/miniconda/py3/envs/py38/lib/python3.8/site-packages/pyMMF/modes.py\u001b[0m in \u001b[0;36mgetEvolutionOperator\u001b[0;34m(self, npola, curvature)\u001b[0m\n\u001b[1;32m    217\u001b[0m             \u001b[0mM\u001b[0m \u001b[0;34m=\u001b[0m \u001b[0mself\u001b[0m\u001b[0;34m.\u001b[0m\u001b[0mgetModeMatrix\u001b[0m\u001b[0;34m(\u001b[0m\u001b[0;34m)\u001b[0m\u001b[0;34m\u001b[0m\u001b[0;34m\u001b[0m\u001b[0m\n\u001b[1;32m    218\u001b[0m             \u001b[0mx\u001b[0m \u001b[0;34m=\u001b[0m \u001b[0mnp\u001b[0m\u001b[0;34m.\u001b[0m\u001b[0mdiag\u001b[0m\u001b[0;34m(\u001b[0m\u001b[0mself\u001b[0m\u001b[0;34m.\u001b[0m\u001b[0mindexProfile\u001b[0m\u001b[0;34m.\u001b[0m\u001b[0mX\u001b[0m\u001b[0;34m.\u001b[0m\u001b[0mflatten\u001b[0m\u001b[0;34m(\u001b[0m\u001b[0;34m)\u001b[0m\u001b[0;34m)\u001b[0m\u001b[0;34m\u001b[0m\u001b[0;34m\u001b[0m\u001b[0m\n\u001b[0;32m--> 219\u001b[0;31m             \u001b[0mGamma_x\u001b[0m \u001b[0;34m=\u001b[0m \u001b[0mM\u001b[0m\u001b[0;34m.\u001b[0m\u001b[0mtranspose\u001b[0m\u001b[0;34m(\u001b[0m\u001b[0;34m)\u001b[0m\u001b[0;34m.\u001b[0m\u001b[0mconjugate\u001b[0m\u001b[0;34m(\u001b[0m\u001b[0;34m)\u001b[0m\u001b[0;34m.\u001b[0m\u001b[0mdot\u001b[0m\u001b[0;34m(\u001b[0m\u001b[0mx\u001b[0m\u001b[0;34m)\u001b[0m\u001b[0;34m.\u001b[0m\u001b[0mdot\u001b[0m\u001b[0;34m(\u001b[0m\u001b[0mM\u001b[0m\u001b[0;34m)\u001b[0m\u001b[0;34m\u001b[0m\u001b[0;34m\u001b[0m\u001b[0m\n\u001b[0m\u001b[1;32m    220\u001b[0m             \u001b[0my\u001b[0m \u001b[0;34m=\u001b[0m \u001b[0mnp\u001b[0m\u001b[0;34m.\u001b[0m\u001b[0mdiag\u001b[0m\u001b[0;34m(\u001b[0m\u001b[0mself\u001b[0m\u001b[0;34m.\u001b[0m\u001b[0mindexProfile\u001b[0m\u001b[0;34m.\u001b[0m\u001b[0mY\u001b[0m\u001b[0;34m.\u001b[0m\u001b[0mflatten\u001b[0m\u001b[0;34m(\u001b[0m\u001b[0;34m)\u001b[0m\u001b[0;34m)\u001b[0m\u001b[0;34m\u001b[0m\u001b[0;34m\u001b[0m\u001b[0m\n\u001b[1;32m    221\u001b[0m             \u001b[0mGamma_y\u001b[0m \u001b[0;34m=\u001b[0m \u001b[0mM\u001b[0m\u001b[0;34m.\u001b[0m\u001b[0mtranspose\u001b[0m\u001b[0;34m(\u001b[0m\u001b[0;34m)\u001b[0m\u001b[0;34m.\u001b[0m\u001b[0mconjugate\u001b[0m\u001b[0;34m(\u001b[0m\u001b[0;34m)\u001b[0m\u001b[0;34m.\u001b[0m\u001b[0mdot\u001b[0m\u001b[0;34m(\u001b[0m\u001b[0my\u001b[0m\u001b[0;34m)\u001b[0m\u001b[0;34m.\u001b[0m\u001b[0mdot\u001b[0m\u001b[0;34m(\u001b[0m\u001b[0mM\u001b[0m\u001b[0;34m)\u001b[0m\u001b[0;34m\u001b[0m\u001b[0;34m\u001b[0m\u001b[0m\n",
      "\u001b[0;31mMemoryError\u001b[0m: Unable to allocate 64.0 GiB for an array with shape (65536, 65536) and data type complex128"
     ]
    }
   ],
   "source": [
    "Ts_bend = []\n",
    "for bend in tqdm(bends):\n",
    "    Ts_bend.append(modes.getPropagationMatrix(distance = 1e3, curvature = (1e6,bend)))"
   ]
  },
  {
   "cell_type": "code",
   "execution_count": null,
   "metadata": {
    "ExecuteTime": {
     "end_time": "2023-02-22T16:09:13.446861Z",
     "start_time": "2023-02-22T16:09:13.322047Z"
    }
   },
   "outputs": [],
   "source": [
    "plt.figure()\n",
    "plt.imshow(np.abs(Ts_bend[-1]))"
   ]
  },
  {
   "attachments": {},
   "cell_type": "markdown",
   "metadata": {},
   "source": [
    "## Compute RME for bending alone"
   ]
  },
  {
   "cell_type": "code",
   "execution_count": null,
   "metadata": {},
   "outputs": [],
   "source": [
    "C_bend_all = []\n",
    "C_I_bend_all = []\n",
    "for TM in Ts_bend:\n",
    "    C, C_I = get_RME(TM, n_ave, angles)\n",
    "    C_bend_all.append(C)\n",
    "    C_I_bend_all.append(C_I)\n",
    "\n",
    "C_bend_all = np.array(C_bend_all) \n",
    "C_I_bend_all = np.array(C_I_bend_all) "
   ]
  },
  {
   "attachments": {},
   "cell_type": "markdown",
   "metadata": {},
   "source": [
    "## Show RME Correlation"
   ]
  },
  {
   "cell_type": "code",
   "execution_count": null,
   "metadata": {},
   "outputs": [],
   "source": [
    "%matplotlib notebook\n",
    "\n",
    "Cs = np.array(C_bend_all[::-1])#.transpose()\n",
    "\n",
    "\n",
    "plt.figure(figsize = (12,6))\n",
    "# plt.title('Without correction')\n",
    "\n",
    "# Exp data\n",
    "cmap = get_color_map(n = len(Cs))\n",
    "for i, C in enumerate(Cs):\n",
    "    plt.plot(angles/np.pi, C, color = cmap(i))\n",
    "\n",
    "# for i, C in enumerate(C_model_all):\n",
    "#     plt.plot(angles/np.pi, C, \"b--\", alpha = .35)\n",
    "\n",
    "# for i, C in enumerate(C_model_all):\n",
    "#     plt.plot(angles/np.pi, C, \"b--\", alpha = .35)\n",
    "    \n",
    "# C_model_mean = C_model_all.mean(axis = 0)\n",
    "# plt.plot(angles/np.pi, C_model_mean, \"bx-\")\n",
    "    \n",
    "    \n",
    "plt.xticks([0,0.5,1], [r'$0$', r'$\\pi/2$', r'$\\pi$'], fontsize = 16)\n",
    "plt.yticks(fontsize=16)\n",
    "plt.grid()\n",
    "plt.ylim([0,1.05])"
   ]
  },
  {
   "attachments": {},
   "cell_type": "markdown",
   "metadata": {},
   "source": [
    "# Bending + disorder \n",
    "**Bending in the middle of the fiber**"
   ]
  },
  {
   "attachments": {},
   "cell_type": "markdown",
   "metadata": {},
   "source": [
    "## Product matrices"
   ]
  },
  {
   "cell_type": "code",
   "execution_count": null,
   "metadata": {},
   "outputs": [],
   "source": [
    "import random\n",
    "\n",
    "C_prod_all = []\n",
    "C_I_prod_all = []\n",
    "for TM_bend in Ts_bend:\n",
    "    C_prod_all.append([])\n",
    "    C_I_prod_all.append([])\n",
    "    for TM_rnd in TM_seg_all:\n",
    "        TM_bend2 = random.choice(TM_seg_all)\n",
    "        T_tot = TM_bend@TM_rnd#@TM_bend2\n",
    "        C, C_I = get_RME(T_tot, n_ave, angles)\n",
    "        C_prod_all[-1].append(C)\n",
    "        C_I_prod_all[-1].append(C_I)\n",
    "        \n",
    "C_prod_all = np.array(C_prod_all)\n",
    "C_I_prod_all = np.array(C_I_prod_all)"
   ]
  },
  {
   "cell_type": "code",
   "execution_count": null,
   "metadata": {},
   "outputs": [],
   "source": [
    "C_prod_ave = np.mean(C_prod_all, axis = 1)\n",
    "C_I_prod_ave = np.mean(C_I_prod_all, axis = 1)"
   ]
  },
  {
   "attachments": {},
   "cell_type": "markdown",
   "metadata": {},
   "source": [
    "### Field correlation"
   ]
  },
  {
   "attachments": {},
   "cell_type": "markdown",
   "metadata": {},
   "source": [
    "#### Product of correlation VS Correlation of product"
   ]
  },
  {
   "cell_type": "code",
   "execution_count": null,
   "metadata": {},
   "outputs": [],
   "source": [
    "%matplotlib notebook\n",
    "\n",
    "Cprod = np.array(C_prod_ave[::-1])#.transpose()\n",
    "Cs = np.array(C_all[1:][:5:-1])#.transpose()\n",
    "Cprod_X = np.array(C_bend_all[::-1])#.transpose()\n",
    "\n",
    "plt.figure(figsize = (12,6))\n",
    "cmap = get_color_map(n = len(Cprod))\n",
    "for i, C in enumerate(Cprod):\n",
    "    plt.plot(angles/np.pi, C, color = cmap(i))\n",
    "    \n",
    "cmap = get_color_map2(n = len(Cs))\n",
    "for i, C in enumerate(Cprod_X):\n",
    "    plt.plot(angles/np.pi, C*C_model_mean, color = cmap(i))\n",
    "\n",
    "# for i, C in enumerate(Cs):\n",
    "#     plt.plot(angles/np.pi, C, color = cmap(i), linestyle = \"--\", label = f'c={ns[::-1][i]}')\n",
    "\n",
    "    \n",
    "plt.xticks([0,0.5,1], [r'$0$', r'$\\pi/2$', r'$\\pi$'], fontsize = 16)\n",
    "plt.yticks(fontsize=16)\n",
    "plt.grid()\n",
    "plt.ylim([0,1.05])"
   ]
  },
  {
   "attachments": {},
   "cell_type": "markdown",
   "metadata": {},
   "source": [
    "### Intensity correlation"
   ]
  },
  {
   "cell_type": "code",
   "execution_count": null,
   "metadata": {},
   "outputs": [],
   "source": [
    "%matplotlib notebook\n",
    "\n",
    "Cprod = np.array(C_I_prod_ave[-3::-1])#.transpose()\n",
    "Cs = np.array(C_I_all[1:][:5:-3])#.transpose()\n",
    "\n",
    "plt.figure(figsize = (12,6))\n",
    "cmap = get_color_map(n = len(Cprod))\n",
    "for i, C in enumerate(Cprod):\n",
    "    plt.plot(angles/np.pi, C, color = cmap(i))\n",
    "    \n",
    "cmap = get_color_map2(n = len(Cs))\n",
    "for i, C in enumerate(Cs):\n",
    "    plt.plot(angles/np.pi, C, color = cmap(i), linestyle = \"--\", label = f'c={ns[::-1][i]}')\n",
    "\n",
    "    \n",
    "plt.xticks([0,0.5,1], [r'$0$', r'$\\pi/2$', r'$\\pi$'], fontsize = 16)\n",
    "plt.yticks(fontsize=16)\n",
    "plt.grid()\n",
    "plt.ylim([0,1.05])"
   ]
  },
  {
   "cell_type": "code",
   "execution_count": null,
   "metadata": {},
   "outputs": [],
   "source": []
  },
  {
   "cell_type": "code",
   "execution_count": null,
   "metadata": {},
   "outputs": [],
   "source": []
  },
  {
   "cell_type": "code",
   "execution_count": null,
   "metadata": {
    "ExecuteTime": {
     "end_time": "2023-02-23T09:39:29.645661Z",
     "start_time": "2023-02-23T09:39:29.642450Z"
    }
   },
   "outputs": [],
   "source": [
    "# C_sum = C_rnd\n",
    "# C_0 = C_rnd\n",
    "# C_2 = C_rnd\n",
    "# T_2 = TM_tot"
   ]
  },
  {
   "cell_type": "code",
   "execution_count": null,
   "metadata": {
    "ExecuteTime": {
     "end_time": "2023-02-23T09:38:48.300677Z",
     "start_time": "2023-02-23T09:38:48.089319Z"
    }
   },
   "outputs": [],
   "source": [
    "plt.figure()\n",
    "plt.plot(angles/np.pi, C_0, label = 'n=0')\n",
    "plt.plot(angles/np.pi, C_2, 'kx', label = 'n=2')\n",
    "plt.plot(angles/np.pi, C_tot, 'g', label = 'sum')\n",
    "plt.plot(angles/np.pi, C_0*C_2, 'gx', label = r'$C_0 \\times C_2$')\n",
    "plt.xticks([0,0.25,.5,.75,1.], [r'$0$', r'$\\pi/4$', r'$\\pi/2$', r'$3\\pi/4$', r'$\\pi$'], fontsize = 16)\n",
    "plt.yticks(fontsize=16)\n",
    "plt.grid()\n",
    "plt.ylim([0.6,1.05])\n",
    "plt.ylabel(r'$C(\\theta)$')\n",
    "plt.xlabel(r'$\\theta$ (radian)')\n",
    "plt.legend()"
   ]
  },
  {
   "cell_type": "code",
   "execution_count": null,
   "metadata": {
    "ExecuteTime": {
     "end_time": "2023-02-22T11:19:09.678814Z",
     "start_time": "2023-02-22T11:19:09.605046Z"
    }
   },
   "outputs": [],
   "source": [
    "plt.figure()\n",
    "plt.plot(angles/np.pi, C_rnd)\n",
    "plt.xticks([0,0.25,.5,.75,1.], [r'$0$', r'$\\pi/4$', r'$\\pi/2$', r'$3\\pi/4$', r'$\\pi$'], fontsize = 16)\n",
    "plt.yticks(fontsize=16)\n",
    "plt.grid()\n",
    "plt.ylim([0.6,1.05])\n",
    "plt.ylabel(r'$C(\\theta)$')\n",
    "plt.xlabel(r'$\\theta$ (radian)')"
   ]
  },
  {
   "cell_type": "code",
   "execution_count": null,
   "metadata": {
    "ExecuteTime": {
     "end_time": "2023-02-21T14:59:41.103486Z",
     "start_time": "2023-02-21T14:59:41.053077Z"
    }
   },
   "outputs": [],
   "source": [
    "plt.figure()\n",
    "plt.plot(angles, C_rnd)"
   ]
  },
  {
   "cell_type": "code",
   "execution_count": null,
   "metadata": {
    "ExecuteTime": {
     "end_time": "2023-02-21T14:38:43.535565Z",
     "start_time": "2023-02-21T14:38:43.480955Z"
    }
   },
   "outputs": [],
   "source": [
    "plt.figure()\n",
    "plt.plot(angles, C_rnd)"
   ]
  },
  {
   "cell_type": "code",
   "execution_count": null,
   "metadata": {
    "ExecuteTime": {
     "end_time": "2023-02-22T16:09:16.332761Z",
     "start_time": "2023-02-22T16:09:16.329447Z"
    }
   },
   "outputs": [],
   "source": [
    "# theta = np.arcsin(0.15)\n",
    "# # theta = 0\n",
    "# n2 = 1.45\n",
    "# n1 = 1\n",
    "# np.abs((n1*np.cos(theta)-n2*np.sqrt(1-(n1/n2*np.sin(theta))))/(n1*np.cos(theta)+n2*np.sqrt(1-(n1/n2*np.sin(theta)))))**2"
   ]
  },
  {
   "attachments": {},
   "cell_type": "markdown",
   "metadata": {},
   "source": [
    "## Add effect of irregular section"
   ]
  },
  {
   "cell_type": "code",
   "execution_count": null,
   "metadata": {
    "ExecuteTime": {
     "end_time": "2023-02-22T16:09:17.578919Z",
     "start_time": "2023-02-22T16:09:17.331495Z"
    }
   },
   "outputs": [],
   "source": [
    "%matplotlib inline\n",
    "lc = 5e4\n",
    "coeff = 1#5e-8\n",
    "\n",
    "T_rnd = np.random.randn(nmodes, nmodes)+1j*np.random.randn(nmodes, nmodes)\n",
    "# TM_rnd = np.exp(1j*np.random.randn(nmodes, nmodes)*2*np.pi)\n",
    "# mask_ballistic = np.eye(nmodes, nmodes)\n",
    "# mask_beta = 1/(deltaBeta**2+7.5e-6)\n",
    "mask_beta = 1/(lc*(deltaBeta**2+1/lc**2))\n",
    "# mask_beta = mask_beta/np.max(mask_beta)\n",
    "mask_m = np.abs(deltaM) == 2\n",
    "# coeff = 0.23\n",
    "\n",
    "T_model = T_rnd*coeff*mask_beta*mask_m#+Hs_bends[0]\n",
    "# H_model = H_model + H_model.transpose()\n",
    "\n",
    "plt.figure()\n",
    "plt.imshow(np.abs(T_model))\n",
    "plt.figure()\n",
    "plt.imshow(sort(np.abs(T_model)))"
   ]
  },
  {
   "cell_type": "code",
   "execution_count": null,
   "metadata": {
    "ExecuteTime": {
     "end_time": "2023-02-22T16:09:17.965162Z",
     "start_time": "2023-02-22T16:09:17.960790Z"
    }
   },
   "outputs": [],
   "source": [
    "# TM_rnd = np.random.randn(nmodes, nmodes)+1j*np.random.randn(nmodes, nmodes)\n",
    "# # TM_rnd = np.exp(1j*np.random.randn(nmodes, nmodes)*2*np.pi)\n",
    "# mask_ballistic = np.eye(nmodes, nmodes)\n",
    "# mask_beta = 1/(deltaBeta**2+7.5e-6)\n",
    "# mask_beta = mask_beta/np.max(mask_beta)\n",
    "# mask_m = np.abs(deltaM) == 2\n",
    "# coeff = 0.23\n",
    "\n",
    "# TM_model = mask_ballistic+TM_rnd*coeff*mask_beta*mask_m\n",
    "\n",
    "# plt.figure()\n",
    "# plt.imshow(np.abs(TM_model))\n",
    "# plt.figure()\n",
    "# plt.imshow(sort(np.abs(TM_model)))"
   ]
  },
  {
   "attachments": {},
   "cell_type": "markdown",
   "metadata": {},
   "source": [
    "## 1.5 Width of rotational ME"
   ]
  },
  {
   "attachments": {},
   "cell_type": "markdown",
   "metadata": {},
   "source": [
    "### 1.5.1 Compute Correlation curves for the different bend values"
   ]
  },
  {
   "cell_type": "code",
   "execution_count": null,
   "metadata": {
    "ExecuteTime": {
     "end_time": "2023-02-23T09:41:42.070036Z",
     "start_time": "2023-02-23T09:40:47.804916Z"
    }
   },
   "outputs": [],
   "source": [
    "ind = 0\n",
    "\n",
    "L = 100\n",
    "n_ave = 25\n",
    "n_angles = 31\n",
    "angles = np.linspace(0, np.pi, n_angles)\n",
    "\n",
    "C_rnd = []\n",
    "C_all_simu_bend = []\n",
    "\n",
    "for T_bend in tqdm(Ts_bend):\n",
    "    C_rnd = []\n",
    "    for angle in angles:\n",
    "        R_mat = get_rotation_matrix(m, l, angle)\n",
    "        C_temp = []\n",
    "        \n",
    "#         H_tot = H_bend+H_model\n",
    "#         TM = expm(1j*H_bend*L)@expm(1j*H_model*L)\n",
    "#         TM = expm(1j*H_tot*L)\n",
    "#         TM = 1j*H_model*L+np.eye(H_model.shape[0])\n",
    "#         TM = TM_model\n",
    "        TM = T_bend#@T_2\n",
    "        for _ in range(n_ave):\n",
    "            vec_in_rnd = (np.random.rand(len(m))-0.5)+1j*(np.random.rand(len(m))-0.5)\n",
    "            \n",
    "            E1_rnd = M@R_mat@TM@vec_in_rnd\n",
    "            E2_rnd = M@TM@R_mat@vec_in_rnd\n",
    "            I1_rnd = np.abs(E1_rnd)**2\n",
    "            I2_rnd = np.abs(E2_rnd)**2\n",
    "            \n",
    "            C_temp.append(corr(E1_rnd,E2_rnd))\n",
    "\n",
    "\n",
    "        C_rnd.append(np.mean(C_temp))\n",
    "    C_all_simu_bend.append(C_rnd)"
   ]
  },
  {
   "cell_type": "code",
   "execution_count": null,
   "metadata": {
    "ExecuteTime": {
     "end_time": "2023-02-23T09:41:42.200136Z",
     "start_time": "2023-02-23T09:41:42.196756Z"
    }
   },
   "outputs": [],
   "source": [
    "# C_all_simu_bend_sum = C_all_simu_bend"
   ]
  },
  {
   "cell_type": "code",
   "execution_count": null,
   "metadata": {
    "ExecuteTime": {
     "end_time": "2023-02-23T09:41:42.440099Z",
     "start_time": "2023-02-23T09:41:42.254389Z"
    }
   },
   "outputs": [],
   "source": [
    "%matplotlib inline\n",
    "\n",
    "Cs0 = np.abs(np.array(C_all_simu_bend))[::-1]#.transpose()\n",
    "Cs = np.abs(np.array(C_all_simu_bend_sum))[::-1]#.transpose()\n",
    "\n",
    "plt.figure(figsize = (8,4))\n",
    "# plt.title('Without correction')\n",
    "\n",
    "cmap = get_color_map(n = len(Cs))\n",
    "for i, C in enumerate(Cs):\n",
    "    plt.plot(angles/np.pi, C, color = cmap(i))\n",
    "plt.plot(angles/np.pi, C_2, 'bx')\n",
    "for i, C in enumerate(Cs0):\n",
    "    plt.plot(angles/np.pi, (C*C_2), color = cmap(i), linestyle = '--')\n",
    "plt.xticks([0,0.25,.5,.75,1.], [r'$0$', r'$\\pi/4$', r'$\\pi/2$', r'$3\\pi/4$', r'$\\pi$'], fontsize = 16)\n",
    "plt.yticks(fontsize=16)\n",
    "plt.grid()\n",
    "plt.ylim([0.,1.05])\n",
    "plt.ylabel(r'$C(\\theta)$')\n",
    "plt.xlabel(r'$\\theta$ (radian)')"
   ]
  },
  {
   "cell_type": "code",
   "execution_count": null,
   "metadata": {
    "ExecuteTime": {
     "end_time": "2023-02-22T16:20:47.057689Z",
     "start_time": "2023-02-22T16:20:46.854298Z"
    }
   },
   "outputs": [],
   "source": [
    "%matplotlib inline\n",
    "\n",
    "Cs = np.abs(np.array(C_all_simu_bend))[::-1]#.transpose()\n",
    "\n",
    "plt.figure(figsize = (8,4))\n",
    "# plt.title('Without correction')\n",
    "\n",
    "cmap = get_color_map(n = len(Cs))\n",
    "for i, C in enumerate(Cs):\n",
    "    plt.plot(angles/np.pi, C, color = cmap(i))\n",
    "plt.xticks([0,0.25,.5,.75,1.], [r'$0$', r'$\\pi/4$', r'$\\pi/2$', r'$3\\pi/4$', r'$\\pi$'], fontsize = 16)\n",
    "plt.yticks(fontsize=16)\n",
    "plt.grid()\n",
    "plt.ylim([0,1.05])\n",
    "plt.ylabel(r'$C(\\theta)$')\n",
    "plt.xlabel(r'$\\theta$ (radian)')"
   ]
  },
  {
   "cell_type": "code",
   "execution_count": null,
   "metadata": {
    "ExecuteTime": {
     "end_time": "2023-02-22T16:18:52.731348Z",
     "start_time": "2023-02-22T16:18:52.725454Z"
    }
   },
   "outputs": [],
   "source": [
    "len(C_2)"
   ]
  },
  {
   "attachments": {},
   "cell_type": "markdown",
   "metadata": {},
   "source": [
    "# 2. Experimental measurements"
   ]
  },
  {
   "attachments": {},
   "cell_type": "markdown",
   "metadata": {},
   "source": [
    "# 2.1 Load measured TMs"
   ]
  },
  {
   "cell_type": "code",
   "execution_count": null,
   "metadata": {
    "ExecuteTime": {
     "end_time": "2022-12-01T14:55:23.962959Z",
     "start_time": "2022-12-01T14:55:23.865199Z"
    }
   },
   "outputs": [],
   "source": [
    "TMs = np.load('TMs_mod_corrected.npy')\n",
    "nmodes = TMs.shape[-1]\n",
    "TMs_pola1 = TMs[:,:nmodes, :]\n",
    "TMs_pola2 = TMs[:,nmodes:, :]"
   ]
  },
  {
   "attachments": {},
   "cell_type": "markdown",
   "metadata": {},
   "source": [
    "## 2.3 Width of rotational ME"
   ]
  },
  {
   "attachments": {},
   "cell_type": "markdown",
   "metadata": {},
   "source": [
    "### 2.3.1 Compute Correlation curves for the different deformations"
   ]
  },
  {
   "cell_type": "code",
   "execution_count": null,
   "metadata": {
    "ExecuteTime": {
     "end_time": "2022-12-01T15:01:26.483871Z",
     "start_time": "2022-12-01T14:57:37.343751Z"
    }
   },
   "outputs": [],
   "source": [
    "### 2.3.1 Compute Correlation curves for the different deformations\n",
    "ind = 0\n",
    "\n",
    "TM = TMs_pola1[ind]\n",
    "n_ave = 20\n",
    "n_angles = 15\n",
    "angles = np.linspace(0, np.pi, n_angles)\n",
    "\n",
    "C_rnd = []\n",
    "C_all = []\n",
    "\n",
    "\n",
    "\n",
    "\n",
    "for TM in tqdm(TMs_pola1):\n",
    "    C_rnd = []\n",
    "    for angle in angles:\n",
    "        R_mat = get_rotation_matrix(m, l, angle)\n",
    "        C_temp = []\n",
    "        for _ in range(n_ave):\n",
    "            vec_in_rnd = (np.random.rand(len(m))-0.5)+1j*(np.random.rand(len(m))-0.5)\n",
    "            \n",
    "\n",
    "            E1_rnd = M@R_mat@TM@vec_in_rnd\n",
    "            E2_rnd = M@TM@R_mat@vec_in_rnd\n",
    "            I1_rnd = np.abs(E1_rnd)**2\n",
    "            I2_rnd = np.abs(E2_rnd)**2\n",
    "            \n",
    "            C_temp.append(np.abs(corr(E1_rnd,E2_rnd)))\n",
    "\n",
    "            # C_temp.append(corr(I1_rnd,I2_rnd))\n",
    "\n",
    "        C_rnd.append(np.mean(C_temp))\n",
    "    C_all.append(C_rnd)\n",
    "\n",
    "\n",
    "    "
   ]
  },
  {
   "cell_type": "code",
   "execution_count": null,
   "metadata": {
    "ExecuteTime": {
     "end_time": "2022-12-01T15:01:26.855685Z",
     "start_time": "2022-12-01T15:01:26.845964Z"
    }
   },
   "outputs": [],
   "source": [
    "C_all = np.array(C_all)"
   ]
  },
  {
   "cell_type": "code",
   "execution_count": null,
   "metadata": {
    "ExecuteTime": {
     "end_time": "2022-12-01T15:01:26.885029Z",
     "start_time": "2022-12-01T15:01:26.865239Z"
    }
   },
   "outputs": [],
   "source": [
    "x0 = np.pi\n",
    "y0 = C_all[0][angles == np.pi][0]\n",
    "\n",
    "sigma_corr = x0/np.sqrt(-2*np.log(y0))\n",
    "\n",
    "def gauss(x,sigma):\n",
    "    return np.exp(-(x)**2/(2*sigma**2))\n",
    "    \n",
    "correction_decorr_0 = gauss(angles,sigma_corr)"
   ]
  },
  {
   "cell_type": "code",
   "execution_count": null,
   "metadata": {
    "ExecuteTime": {
     "end_time": "2022-12-01T15:11:11.788624Z",
     "start_time": "2022-12-01T15:11:10.285665Z"
    }
   },
   "outputs": [],
   "source": [
    "%matplotlib inline\n",
    "\n",
    "Cs = C_all[1:][::-1]#.transpose()\n",
    "\n",
    "plt.figure(figsize = (6,13))\n",
    "plt.subplot(311)\n",
    "# plt.title('Without correction')\n",
    "\n",
    "cmap = get_color_map(n = len(Cs))\n",
    "for i, C in enumerate(Cs):\n",
    "    plt.plot(angles/np.pi, C, color = cmap(i))\n",
    "plt.xticks([0,0.5,1], [r'$0$', r'$\\pi/2$', r'$\\pi$'], fontsize = 16)\n",
    "plt.yticks(fontsize=16)\n",
    "plt.grid()\n",
    "plt.ylim([0,1.05])\n",
    "# plt.plot(angles/np.pi,(C_all[12:]).transpose())\n",
    "# plt.plot(angles/np.pi, correction_decorr_0, 'b-')\n",
    "plt.subplot(312)\n",
    "plt.title('Remove revival dip')\n",
    "for i, C in enumerate(Cs):\n",
    "    plt.plot(angles/np.pi, C/C_all[0], color = cmap(i))\n",
    "plt.xticks([0,0.5,1], [r'$0$', r'$\\pi/2$', r'$\\pi$'], fontsize = 16)\n",
    "plt.yticks(fontsize=16)\n",
    "plt.grid()\n",
    "plt.ylim([0,1.05])\n",
    "# plt.plot(angles/np.pi, C_all[-1]/C_all[0], label = 'random input mean', color = 'red')\n",
    "# plt.plot(angles/np.pi,(C_all[12:]/C_all[0]).transpose());\n",
    "plt.subplot(313)\n",
    "plt.title('Remove revival dip')\n",
    "for i, C in enumerate(Cs):\n",
    "    plt.plot(angles/np.pi, correction_decorr_0*C/C_all[0], color = cmap(i))\n",
    "plt.xticks([0,0.5,1], [r'$0$', r'$\\pi/2$', r'$\\pi$'], fontsize = 16)\n",
    "plt.yticks(fontsize=16)\n",
    "plt.grid()\n",
    "plt.ylim([0,1.05])\n",
    "# plt.plot(angles/np.pi, C_all[-1]/C_all[0], label = 'random input mean', color = 'red')\n",
    "# plt.plot(angles/np.pi,(correction_decorr_0*C_all[12:]/C_all[0]).transpose());"
   ]
  },
  {
   "cell_type": "code",
   "execution_count": null,
   "metadata": {
    "ExecuteTime": {
     "end_time": "2022-12-01T15:06:29.587062Z",
     "start_time": "2022-12-01T15:06:28.212663Z"
    }
   },
   "outputs": [],
   "source": [
    "plt.figure(figsize = (8,8))\n",
    "# plt.title('Without correction')\n",
    "\n",
    "plt.subplot(211)\n",
    "Cs = np.abs(np.array(C_all_simu_bend))[::-1]\n",
    "cmap = get_color_map(n = len(Cs))\n",
    "for i, C in enumerate(Cs):\n",
    "    plt.plot(angles/np.pi, C, color = cmap(i))\n",
    "plt.xticks([0,0.25,.5,.75,1.], [r'$0$', r'$\\pi/4$', r'$\\pi/2$', r'$3\\pi/4$', r'$\\pi$'], fontsize = 16)\n",
    "plt.yticks(fontsize=16)\n",
    "plt.grid()\n",
    "plt.ylim([0,1.05])\n",
    "plt.ylabel(r'$C(\\theta)$')\n",
    "plt.xlabel(r'$\\theta$ (radian)')\n",
    "\n",
    "# plt.title('Without correction')\n",
    "\n",
    "plt.subplot(212)\n",
    "Cs = C_all[1:][::-1]\n",
    "cmap = get_color_map(n = len(Cs))\n",
    "for i, C in enumerate(Cs):\n",
    "    plt.plot(angles/np.pi, C, color = cmap(i))\n",
    "plt.xticks([0,0.25,.5,.75,1.], [r'$0$', r'$\\pi/4$', r'$\\pi/2$', r'$3\\pi/4$', r'$\\pi$'], fontsize = 16)\n",
    "plt.yticks(fontsize=16)\n",
    "plt.grid()\n",
    "plt.ylim([0,1.05])\n",
    "plt.ylabel(r'$C(\\theta)$')\n",
    "plt.xlabel(r'$\\theta$ (radian)')"
   ]
  },
  {
   "attachments": {},
   "cell_type": "markdown",
   "metadata": {},
   "source": [
    "### Model for revival"
   ]
  },
  {
   "cell_type": "code",
   "execution_count": null,
   "metadata": {
    "ExecuteTime": {
     "end_time": "2022-11-30T15:13:10.378010Z",
     "start_time": "2022-11-30T15:13:10.366898Z"
    }
   },
   "outputs": [],
   "source": [
    "C_revival_exp = C_all[0]/correction_decorr_0"
   ]
  },
  {
   "cell_type": "code",
   "execution_count": null,
   "metadata": {
    "ExecuteTime": {
     "end_time": "2022-11-30T15:17:18.520615Z",
     "start_time": "2022-11-30T15:17:17.314854Z"
    }
   },
   "outputs": [],
   "source": [
    "TM_rnd = np.random.randn(nmodes, nmodes)+1j*np.random.randn(nmodes, nmodes)\n",
    "# TM_rnd = np.exp(1j*np.random.randn(nmodes, nmodes)*2*np.pi)\n",
    "mask_ballistic = np.eye(nmodes, nmodes)\n",
    "mask_beta = 1/(deltaBeta**2+7.5e-6)\n",
    "mask_beta = mask_beta/np.max(mask_beta)\n",
    "mask_m = np.abs(deltaM) == 2\n",
    "coeff = 0.23\n",
    "\n",
    "TM_model = mask_ballistic+TM_rnd*coeff*mask_beta*mask_m\n",
    "\n",
    "plt.figure()\n",
    "plt.imshow(np.abs(TM_model))\n",
    "plt.figure()\n",
    "plt.imshow(sort(np.abs(TM_model)))"
   ]
  },
  {
   "cell_type": "code",
   "execution_count": null,
   "metadata": {
    "ExecuteTime": {
     "end_time": "2022-11-30T15:13:14.531388Z",
     "start_time": "2022-11-30T15:13:14.506166Z"
    }
   },
   "outputs": [],
   "source": [
    "TM_model.shape"
   ]
  },
  {
   "cell_type": "code",
   "execution_count": null,
   "metadata": {
    "ExecuteTime": {
     "end_time": "2022-11-30T15:18:36.382454Z",
     "start_time": "2022-11-30T15:17:30.037972Z"
    }
   },
   "outputs": [],
   "source": [
    "C_model_TM = []\n",
    "\n",
    "TM_model_with_bend = TM_model@TMs_bends[1]\n",
    "\n",
    "for angle in tqdm(angles):\n",
    "    R_mat = get_rotation_matrix(m, l, angle)\n",
    "    C_temp = []\n",
    "    for _ in range(n_ave):\n",
    "        vec_in_rnd = (np.random.rand(len(m))-0.5)+1j*(np.random.rand(len(m))-0.5)\n",
    "        \n",
    "        I1_rnd = np.abs(M@R_mat@TM_model_with_bend@vec_in_rnd)**2\n",
    "        I2_rnd = np.abs(M@TM_model_with_bend@R_mat@vec_in_rnd)**2\n",
    "        C_temp.append(corr(I1_rnd,I2_rnd))\n",
    "\n",
    "    C_model_TM.append(np.mean(C_temp))"
   ]
  },
  {
   "cell_type": "code",
   "execution_count": null,
   "metadata": {
    "ExecuteTime": {
     "end_time": "2022-11-30T15:18:39.028873Z",
     "start_time": "2022-11-30T15:18:37.510571Z"
    }
   },
   "outputs": [],
   "source": [
    "ymin = 0.6\n",
    "ymax = 1.01\n",
    "\n",
    "plt.figure(figsize = (12,3.25))\n",
    "plt.subplot(131)\n",
    "plt.plot(angles/np.pi, C_all[0], 'b-')\n",
    "plt.xticks([0,0.5,1], [r'$0$', r'$\\pi/2$', r'$\\pi$'], fontsize = 16)\n",
    "plt.plot(angles/np.pi, C_model_TM, 'g--')\n",
    "plt.yticks(fontsize=16)\n",
    "plt.grid()\n",
    "plt.ylim([ymin,ymax])\n",
    "plt.subplot(132)\n",
    "plt.plot(angles/np.pi, correction_decorr_0, 'b-')\n",
    "plt.xticks([0,0.5,1], [r'$0$', r'$\\pi/2$', r'$\\pi$'], fontsize = 16)\n",
    "plt.yticks(fontsize=16)\n",
    "plt.grid()\n",
    "plt.ylim([ymin,ymax])\n",
    "plt.subplot(133)\n",
    "plt.plot(angles/np.pi, C_revival_exp, 'b-')\n",
    "plt.plot(angles/np.pi, C_model_TM, 'g--')\n",
    "plt.xticks([0,0.5,1], [r'$0$', r'$\\pi/2$', r'$\\pi$'], fontsize = 16)\n",
    "plt.yticks(fontsize=16)\n",
    "plt.grid()\n",
    "plt.ylim([ymin,ymax])\n",
    "plt.tight_layout(pad=2.0)"
   ]
  },
  {
   "attachments": {},
   "cell_type": "markdown",
   "metadata": {},
   "source": [
    "### 2.3.2 Width with Gaussian fit\n",
    "\n",
    "Fit only the upper part of the correlation function ($C>0.8$)"
   ]
  },
  {
   "cell_type": "code",
   "execution_count": null,
   "metadata": {
    "ExecuteTime": {
     "end_time": "2022-11-30T14:32:10.377943Z",
     "start_time": "2022-11-30T14:32:10.377865Z"
    }
   },
   "outputs": [],
   "source": [
    "from scipy.optimize import curve_fit\n",
    "\n",
    "def gauss(x,sigma):\n",
    "    return np.exp(-(x)**2/(2*sigma**2))\n",
    "\n",
    "\n",
    "widths_gauss = []\n",
    "ipr_RME = []\n",
    "for C in C_all:\n",
    "    \n",
    "    C = correction_decorr_0*np.array(C)/C_all[0]\n",
    "\n",
    "    mask = C > 0.5\n",
    "\n",
    "    sigma = np.sum(C*angles**2)/len(C)\n",
    "    popt,pcov = curve_fit(gauss, angles[mask], C[mask], p0=[sigma])\n",
    "    widths_gauss.append(popt[0])\n",
    "\n",
    "    \n",
    "    ipr_RME.append(np.sum(np.abs(C)**2)/np.sum(np.abs(C))**2)\n",
    "\n",
    "    plt.figure()\n",
    "    plt.plot(angles,C)\n",
    "    plt.plot(angles,gauss(angles,*popt),'ro:',label='fit')\n",
    "\n",
    "widths_gauss = np.array(widths_gauss)\n",
    "ipr_RME = np.array(ipr_RME)\n",
    "\n",
    "plt.figure()\n",
    "plt.plot(np.array(widths_gauss)[15:])\n",
    "plt.title(r'$\\sigma_{RME}$')\n",
    "\n",
    "# plt.figure()\n",
    "# plt.plot(ipr_RME/np.pi)"
   ]
  },
  {
   "attachments": {},
   "cell_type": "markdown",
   "metadata": {},
   "source": [
    "## 2.4 Width in $m$ space VS RME width in $\\theta$"
   ]
  },
  {
   "cell_type": "code",
   "execution_count": null,
   "metadata": {
    "ExecuteTime": {
     "end_time": "2022-11-30T14:32:10.382213Z",
     "start_time": "2022-11-30T14:32:10.382157Z"
    }
   },
   "outputs": [],
   "source": [
    "ind_start = 2\n",
    "\n",
    "Y = np.squeeze(np.array(widths_gauss)[ind_start:])\n",
    "X = np.squeeze(np.array(widths_gauss_m_simu_meas)[ind_start:])\n",
    "\n",
    "def fit(x, a, b, c):\n",
    "    return c/(x-a)+b\n",
    "\n",
    "popt,pcov = curve_fit(fit, X, Y, p0=[0,0,1])\n",
    "\n",
    "plt.figure(figsize = (9,6))\n",
    "# plt.subplot(211)\n",
    "plt.plot(X, Y, 'bo', markersize = 8)\n",
    "plt.ylabel(r'$\\delta\\theta_{RME}$ (rad)', fontsize = 16)\n",
    "plt.xlabel(r'$\\delta_{m}$', fontsize = 16)\n",
    "plt.plot(X, fit(X, *popt), 'r')\n",
    "plt.title(rf'$\\delta \\theta = {popt[2]:.2f}/(\\delta_m-{popt[0]:.2f})+{popt[1]:.2f}$')\n",
    "plt.savefig(file_path('delta_RME_vs_delta_m.svg'))\n",
    "plt.xticks(fontsize = 16)\n",
    "plt.yticks(fontsize = 16);"
   ]
  },
  {
   "cell_type": "code",
   "execution_count": null,
   "metadata": {},
   "outputs": [],
   "source": []
  },
  {
   "cell_type": "code",
   "execution_count": null,
   "metadata": {
    "ExecuteTime": {
     "end_time": "2022-11-30T14:32:10.385505Z",
     "start_time": "2022-11-30T14:32:10.385437Z"
    }
   },
   "outputs": [],
   "source": [
    "ind_start = 8\n",
    "\n",
    "Y = np.array(widths_gauss)[ind_start:]\n",
    "X = np.array(widths_gauss_m_simu_meas)[ind_start:]-0.35\n",
    "\n",
    "plt.figure()\n",
    "# plt.subplot(211)\n",
    "plt.plot(1/X, Y, 'bx')\n",
    "plt.xlabel(r'$\\sigma_{RME}$', fontsize = 14)\n",
    "plt.ylabel(r'$1/(\\sigma_{m}-0.28)$', fontsize = 14)\n"
   ]
  },
  {
   "cell_type": "code",
   "execution_count": null,
   "metadata": {
    "ExecuteTime": {
     "end_time": "2022-11-30T14:32:10.392099Z",
     "start_time": "2022-11-30T14:32:10.392042Z"
    },
    "hidden": true
   },
   "outputs": [],
   "source": [
    "Y = np.array(widths_gauss_simu_bend)\n",
    "# X = 1-np.array(ipr_TM_exp)[ind_start:]\n",
    "X = 1/(np.array(widths_gauss_m_simu_bend)-0.25)\n",
    "\n",
    "\n",
    "plt.figure(figsize = (12,10))\n",
    "plt.subplot(211)\n",
    "plt.title('Simulation')\n",
    "plt.plot(X, Y, 'bx')\n",
    "# plt.xlabel(r'1/(1-$ipr(m))$')\n",
    "plt.ylabel(r'$\\sigma(RME)$')\n",
    "plt.xlabel(r'$1/(\\sigma_m-0.15)$')\n",
    "plt.xlim([0, np.max(X)+0.5])\n",
    "plt.ylim([0, np.max(Y)+0.5])\n",
    "\n",
    "ind_start = 8\n",
    "\n",
    "Y = np.array(widths_gauss)[ind_start:]\n",
    "# X = 1-np.array(ipr_TM_exp)[ind_start:]\n",
    "X = 1/(np.array(widths_gauss_m_simu_meas)[ind_start:]-0.3)\n",
    "plt.subplot(212)\n",
    "plt.title('Experiment')\n",
    "plt.plot(X, Y, 'bx')\n",
    "# plt.xlabel(r'1/(1-$ipr(m))$')\n",
    "plt.ylabel(r'$\\sigma(RME)$')\n",
    "plt.xlabel(r'$1/(\\sigma_m-0.3)$')\n",
    "plt.xlim([0, np.max(X)+0.5])\n",
    "plt.ylim([0, np.max(Y)+0.5])"
   ]
  },
  {
   "cell_type": "code",
   "execution_count": null,
   "metadata": {
    "ExecuteTime": {
     "end_time": "2022-11-30T14:32:10.396762Z",
     "start_time": "2022-11-30T14:32:10.396701Z"
    },
    "hidden": true
   },
   "outputs": [],
   "source": [
    "Y = np.array(widths_gauss_simu_bend)\n",
    "# X = 1-np.array(ipr_TM_exp)[ind_start:]\n",
    "X = np.array(widths_gauss_m_simu_bend)#-0.15\n",
    "\n",
    "\n",
    "plt.figure(figsize = (12,10))\n",
    "plt.subplot(211)\n",
    "plt.title('Simulation')\n",
    "plt.plot(X, Y, 'bx')\n",
    "# plt.xlabel(r'1/(1-$ipr(m))$')\n",
    "plt.ylabel(r'$\\sigma(RME)$')\n",
    "plt.xlabel(r'$1/(\\sigma_m-0.15)$')\n",
    "\n",
    "\n",
    "ind_start = 8\n",
    "\n",
    "Y = np.array(widths_gauss)[ind_start:]\n",
    "# X = 1-np.array(ipr_TM_exp)[ind_start:]\n",
    "X = np.array(widths_gauss_m_simu_meas)[ind_start:]#-0.35\n",
    "plt.subplot(212)\n",
    "plt.title('Experiment')\n",
    "plt.plot(X, Y, 'bx')\n",
    "# plt.xlabel(r'1/(1-$ipr(m))$')\n",
    "plt.ylabel(r'$\\sigma(RME)$')\n",
    "plt.xlabel(r'$1/(\\sigma_m-0.35)$')"
   ]
  },
  {
   "cell_type": "code",
   "execution_count": null,
   "metadata": {
    "ExecuteTime": {
     "end_time": "2022-11-30T14:32:10.403336Z",
     "start_time": "2022-11-30T14:32:10.403260Z"
    },
    "hidden": true
   },
   "outputs": [],
   "source": [
    "Y = np.array(widths_gauss_simu_bend)\n",
    "# X = 1-np.array(ipr_TM_exp)[ind_start:]\n",
    "X = np.array(widths_gauss_m_simu_bend)#-0.15\n",
    "\n",
    "\n",
    "plt.figure(figsize = (12,5))\n",
    "plt.title('Simulation')\n",
    "plt.loglog(X, Y, 'bx')\n",
    "# plt.xlabel(r'1/(1-$ipr(m))$')\n",
    "plt.ylabel(r'$\\sigma(RME)$')\n",
    "plt.xlabel(r'$1/(\\sigma_m-0.15)$')\n",
    "\n",
    "\n",
    "ind_start = 8\n",
    "\n",
    "Y = np.array(widths_gauss)[ind_start:]#+0.3\n",
    "# X = 1-np.array(ipr_TM_exp)[ind_start:]\n",
    "X = np.array(widths_gauss_m_simu_meas)[ind_start:]-0.04#-0.35-\n",
    "plt.title('Experiment')\n",
    "plt.loglog(X, Y, 'rx')\n",
    "# plt.xlabel(r'1/(1-$ipr(m))$')\n",
    "plt.ylabel(r'$\\sigma(RME)$')\n",
    "plt.xlabel(r'$1/(\\sigma_m-0.35)$')"
   ]
  },
  {
   "cell_type": "raw",
   "metadata": {
    "ExecuteTime": {
     "end_time": "2022-11-30T14:32:10.410365Z",
     "start_time": "2022-11-30T14:32:10.410237Z"
    },
    "hidden": true
   },
   "source": [
    "Y1 = np.array(widths_gauss_simu_bend)\n",
    "Y1 = Y1*1/4+1.35\n",
    "# X = 1-np.array(ipr_TM_exp)[ind_start:]\n",
    "X1 = np.array(widths_gauss_m_simu_bend)#-0.15\n",
    "\n",
    "\n",
    "plt.figure(figsize = (12,10))\n",
    "\n",
    "plt.plot(1/X1, Y1, 'bx')\n",
    "# plt.xlabel(r'1/(1-$ipr(m))$')\n",
    "plt.ylabel(r'$\\sigma(RME)$')\n",
    "plt.xlabel(r'$1/(\\sigma_m-0.28)$')\n",
    "\n",
    "\n",
    "ind_start = 8\n",
    "\n",
    "Y2 = np.array(widths_gauss)[ind_start:]\n",
    "# X = 1-np.array(ipr_TM_exp)[ind_start:]\n",
    "X2 = np.array(widths_gauss_m_simu_meas)[ind_start:]-0.35\n",
    "\n",
    "\n",
    "plt.plot(1/X2, Y2, 'rx')\n",
    "# plt.xlabel(r'1/(1-$ipr(m))$')\n",
    "plt.ylabel(r'$\\sigma(RME)$')\n",
    "plt.xlabel(r'$1/(\\sigma_m-0.35)$')"
   ]
  }
 ],
 "metadata": {
  "kernelspec": {
   "display_name": "Python 3 (ipykernel)",
   "language": "python",
   "name": "python3"
  },
  "language_info": {
   "codemirror_mode": {
    "name": "ipython",
    "version": 3
   },
   "file_extension": ".py",
   "mimetype": "text/x-python",
   "name": "python",
   "nbconvert_exporter": "python",
   "pygments_lexer": "ipython3",
   "version": "3.8.5"
  },
  "toc": {
   "base_numbering": 1,
   "nav_menu": {},
   "number_sections": true,
   "sideBar": true,
   "skip_h1_title": false,
   "title_cell": "Table of Contents",
   "title_sidebar": "Contents",
   "toc_cell": false,
   "toc_position": {
    "height": "calc(100% - 180px)",
    "left": "10px",
    "top": "150px",
    "width": "329.733px"
   },
   "toc_section_display": true,
   "toc_window_display": true
  },
  "varInspector": {
   "cols": {
    "lenName": 16,
    "lenType": 16,
    "lenVar": 40
   },
   "kernels_config": {
    "python": {
     "delete_cmd_postfix": "",
     "delete_cmd_prefix": "del ",
     "library": "var_list.py",
     "varRefreshCmd": "print(var_dic_list())"
    },
    "r": {
     "delete_cmd_postfix": ") ",
     "delete_cmd_prefix": "rm(",
     "library": "var_list.r",
     "varRefreshCmd": "cat(var_dic_list()) "
    }
   },
   "types_to_exclude": [
    "module",
    "function",
    "builtin_function_or_method",
    "instance",
    "_Feature"
   ],
   "window_display": false
  },
  "vscode": {
   "interpreter": {
    "hash": "43999527d9683fefbb9f8ca9843ec97fb381c10262ac7a6ea8e864bf5d99457d"
   }
  }
 },
 "nbformat": 4,
 "nbformat_minor": 2
}
