{
 "cells": [
  {
   "cell_type": "code",
   "execution_count": 1,
   "metadata": {},
   "outputs": [],
   "source": [
    "from functions import save_complex32, load_complex32, stack_correlation\n",
    "import os\n",
    "import numpy as np\n",
    "import pickle\n",
    "import sys\n",
    "import shutil\n",
    "from pathlib import Path\n",
    "\n",
    "sys.path.append(\"../common\")"
   ]
  },
  {
   "attachments": {},
   "cell_type": "markdown",
   "metadata": {},
   "source": [
    "# This notebook provides the procedure used to filter and decrease the size of the original raw data.\n",
    "\n",
    "**⚠️ Raw data files are not included in this repository due to Github's file size limitations, but they can accessed here: [doi.org/10.5281/zenodo.10058496](https://doi.org/10.5281/zenodo.10058496).**\n",
    "\n",
    "Unzip the content of the files in folders with the same names as the zip file in the directory `Raw_data`\n",
    "\n",
    "This step is only useful to regenerate the processed data from the raw data, it is not necessary for the computation and to generate the figures from the paper.\n"
   ]
  },
  {
   "attachments": {},
   "cell_type": "markdown",
   "metadata": {},
   "source": [
    "# Shrink data\n",
    "\n",
    "**To limit the size of experimental data files in the repository, we extract here a subset of the whole data:**\n",
    "\n",
    "- keep only few values of deformations\n",
    "- take only one output polarization (algined with the input one)\n",
    "- save imaginary and real part as float16 instead of using complex64 (imaginary and real as float32)\n",
    "- use compression\n"
   ]
  },
  {
   "cell_type": "code",
   "execution_count": 2,
   "metadata": {},
   "outputs": [],
   "source": [
    "FIBER = \"Draka_GRIN\"\n",
    "# FIBER = \"TL_GRIN3\"\n",
    "DEFORMATIONS_TO_SAVE = [0, 12, 18, 24, 28]\n",
    "DATA_PATH = Path(\"../Raw_data\") / FIBER\n",
    "NEW_DATA_PATH = Path(\"../Data\") / FIBER\n",
    "FIBER_TYPE = \"SI\" if \"SI\" in FIBER else \"GRIN\"\n",
    "\n",
    "os.makedirs(NEW_DATA_PATH, exist_ok=True)\n",
    "\n",
    "\n",
    "def copy(file_name):\n",
    "    shutil.copy2(DATA_PATH / file_name, NEW_DATA_PATH / file_name)"
   ]
  },
  {
   "cell_type": "code",
   "execution_count": 3,
   "metadata": {},
   "outputs": [],
   "source": [
    "copy(\"param.pkl\")\n",
    "copy(\"modes.npz\")"
   ]
  },
  {
   "attachments": {},
   "cell_type": "markdown",
   "metadata": {},
   "source": [
    "## A. Load parameters\n"
   ]
  },
  {
   "cell_type": "code",
   "execution_count": 4,
   "metadata": {},
   "outputs": [],
   "source": [
    "with open(DATA_PATH / \"param.pkl\", \"rb\") as file:\n",
    "    param = pickle.load(file, encoding=\"latin1\")"
   ]
  },
  {
   "cell_type": "code",
   "execution_count": 5,
   "metadata": {},
   "outputs": [
    {
     "data": {
      "text/plain": [
       "{'NA': 0.2,\n",
       " 'radius': 25,\n",
       " 'name': 'GIF50C',\n",
       " 'type': 'GRIN',\n",
       " 'wl': 1.55,\n",
       " 'n1': 1.46,\n",
       " 'curvature': None,\n",
       " 'length': 2500000.0,\n",
       " 'ipitch': 2.232,\n",
       " 'opitch': 1.2480000000000002,\n",
       " 'inpoints': 30,\n",
       " 'onpoints': 49}"
      ]
     },
     "execution_count": 5,
     "metadata": {},
     "output_type": "execute_result"
    }
   ],
   "source": [
    "param[\"fiber\"]"
   ]
  },
  {
   "cell_type": "code",
   "execution_count": 6,
   "metadata": {},
   "outputs": [
    {
     "data": {
      "text/plain": [
       "<matplotlib.image.AxesImage at 0x7f1413ed65c0>"
      ]
     },
     "execution_count": 6,
     "metadata": {},
     "output_type": "execute_result"
    },
    {
     "data": {
      "image/png": "[encoded data removed]",
      "text/plain": [
       "<Figure size 640x480 with 1 Axes>"
      ]
     },
     "metadata": {},
     "output_type": "display_data"
    }
   ],
   "source": [
    "import matplotlib.pyplot as plt\n",
    "\n",
    "plt.figure()\n",
    "plt.imshow(param[\"modes\"][\"deg_mask\"])"
   ]
  },
  {
   "cell_type": "code",
   "execution_count": 7,
   "metadata": {},
   "outputs": [],
   "source": [
    "# index value at which the tip enters in contact with the fiber\n",
    "contact_ind = param[\"Deformation\"][\"contact_ind\"]\n",
    "press_indices = param[\"Deformation\"][\"press_indices\"]  # [:n_TMs-1]\n",
    "# number of pixels in each axis in the output plane (camera)\n",
    "N_out = param[\"fiber\"][\"onpoints\"]\n",
    "\n",
    "# Deformation in microns\n",
    "Delta_x = np.array(param[\"Deformation\"][\"steps_pressure\"])[press_indices] * 1e3\n",
    "Delta_x -= Delta_x[0]"
   ]
  },
  {
   "cell_type": "code",
   "execution_count": 8,
   "metadata": {},
   "outputs": [],
   "source": [
    "# cut values of DEFORMATIONS_TO_SAVE that are not available\n",
    "DEFORMATIONS_TO_SAVE = [\n",
    "    i for i in DEFORMATIONS_TO_SAVE if i + contact_ind in press_indices\n",
    "]\n",
    "\n",
    "# Get the deformations\n",
    "Delta_x_small = Delta_x[DEFORMATIONS_TO_SAVE]"
   ]
  },
  {
   "cell_type": "code",
   "execution_count": 9,
   "metadata": {},
   "outputs": [],
   "source": [
    "TMs_mode = np.load(DATA_PATH / \"TMs_mode.npy\")\n",
    "nmodes = TMs_mode.shape[-1]\n",
    "TMs_mode = TMs_mode[:, :nmodes, :]\n",
    "TMs_mode = TMs_mode[np.array(DEFORMATIONS_TO_SAVE) +\n",
    "                    contact_ind].astype(np.complex64)"
   ]
  },
  {
   "attachments": {},
   "cell_type": "markdown",
   "metadata": {},
   "source": [
    "## B. Load data\n"
   ]
  },
  {
   "cell_type": "code",
   "execution_count": 10,
   "metadata": {},
   "outputs": [],
   "source": [
    "# experimental data using random rotating masks\n",
    "Ys_rnd = np.load(DATA_PATH / \"Ys_rnd.npy\").astype(np.complex64)\n",
    "\n",
    "# experimental data using for the modes of the RME operators\n",
    "# check if the file exists\n",
    "is_rm = False\n",
    "if (DATA_PATH / \"Ys_rm.npy\").exists():\n",
    "    Ys_rm = np.load(DATA_PATH / \"Ys_rm.npy\").astype(np.complex64)\n",
    "    is_rm = True\n",
    "\n",
    "\n",
    "# experimental rotated focusing (amplitude only)\n",
    "Ys_focus = np.abs(np.load(DATA_PATH / \"Ys_focus.npy\")).astype(np.float32)"
   ]
  },
  {
   "attachments": {},
   "cell_type": "markdown",
   "metadata": {},
   "source": [
    "## C. Reduce size\n"
   ]
  },
  {
   "cell_type": "code",
   "execution_count": 11,
   "metadata": {},
   "outputs": [],
   "source": [
    "Ys_rnd_small = Ys_rnd[DEFORMATIONS_TO_SAVE, ..., :N_out, :]\n",
    "Ys_rnd_small = Ys_rnd_small.reshape(\n",
    "    list(Ys_rnd_small.shape[:-2]) + [N_out * N_out])\n",
    "Ys_focus_small = Ys_focus[DEFORMATIONS_TO_SAVE, ..., :N_out, :]\n",
    "if is_rm:\n",
    "    Ys_rm_small = Ys_rm[DEFORMATIONS_TO_SAVE, ..., :N_out, :]\n",
    "    Ys_rm_small = Ys_rm_small.reshape(\n",
    "        list(Ys_rm_small.shape[:-2]) + [N_out * N_out])"
   ]
  },
  {
   "cell_type": "code",
   "execution_count": 12,
   "metadata": {},
   "outputs": [],
   "source": [
    "Ys_focus_small = Ys_focus[DEFORMATIONS_TO_SAVE, ..., :N_out, :]"
   ]
  },
  {
   "cell_type": "code",
   "execution_count": 13,
   "metadata": {},
   "outputs": [],
   "source": [
    "Ys_rnd_small_p2 = Ys_rnd[DEFORMATIONS_TO_SAVE, ..., N_out:, :]\n",
    "Ys_rnd_small_p2 = Ys_rnd_small_p2.reshape(\n",
    "    list(Ys_rnd_small_p2.shape[:-2]) + [N_out * N_out]\n",
    ")"
   ]
  },
  {
   "attachments": {},
   "cell_type": "markdown",
   "metadata": {},
   "source": [
    "## D. Save new files\n"
   ]
  },
  {
   "cell_type": "code",
   "execution_count": 14,
   "metadata": {},
   "outputs": [],
   "source": [
    "for i, ind in enumerate(DEFORMATIONS_TO_SAVE):\n",
    "    save_complex32(\n",
    "        NEW_DATA_PATH / f\"Ys_rnd_small_p1_{ind}.npz\",\n",
    "        Ys_rnd_small[i],\n",
    "    )\n",
    "\n",
    "for i, ind in enumerate(DEFORMATIONS_TO_SAVE):\n",
    "    save_complex32(\n",
    "        NEW_DATA_PATH / f\"Ys_rnd_small_p2_{ind}.npz\",\n",
    "        Ys_rnd_small_p2[i],\n",
    "    )\n",
    "\n",
    "if is_rm:\n",
    "    save_complex32(\n",
    "        NEW_DATA_PATH / \"Ys_rm_small.npz\",\n",
    "        Ys_rm_small,\n",
    "    )\n",
    "\n",
    "np.save(NEW_DATA_PATH / \"TMs_mode.npy\", TMs_mode)\n",
    "\n",
    "np.save(NEW_DATA_PATH / \"Ys_focus_small.npy\", Ys_focus_small)"
   ]
  },
  {
   "attachments": {},
   "cell_type": "markdown",
   "metadata": {},
   "source": [
    "## E. Store parameters associated with the shrinked data\n"
   ]
  },
  {
   "cell_type": "code",
   "execution_count": 15,
   "metadata": {},
   "outputs": [],
   "source": [
    "pickle.dump(\n",
    "    {\n",
    "        \"Delta_x\": Delta_x_small,\n",
    "        \"deformation_indices\": DEFORMATIONS_TO_SAVE,\n",
    "        \"n_deform\": len(DEFORMATIONS_TO_SAVE),\n",
    "        \"fiber\": FIBER,\n",
    "        \"fiber_type\": FIBER_TYPE,\n",
    "    },\n",
    "    open(NEW_DATA_PATH / \"param_small.pkl\", \"wb\"),\n",
    ")"
   ]
  },
  {
   "attachments": {},
   "cell_type": "markdown",
   "metadata": {},
   "source": [
    "## F. Compute RME correlation curve for all deformations\n"
   ]
  },
  {
   "cell_type": "code",
   "execution_count": 16,
   "metadata": {},
   "outputs": [],
   "source": [
    "n_angles = Ys_rnd.shape[1]\n",
    "n_ave = Ys_rnd.shape[2]\n",
    "n_deform_tot = Ys_rnd.shape[0]\n",
    "\n",
    "Ys_rnd[..., :N_out, :].shape\n",
    "\n",
    "# flatten the two diemnsion axis\n",
    "Ys = Ys_rnd[..., :N_out, :].reshape((n_deform_tot, n_angles, n_ave, -1))\n",
    "\n",
    "# move the axis so that the penultimate one corresponds to angles\n",
    "Ys = np.moveaxis(Ys, -3, -2)\n",
    "\n",
    "# field correlation\n",
    "Ys_ref = Ys[..., 0, :]\n",
    "rnd_corr = stack_correlation(Ys, Ys_ref)\n",
    "\n",
    "\n",
    "angles = np.linspace(0, 2 * np.pi, n_angles)\n",
    "Corr_mean_exp = np.mean(np.abs(rnd_corr), axis=-2)\n",
    "Corr_std_exp = np.std(np.abs(rnd_corr), axis=-2)"
   ]
  },
  {
   "cell_type": "code",
   "execution_count": 17,
   "metadata": {},
   "outputs": [],
   "source": [
    "np.savez(\n",
    "    open(NEW_DATA_PATH / \"RME_corr.npy\", \"wb\"),\n",
    "    Delta_x=Delta_x,\n",
    "    Corr_mean_exp=Corr_mean_exp,\n",
    "    Corr_std_exp=Corr_std_exp,\n",
    "    angles=angles,\n",
    "    fiber=FIBER,\n",
    "    fiber_type=FIBER_TYPE,\n",
    ")"
   ]
  }
 ],
 "metadata": {
  "kernelspec": {
   "display_name": "py38",
   "language": "python",
   "name": "python3"
  },
  "language_info": {
   "codemirror_mode": {
    "name": "ipython",
    "version": 3
   },
   "file_extension": ".py",
   "mimetype": "text/x-python",
   "name": "python",
   "nbconvert_exporter": "python",
   "pygments_lexer": "ipython3",
   "version": "3.10.4"
  },
  "orig_nbformat": 4
 },
 "nbformat": 4,
 "nbformat_minor": 2
}
